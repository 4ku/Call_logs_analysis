{
 "cells": [
  {
   "cell_type": "code",
   "execution_count": 1,
   "metadata": {},
   "outputs": [],
   "source": [
    "import numpy as np\n",
    "import pandas as pd\n",
    "import matplotlib.pyplot as plt\n",
    "import seaborn as sns\n",
    "import mysql.connector"
   ]
  },
  {
   "cell_type": "code",
   "execution_count": 2,
   "metadata": {},
   "outputs": [],
   "source": [
    "db = mysql.connector.connect(\n",
    "  host=\"localhost\",\n",
    "  user=\"root\",\n",
    "  password=\"111111\",\n",
    "    auth_plugin='mysql_native_password',\n",
    "    database='mydb'\n",
    ")"
   ]
  },
  {
   "cell_type": "markdown",
   "metadata": {},
   "source": [
    "**Functions to get data from server**"
   ]
  },
  {
   "cell_type": "code",
   "execution_count": 3,
   "metadata": {},
   "outputs": [],
   "source": [
    "def exec_query(db, query):\n",
    "    cursor = db.cursor()\n",
    "    cursor.execute(query)\n",
    "    res = cursor.fetchall()\n",
    "    db.commit()\n",
    "    return res"
   ]
  },
  {
   "cell_type": "code",
   "execution_count": 4,
   "metadata": {},
   "outputs": [],
   "source": [
    "def get_table(db, table):\n",
    "    data = [list(x) for x in exec_query(db, \"select * from \" + table)]\n",
    "    columns = [x[0] for x in exec_query(db, \"show columns from \" + table)]\n",
    "    return pd.DataFrame(data, columns = columns)"
   ]
  },
  {
   "cell_type": "code",
   "execution_count": 5,
   "metadata": {},
   "outputs": [],
   "source": [
    "def get_all_data(db):\n",
    "    tables = exec_query(db, \"show tables;\")\n",
    "    data = []\n",
    "    for x in tables:\n",
    "        data.append(get_table(db, x[0]))\n",
    "    return data"
   ]
  },
  {
   "cell_type": "code",
   "execution_count": 6,
   "metadata": {},
   "outputs": [],
   "source": [
    "data = get_all_data(db)\n",
    "table_names = exec_query(db, \"show tables;\")"
   ]
  },
  {
   "cell_type": "code",
   "execution_count": 7,
   "metadata": {},
   "outputs": [
    {
     "data": {
      "text/plain": [
       "[('accounts',), ('call_forwarding',), ('call_logs',), ('numbers',), ('rates',)]"
      ]
     },
     "execution_count": 7,
     "metadata": {},
     "output_type": "execute_result"
    }
   ],
   "source": [
    "table_names"
   ]
  },
  {
   "cell_type": "code",
   "execution_count": 8,
   "metadata": {
    "scrolled": false
   },
   "outputs": [
    {
     "name": "stdout",
     "output_type": "stream",
     "text": [
      "accounts\n"
     ]
    },
    {
     "data": {
      "text/html": [
       "<div>\n",
       "<style scoped>\n",
       "    .dataframe tbody tr th:only-of-type {\n",
       "        vertical-align: middle;\n",
       "    }\n",
       "\n",
       "    .dataframe tbody tr th {\n",
       "        vertical-align: top;\n",
       "    }\n",
       "\n",
       "    .dataframe thead th {\n",
       "        text-align: right;\n",
       "    }\n",
       "</style>\n",
       "<table border=\"1\" class=\"dataframe\">\n",
       "  <thead>\n",
       "    <tr style=\"text-align: right;\">\n",
       "      <th></th>\n",
       "      <th>UID</th>\n",
       "      <th>Name</th>\n",
       "    </tr>\n",
       "  </thead>\n",
       "  <tbody>\n",
       "    <tr>\n",
       "      <th>0</th>\n",
       "      <td>4468</td>\n",
       "      <td>Maria</td>\n",
       "    </tr>\n",
       "    <tr>\n",
       "      <th>1</th>\n",
       "      <td>46503</td>\n",
       "      <td>Maria</td>\n",
       "    </tr>\n",
       "    <tr>\n",
       "      <th>2</th>\n",
       "      <td>32112</td>\n",
       "      <td>God</td>\n",
       "    </tr>\n",
       "    <tr>\n",
       "      <th>3</th>\n",
       "      <td>2770</td>\n",
       "      <td>Roman</td>\n",
       "    </tr>\n",
       "    <tr>\n",
       "      <th>4</th>\n",
       "      <td>34913</td>\n",
       "      <td>Pavel</td>\n",
       "    </tr>\n",
       "  </tbody>\n",
       "</table>\n",
       "</div>"
      ],
      "text/plain": [
       "     UID   Name\n",
       "0   4468  Maria\n",
       "1  46503  Maria\n",
       "2  32112    God\n",
       "3   2770  Roman\n",
       "4  34913  Pavel"
      ]
     },
     "metadata": {},
     "output_type": "display_data"
    },
    {
     "name": "stdout",
     "output_type": "stream",
     "text": [
      "\n",
      "call_forwarding\n"
     ]
    },
    {
     "data": {
      "text/html": [
       "<div>\n",
       "<style scoped>\n",
       "    .dataframe tbody tr th:only-of-type {\n",
       "        vertical-align: middle;\n",
       "    }\n",
       "\n",
       "    .dataframe tbody tr th {\n",
       "        vertical-align: top;\n",
       "    }\n",
       "\n",
       "    .dataframe thead th {\n",
       "        text-align: right;\n",
       "    }\n",
       "</style>\n",
       "<table border=\"1\" class=\"dataframe\">\n",
       "  <thead>\n",
       "    <tr style=\"text-align: right;\">\n",
       "      <th></th>\n",
       "      <th>From</th>\n",
       "      <th>To</th>\n",
       "    </tr>\n",
       "  </thead>\n",
       "  <tbody>\n",
       "    <tr>\n",
       "      <th>0</th>\n",
       "      <td>221</td>\n",
       "      <td>580</td>\n",
       "    </tr>\n",
       "    <tr>\n",
       "      <th>1</th>\n",
       "      <td>769</td>\n",
       "      <td>684</td>\n",
       "    </tr>\n",
       "    <tr>\n",
       "      <th>2</th>\n",
       "      <td>338</td>\n",
       "      <td>338</td>\n",
       "    </tr>\n",
       "    <tr>\n",
       "      <th>3</th>\n",
       "      <td>667</td>\n",
       "      <td>580</td>\n",
       "    </tr>\n",
       "    <tr>\n",
       "      <th>4</th>\n",
       "      <td>580</td>\n",
       "      <td>448</td>\n",
       "    </tr>\n",
       "  </tbody>\n",
       "</table>\n",
       "</div>"
      ],
      "text/plain": [
       "   From   To\n",
       "0   221  580\n",
       "1   769  684\n",
       "2   338  338\n",
       "3   667  580\n",
       "4   580  448"
      ]
     },
     "metadata": {},
     "output_type": "display_data"
    },
    {
     "name": "stdout",
     "output_type": "stream",
     "text": [
      "\n",
      "call_logs\n"
     ]
    },
    {
     "data": {
      "text/html": [
       "<div>\n",
       "<style scoped>\n",
       "    .dataframe tbody tr th:only-of-type {\n",
       "        vertical-align: middle;\n",
       "    }\n",
       "\n",
       "    .dataframe tbody tr th {\n",
       "        vertical-align: top;\n",
       "    }\n",
       "\n",
       "    .dataframe thead th {\n",
       "        text-align: right;\n",
       "    }\n",
       "</style>\n",
       "<table border=\"1\" class=\"dataframe\">\n",
       "  <thead>\n",
       "    <tr style=\"text-align: right;\">\n",
       "      <th></th>\n",
       "      <th>Call_id</th>\n",
       "      <th>Call_dir</th>\n",
       "      <th>From</th>\n",
       "      <th>To</th>\n",
       "      <th>UID</th>\n",
       "      <th>Timestamp_start</th>\n",
       "      <th>Timestamp_end</th>\n",
       "    </tr>\n",
       "  </thead>\n",
       "  <tbody>\n",
       "    <tr>\n",
       "      <th>0</th>\n",
       "      <td>1</td>\n",
       "      <td>out</td>\n",
       "      <td>221</td>\n",
       "      <td>987</td>\n",
       "      <td>4468</td>\n",
       "      <td>2019-03-07 17:37:01</td>\n",
       "      <td>2019-03-07 17:37:41</td>\n",
       "    </tr>\n",
       "    <tr>\n",
       "      <th>1</th>\n",
       "      <td>2</td>\n",
       "      <td>out</td>\n",
       "      <td>769</td>\n",
       "      <td>103</td>\n",
       "      <td>46503</td>\n",
       "      <td>2019-03-07 17:37:30</td>\n",
       "      <td>2019-03-07 17:40:40</td>\n",
       "    </tr>\n",
       "    <tr>\n",
       "      <th>2</th>\n",
       "      <td>3</td>\n",
       "      <td>in</td>\n",
       "      <td>675</td>\n",
       "      <td>338</td>\n",
       "      <td>32112</td>\n",
       "      <td>2019-03-07 17:37:35</td>\n",
       "      <td>2019-03-07 17:39:21</td>\n",
       "    </tr>\n",
       "    <tr>\n",
       "      <th>3</th>\n",
       "      <td>4</td>\n",
       "      <td>in</td>\n",
       "      <td>447</td>\n",
       "      <td>667</td>\n",
       "      <td>2770</td>\n",
       "      <td>2019-03-07 17:36:56</td>\n",
       "      <td>2019-03-07 17:37:45</td>\n",
       "    </tr>\n",
       "    <tr>\n",
       "      <th>4</th>\n",
       "      <td>5</td>\n",
       "      <td>in</td>\n",
       "      <td>648</td>\n",
       "      <td>338</td>\n",
       "      <td>8953</td>\n",
       "      <td>2019-03-07 17:37:24</td>\n",
       "      <td>2019-03-07 17:39:03</td>\n",
       "    </tr>\n",
       "  </tbody>\n",
       "</table>\n",
       "</div>"
      ],
      "text/plain": [
       "   Call_id Call_dir  From   To    UID     Timestamp_start       Timestamp_end\n",
       "0        1      out   221  987   4468 2019-03-07 17:37:01 2019-03-07 17:37:41\n",
       "1        2      out   769  103  46503 2019-03-07 17:37:30 2019-03-07 17:40:40\n",
       "2        3       in   675  338  32112 2019-03-07 17:37:35 2019-03-07 17:39:21\n",
       "3        4       in   447  667   2770 2019-03-07 17:36:56 2019-03-07 17:37:45\n",
       "4        5       in   648  338   8953 2019-03-07 17:37:24 2019-03-07 17:39:03"
      ]
     },
     "metadata": {},
     "output_type": "display_data"
    },
    {
     "name": "stdout",
     "output_type": "stream",
     "text": [
      "\n",
      "numbers\n"
     ]
    },
    {
     "data": {
      "text/html": [
       "<div>\n",
       "<style scoped>\n",
       "    .dataframe tbody tr th:only-of-type {\n",
       "        vertical-align: middle;\n",
       "    }\n",
       "\n",
       "    .dataframe tbody tr th {\n",
       "        vertical-align: top;\n",
       "    }\n",
       "\n",
       "    .dataframe thead th {\n",
       "        text-align: right;\n",
       "    }\n",
       "</style>\n",
       "<table border=\"1\" class=\"dataframe\">\n",
       "  <thead>\n",
       "    <tr style=\"text-align: right;\">\n",
       "      <th></th>\n",
       "      <th>UID</th>\n",
       "      <th>Phone_Number</th>\n",
       "    </tr>\n",
       "  </thead>\n",
       "  <tbody>\n",
       "    <tr>\n",
       "      <th>0</th>\n",
       "      <td>4468</td>\n",
       "      <td>221</td>\n",
       "    </tr>\n",
       "    <tr>\n",
       "      <th>1</th>\n",
       "      <td>46503</td>\n",
       "      <td>769</td>\n",
       "    </tr>\n",
       "    <tr>\n",
       "      <th>2</th>\n",
       "      <td>32112</td>\n",
       "      <td>338</td>\n",
       "    </tr>\n",
       "    <tr>\n",
       "      <th>3</th>\n",
       "      <td>2770</td>\n",
       "      <td>667</td>\n",
       "    </tr>\n",
       "    <tr>\n",
       "      <th>4</th>\n",
       "      <td>34913</td>\n",
       "      <td>580</td>\n",
       "    </tr>\n",
       "  </tbody>\n",
       "</table>\n",
       "</div>"
      ],
      "text/plain": [
       "     UID  Phone_Number\n",
       "0   4468           221\n",
       "1  46503           769\n",
       "2  32112           338\n",
       "3   2770           667\n",
       "4  34913           580"
      ]
     },
     "metadata": {},
     "output_type": "display_data"
    },
    {
     "name": "stdout",
     "output_type": "stream",
     "text": [
      "\n",
      "rates\n"
     ]
    },
    {
     "data": {
      "text/html": [
       "<div>\n",
       "<style scoped>\n",
       "    .dataframe tbody tr th:only-of-type {\n",
       "        vertical-align: middle;\n",
       "    }\n",
       "\n",
       "    .dataframe tbody tr th {\n",
       "        vertical-align: top;\n",
       "    }\n",
       "\n",
       "    .dataframe thead th {\n",
       "        text-align: right;\n",
       "    }\n",
       "</style>\n",
       "<table border=\"1\" class=\"dataframe\">\n",
       "  <thead>\n",
       "    <tr style=\"text-align: right;\">\n",
       "      <th></th>\n",
       "      <th>ID</th>\n",
       "      <th>Money</th>\n",
       "      <th>Description</th>\n",
       "    </tr>\n",
       "  </thead>\n",
       "  <tbody>\n",
       "    <tr>\n",
       "      <th>0</th>\n",
       "      <td>1</td>\n",
       "      <td>0.00</td>\n",
       "      <td>for all incoming calls</td>\n",
       "    </tr>\n",
       "    <tr>\n",
       "      <th>1</th>\n",
       "      <td>2</td>\n",
       "      <td>0.00</td>\n",
       "      <td>for outgoing calls to phone numbers from Numbe...</td>\n",
       "    </tr>\n",
       "    <tr>\n",
       "      <th>2</th>\n",
       "      <td>3</td>\n",
       "      <td>0.04</td>\n",
       "      <td>for all other outgoing calls</td>\n",
       "    </tr>\n",
       "  </tbody>\n",
       "</table>\n",
       "</div>"
      ],
      "text/plain": [
       "   ID  Money                                        Description\n",
       "0   1   0.00                             for all incoming calls\n",
       "1   2   0.00  for outgoing calls to phone numbers from Numbe...\n",
       "2   3   0.04                       for all other outgoing calls"
      ]
     },
     "metadata": {},
     "output_type": "display_data"
    },
    {
     "name": "stdout",
     "output_type": "stream",
     "text": [
      "\n"
     ]
    }
   ],
   "source": [
    "for name, table in zip(table_names, data):\n",
    "    print(name[0])\n",
    "    display(table.head())\n",
    "    print()"
   ]
  },
  {
   "cell_type": "markdown",
   "metadata": {},
   "source": [
    "Make a brief look to this tables, we can already say something about database structure.  \n",
    "Some call center collect data about calls. It has clients. Make calls to this client's numbers is free, according to rates. Also calls can forward to another numbers.\n",
    "Let's explore each table separately."
   ]
  },
  {
   "cell_type": "markdown",
   "metadata": {},
   "source": [
    "**Accounts**"
   ]
  },
  {
   "cell_type": "code",
   "execution_count": 9,
   "metadata": {},
   "outputs": [
    {
     "data": {
      "text/html": [
       "<div>\n",
       "<style scoped>\n",
       "    .dataframe tbody tr th:only-of-type {\n",
       "        vertical-align: middle;\n",
       "    }\n",
       "\n",
       "    .dataframe tbody tr th {\n",
       "        vertical-align: top;\n",
       "    }\n",
       "\n",
       "    .dataframe thead th {\n",
       "        text-align: right;\n",
       "    }\n",
       "</style>\n",
       "<table border=\"1\" class=\"dataframe\">\n",
       "  <thead>\n",
       "    <tr style=\"text-align: right;\">\n",
       "      <th></th>\n",
       "      <th>UID</th>\n",
       "      <th>Name</th>\n",
       "    </tr>\n",
       "  </thead>\n",
       "  <tbody>\n",
       "    <tr>\n",
       "      <th>0</th>\n",
       "      <td>4468</td>\n",
       "      <td>Maria</td>\n",
       "    </tr>\n",
       "    <tr>\n",
       "      <th>1</th>\n",
       "      <td>46503</td>\n",
       "      <td>Maria</td>\n",
       "    </tr>\n",
       "    <tr>\n",
       "      <th>2</th>\n",
       "      <td>32112</td>\n",
       "      <td>God</td>\n",
       "    </tr>\n",
       "    <tr>\n",
       "      <th>3</th>\n",
       "      <td>2770</td>\n",
       "      <td>Roman</td>\n",
       "    </tr>\n",
       "    <tr>\n",
       "      <th>4</th>\n",
       "      <td>34913</td>\n",
       "      <td>Pavel</td>\n",
       "    </tr>\n",
       "  </tbody>\n",
       "</table>\n",
       "</div>"
      ],
      "text/plain": [
       "     UID   Name\n",
       "0   4468  Maria\n",
       "1  46503  Maria\n",
       "2  32112    God\n",
       "3   2770  Roman\n",
       "4  34913  Pavel"
      ]
     },
     "execution_count": 9,
     "metadata": {},
     "output_type": "execute_result"
    }
   ],
   "source": [
    "data[0].head()"
   ]
  },
  {
   "cell_type": "markdown",
   "metadata": {},
   "source": [
    "For each UID match a name of person. It doesn't give a lot inforamtion, because one of the reason is that this names is not unique.  "
   ]
  },
  {
   "cell_type": "code",
   "execution_count": 10,
   "metadata": {},
   "outputs": [
    {
     "data": {
      "text/plain": [
       "(85, 2)"
      ]
     },
     "execution_count": 10,
     "metadata": {},
     "output_type": "execute_result"
    }
   ],
   "source": [
    "data[0].shape"
   ]
  },
  {
   "cell_type": "markdown",
   "metadata": {},
   "source": [
    "Let's look, which names are the most common. I know, it's useless"
   ]
  },
  {
   "cell_type": "code",
   "execution_count": 11,
   "metadata": {},
   "outputs": [
    {
     "data": {
      "image/png": "[encoded data removed]",
      "text/plain": [
       "<Figure size 432x288 with 1 Axes>"
      ]
     },
     "metadata": {},
     "output_type": "display_data"
    }
   ],
   "source": [
    "sns.countplot(data[0].Name)\n",
    "plt.tight_layout()"
   ]
  },
  {
   "cell_type": "markdown",
   "metadata": {},
   "source": [
    "Check, is UID unique"
   ]
  },
  {
   "cell_type": "code",
   "execution_count": 12,
   "metadata": {},
   "outputs": [
    {
     "data": {
      "text/html": [
       "<div>\n",
       "<style scoped>\n",
       "    .dataframe tbody tr th:only-of-type {\n",
       "        vertical-align: middle;\n",
       "    }\n",
       "\n",
       "    .dataframe tbody tr th {\n",
       "        vertical-align: top;\n",
       "    }\n",
       "\n",
       "    .dataframe thead th {\n",
       "        text-align: right;\n",
       "    }\n",
       "</style>\n",
       "<table border=\"1\" class=\"dataframe\">\n",
       "  <thead>\n",
       "    <tr style=\"text-align: right;\">\n",
       "      <th></th>\n",
       "      <th>UID</th>\n",
       "      <th>Name</th>\n",
       "    </tr>\n",
       "  </thead>\n",
       "  <tbody>\n",
       "    <tr>\n",
       "      <th>0</th>\n",
       "      <td>4468</td>\n",
       "      <td>Maria</td>\n",
       "    </tr>\n",
       "    <tr>\n",
       "      <th>12</th>\n",
       "      <td>40156</td>\n",
       "      <td>Roman</td>\n",
       "    </tr>\n",
       "    <tr>\n",
       "      <th>26</th>\n",
       "      <td>40156</td>\n",
       "      <td>Roman</td>\n",
       "    </tr>\n",
       "    <tr>\n",
       "      <th>33</th>\n",
       "      <td>19047</td>\n",
       "      <td>Timmy</td>\n",
       "    </tr>\n",
       "    <tr>\n",
       "      <th>64</th>\n",
       "      <td>19047</td>\n",
       "      <td>Denis</td>\n",
       "    </tr>\n",
       "    <tr>\n",
       "      <th>81</th>\n",
       "      <td>4468</td>\n",
       "      <td>Denis</td>\n",
       "    </tr>\n",
       "  </tbody>\n",
       "</table>\n",
       "</div>"
      ],
      "text/plain": [
       "      UID   Name\n",
       "0    4468  Maria\n",
       "12  40156  Roman\n",
       "26  40156  Roman\n",
       "33  19047  Timmy\n",
       "64  19047  Denis\n",
       "81   4468  Denis"
      ]
     },
     "execution_count": 12,
     "metadata": {},
     "output_type": "execute_result"
    }
   ],
   "source": [
    "ind = data[0].UID.value_counts()[(data[0].UID.value_counts()>1)].index\n",
    "data[0][data[0].UID.isin(ind)]"
   ]
  },
  {
   "cell_type": "markdown",
   "metadata": {},
   "source": [
    "The same code in SQL: <br/>\n",
    "`select * from accounts where UID IN (select UID from accounts group by UID having count(*)>1); `\n"
   ]
  },
  {
   "cell_type": "markdown",
   "metadata": {},
   "source": [
    "UID isn't unique. One UID can be used for several people"
   ]
  },
  {
   "cell_type": "code",
   "execution_count": null,
   "metadata": {},
   "outputs": [],
   "source": []
  },
  {
   "cell_type": "markdown",
   "metadata": {},
   "source": [
    "**numbers**"
   ]
  },
  {
   "cell_type": "markdown",
   "metadata": {},
   "source": [
    "We can guess that numbers in this tables are clients of some company. So outcome calls for this clients is free, according to table `rates`."
   ]
  },
  {
   "cell_type": "code",
   "execution_count": 13,
   "metadata": {},
   "outputs": [
    {
     "data": {
      "text/html": [
       "<div>\n",
       "<style scoped>\n",
       "    .dataframe tbody tr th:only-of-type {\n",
       "        vertical-align: middle;\n",
       "    }\n",
       "\n",
       "    .dataframe tbody tr th {\n",
       "        vertical-align: top;\n",
       "    }\n",
       "\n",
       "    .dataframe thead th {\n",
       "        text-align: right;\n",
       "    }\n",
       "</style>\n",
       "<table border=\"1\" class=\"dataframe\">\n",
       "  <thead>\n",
       "    <tr style=\"text-align: right;\">\n",
       "      <th></th>\n",
       "      <th>UID</th>\n",
       "      <th>Phone_Number</th>\n",
       "    </tr>\n",
       "  </thead>\n",
       "  <tbody>\n",
       "    <tr>\n",
       "      <th>0</th>\n",
       "      <td>4468</td>\n",
       "      <td>221</td>\n",
       "    </tr>\n",
       "    <tr>\n",
       "      <th>1</th>\n",
       "      <td>46503</td>\n",
       "      <td>769</td>\n",
       "    </tr>\n",
       "    <tr>\n",
       "      <th>2</th>\n",
       "      <td>32112</td>\n",
       "      <td>338</td>\n",
       "    </tr>\n",
       "    <tr>\n",
       "      <th>3</th>\n",
       "      <td>2770</td>\n",
       "      <td>667</td>\n",
       "    </tr>\n",
       "    <tr>\n",
       "      <th>4</th>\n",
       "      <td>34913</td>\n",
       "      <td>580</td>\n",
       "    </tr>\n",
       "  </tbody>\n",
       "</table>\n",
       "</div>"
      ],
      "text/plain": [
       "     UID  Phone_Number\n",
       "0   4468           221\n",
       "1  46503           769\n",
       "2  32112           338\n",
       "3   2770           667\n",
       "4  34913           580"
      ]
     },
     "execution_count": 13,
     "metadata": {},
     "output_type": "execute_result"
    }
   ],
   "source": [
    "data[3].head()"
   ]
  },
  {
   "cell_type": "code",
   "execution_count": 14,
   "metadata": {},
   "outputs": [
    {
     "data": {
      "text/plain": [
       "(85, 2)"
      ]
     },
     "execution_count": 14,
     "metadata": {},
     "output_type": "execute_result"
    }
   ],
   "source": [
    "data[3].shape"
   ]
  },
  {
   "cell_type": "markdown",
   "metadata": {},
   "source": [
    "Check uniqueness of UID"
   ]
  },
  {
   "cell_type": "code",
   "execution_count": 15,
   "metadata": {},
   "outputs": [
    {
     "data": {
      "text/html": [
       "<div>\n",
       "<style scoped>\n",
       "    .dataframe tbody tr th:only-of-type {\n",
       "        vertical-align: middle;\n",
       "    }\n",
       "\n",
       "    .dataframe tbody tr th {\n",
       "        vertical-align: top;\n",
       "    }\n",
       "\n",
       "    .dataframe thead th {\n",
       "        text-align: right;\n",
       "    }\n",
       "</style>\n",
       "<table border=\"1\" class=\"dataframe\">\n",
       "  <thead>\n",
       "    <tr style=\"text-align: right;\">\n",
       "      <th></th>\n",
       "      <th>UID</th>\n",
       "      <th>Phone_Number</th>\n",
       "    </tr>\n",
       "  </thead>\n",
       "  <tbody>\n",
       "    <tr>\n",
       "      <th>0</th>\n",
       "      <td>4468</td>\n",
       "      <td>221</td>\n",
       "    </tr>\n",
       "    <tr>\n",
       "      <th>12</th>\n",
       "      <td>40156</td>\n",
       "      <td>976</td>\n",
       "    </tr>\n",
       "    <tr>\n",
       "      <th>26</th>\n",
       "      <td>40156</td>\n",
       "      <td>899</td>\n",
       "    </tr>\n",
       "    <tr>\n",
       "      <th>33</th>\n",
       "      <td>19047</td>\n",
       "      <td>888</td>\n",
       "    </tr>\n",
       "    <tr>\n",
       "      <th>64</th>\n",
       "      <td>19047</td>\n",
       "      <td>954</td>\n",
       "    </tr>\n",
       "    <tr>\n",
       "      <th>81</th>\n",
       "      <td>4468</td>\n",
       "      <td>732</td>\n",
       "    </tr>\n",
       "  </tbody>\n",
       "</table>\n",
       "</div>"
      ],
      "text/plain": [
       "      UID  Phone_Number\n",
       "0    4468           221\n",
       "12  40156           976\n",
       "26  40156           899\n",
       "33  19047           888\n",
       "64  19047           954\n",
       "81   4468           732"
      ]
     },
     "execution_count": 15,
     "metadata": {},
     "output_type": "execute_result"
    }
   ],
   "source": [
    "ind = data[3].UID.value_counts()[(data[3].UID.value_counts()>1)].index\n",
    "data[3][data[3].UID.isin(ind)]"
   ]
  },
  {
   "cell_type": "markdown",
   "metadata": {},
   "source": [
    "The same code in SQL: <br/>\n",
    "`select * from numbers where UID IN (select UID from numbers group by UID having count(*)>1);`"
   ]
  },
  {
   "cell_type": "markdown",
   "metadata": {},
   "source": [
    "One UID can be used for several numbers. This UIDs are the same as in table accounts."
   ]
  },
  {
   "cell_type": "markdown",
   "metadata": {},
   "source": [
    "Tables accounts and numbers have the same length. Check if the UIDs column are identical."
   ]
  },
  {
   "cell_type": "code",
   "execution_count": 16,
   "metadata": {},
   "outputs": [
    {
     "data": {
      "text/plain": [
       "True"
      ]
     },
     "execution_count": 16,
     "metadata": {},
     "output_type": "execute_result"
    }
   ],
   "source": [
    "(data[0].UID == data[3].UID).all()"
   ]
  },
  {
   "cell_type": "markdown",
   "metadata": {},
   "source": [
    "They are the same. So we can merge first two tables."
   ]
  },
  {
   "cell_type": "code",
   "execution_count": 17,
   "metadata": {},
   "outputs": [],
   "source": [
    "data[0][\"Phone_Number\"] = data[3].Phone_Number"
   ]
  },
  {
   "cell_type": "code",
   "execution_count": 18,
   "metadata": {
    "scrolled": true
   },
   "outputs": [
    {
     "data": {
      "text/html": [
       "<div>\n",
       "<style scoped>\n",
       "    .dataframe tbody tr th:only-of-type {\n",
       "        vertical-align: middle;\n",
       "    }\n",
       "\n",
       "    .dataframe tbody tr th {\n",
       "        vertical-align: top;\n",
       "    }\n",
       "\n",
       "    .dataframe thead th {\n",
       "        text-align: right;\n",
       "    }\n",
       "</style>\n",
       "<table border=\"1\" class=\"dataframe\">\n",
       "  <thead>\n",
       "    <tr style=\"text-align: right;\">\n",
       "      <th></th>\n",
       "      <th>UID</th>\n",
       "      <th>Name</th>\n",
       "      <th>Phone_Number</th>\n",
       "    </tr>\n",
       "  </thead>\n",
       "  <tbody>\n",
       "    <tr>\n",
       "      <th>0</th>\n",
       "      <td>4468</td>\n",
       "      <td>Maria</td>\n",
       "      <td>221</td>\n",
       "    </tr>\n",
       "    <tr>\n",
       "      <th>1</th>\n",
       "      <td>46503</td>\n",
       "      <td>Maria</td>\n",
       "      <td>769</td>\n",
       "    </tr>\n",
       "    <tr>\n",
       "      <th>2</th>\n",
       "      <td>32112</td>\n",
       "      <td>God</td>\n",
       "      <td>338</td>\n",
       "    </tr>\n",
       "    <tr>\n",
       "      <th>3</th>\n",
       "      <td>2770</td>\n",
       "      <td>Roman</td>\n",
       "      <td>667</td>\n",
       "    </tr>\n",
       "    <tr>\n",
       "      <th>4</th>\n",
       "      <td>34913</td>\n",
       "      <td>Pavel</td>\n",
       "      <td>580</td>\n",
       "    </tr>\n",
       "  </tbody>\n",
       "</table>\n",
       "</div>"
      ],
      "text/plain": [
       "     UID   Name  Phone_Number\n",
       "0   4468  Maria           221\n",
       "1  46503  Maria           769\n",
       "2  32112    God           338\n",
       "3   2770  Roman           667\n",
       "4  34913  Pavel           580"
      ]
     },
     "execution_count": 18,
     "metadata": {},
     "output_type": "execute_result"
    }
   ],
   "source": [
    "data[0].head()"
   ]
  },
  {
   "cell_type": "markdown",
   "metadata": {},
   "source": [
    "The same code in MySql: <br/>\n",
    "<pre>\n",
    "select a.UID, a.Name, b.phone_number from  \n",
    "    (SELECT UID, Name, ROW_NUMBER() OVER(ORDER BY (SELECT NULL)) AS rownum1  \n",
    "    FROM accounts) a  \n",
    "join  \n",
    "    (SELECT UID, phone_number, ROW_NUMBER() OVER(ORDER BY (SELECT NULL)) AS rownum2  \n",
    "    FROM numbers) b   \n",
    "on a.rownum1 = b.rownum2; \n",
    "<pre/>"
   ]
  },
  {
   "cell_type": "code",
   "execution_count": null,
   "metadata": {},
   "outputs": [],
   "source": []
  },
  {
   "cell_type": "markdown",
   "metadata": {},
   "source": [
    "**call_forwarding**"
   ]
  },
  {
   "cell_type": "markdown",
   "metadata": {},
   "source": [
    "`call_forwarding` table obviously shows from which to which numbers calls redirect. I assume that call forwarding always forwards numbers in any cases for each call."
   ]
  },
  {
   "cell_type": "code",
   "execution_count": 19,
   "metadata": {
    "scrolled": true
   },
   "outputs": [
    {
     "data": {
      "text/html": [
       "<div>\n",
       "<style scoped>\n",
       "    .dataframe tbody tr th:only-of-type {\n",
       "        vertical-align: middle;\n",
       "    }\n",
       "\n",
       "    .dataframe tbody tr th {\n",
       "        vertical-align: top;\n",
       "    }\n",
       "\n",
       "    .dataframe thead th {\n",
       "        text-align: right;\n",
       "    }\n",
       "</style>\n",
       "<table border=\"1\" class=\"dataframe\">\n",
       "  <thead>\n",
       "    <tr style=\"text-align: right;\">\n",
       "      <th></th>\n",
       "      <th>From</th>\n",
       "      <th>To</th>\n",
       "    </tr>\n",
       "  </thead>\n",
       "  <tbody>\n",
       "    <tr>\n",
       "      <th>0</th>\n",
       "      <td>221</td>\n",
       "      <td>580</td>\n",
       "    </tr>\n",
       "    <tr>\n",
       "      <th>1</th>\n",
       "      <td>769</td>\n",
       "      <td>684</td>\n",
       "    </tr>\n",
       "    <tr>\n",
       "      <th>2</th>\n",
       "      <td>338</td>\n",
       "      <td>338</td>\n",
       "    </tr>\n",
       "    <tr>\n",
       "      <th>3</th>\n",
       "      <td>667</td>\n",
       "      <td>580</td>\n",
       "    </tr>\n",
       "    <tr>\n",
       "      <th>4</th>\n",
       "      <td>580</td>\n",
       "      <td>448</td>\n",
       "    </tr>\n",
       "  </tbody>\n",
       "</table>\n",
       "</div>"
      ],
      "text/plain": [
       "   From   To\n",
       "0   221  580\n",
       "1   769  684\n",
       "2   338  338\n",
       "3   667  580\n",
       "4   580  448"
      ]
     },
     "execution_count": 19,
     "metadata": {},
     "output_type": "execute_result"
    }
   ],
   "source": [
    "data[1].head()"
   ]
  },
  {
   "cell_type": "code",
   "execution_count": 20,
   "metadata": {
    "scrolled": true
   },
   "outputs": [
    {
     "data": {
      "text/plain": [
       "(49, 2)"
      ]
     },
     "execution_count": 20,
     "metadata": {},
     "output_type": "execute_result"
    }
   ],
   "source": [
    "data[1].shape"
   ]
  },
  {
   "cell_type": "code",
   "execution_count": 21,
   "metadata": {},
   "outputs": [
    {
     "data": {
      "text/plain": [
       "(49, 43)"
      ]
     },
     "execution_count": 21,
     "metadata": {},
     "output_type": "execute_result"
    }
   ],
   "source": [
    "data[1].From.nunique(), data[1].To.nunique()\n",
    "# Mysql: select distinct count(call_forwarding.from) from call_forwarding; - get first number\n",
    "# Mysql: select distinct count(call_forwarding.To) from call_forwarding; - get second number"
   ]
  },
  {
   "cell_type": "markdown",
   "metadata": {},
   "source": [
    "&nbsp;&nbsp; We can see that unique values from `From` column correspond to total number of rows in table. It's mean that we can exactly forward call without ambigious situations.  \n",
    "&nbsp;&nbsp; Now let's check if numbers in `To` column consist in `From` column. "
   ]
  },
  {
   "cell_type": "code",
   "execution_count": 22,
   "metadata": {},
   "outputs": [
    {
     "data": {
      "text/plain": [
       "array([580, 684, 338, 568, 428, 563, 753, 638, 221, 593, 647, 521, 888,\n",
       "       858, 769, 154, 182, 677, 557, 382, 335, 103, 145], dtype=int64)"
      ]
     },
     "execution_count": 22,
     "metadata": {},
     "output_type": "execute_result"
    }
   ],
   "source": [
    "data[1][data[1].To.isin(data[1].From.values)].To.unique()\n",
    "# mysql: select distinct call_forwarding.To from call_forwarding \n",
    "#            where call_forwarding.To In (select call_forwarding.From from call_forwarding);"
   ]
  },
  {
   "cell_type": "markdown",
   "metadata": {},
   "source": [
    "This result means that there is sequence of forwarding calls. Let's find final numbers in each row of this sequence."
   ]
  },
  {
   "cell_type": "code",
   "execution_count": 23,
   "metadata": {
    "scrolled": true
   },
   "outputs": [
    {
     "name": "stdout",
     "output_type": "stream",
     "text": [
      "7\n"
     ]
    }
   ],
   "source": [
    "nums_To = data[1].From.copy()\n",
    "i=0\n",
    "while ~(nums_To.replace(data[1].From.values, data[1].To.values) == nums_To).all():\n",
    "    nums_To = nums_To.replace(data[1].From.values, data[1].To.values)\n",
    "    i+=1\n",
    "print(i)"
   ]
  },
  {
   "cell_type": "markdown",
   "metadata": {},
   "source": [
    "Now we can replace `To` column to our result. "
   ]
  },
  {
   "cell_type": "code",
   "execution_count": 24,
   "metadata": {},
   "outputs": [],
   "source": [
    "data[1].To = nums_To"
   ]
  },
  {
   "cell_type": "code",
   "execution_count": 25,
   "metadata": {},
   "outputs": [
    {
     "data": {
      "text/html": [
       "<div>\n",
       "<style scoped>\n",
       "    .dataframe tbody tr th:only-of-type {\n",
       "        vertical-align: middle;\n",
       "    }\n",
       "\n",
       "    .dataframe tbody tr th {\n",
       "        vertical-align: top;\n",
       "    }\n",
       "\n",
       "    .dataframe thead th {\n",
       "        text-align: right;\n",
       "    }\n",
       "</style>\n",
       "<table border=\"1\" class=\"dataframe\">\n",
       "  <thead>\n",
       "    <tr style=\"text-align: right;\">\n",
       "      <th></th>\n",
       "      <th>From</th>\n",
       "      <th>To</th>\n",
       "    </tr>\n",
       "  </thead>\n",
       "  <tbody>\n",
       "    <tr>\n",
       "      <th>0</th>\n",
       "      <td>221</td>\n",
       "      <td>448</td>\n",
       "    </tr>\n",
       "    <tr>\n",
       "      <th>1</th>\n",
       "      <td>769</td>\n",
       "      <td>732</td>\n",
       "    </tr>\n",
       "    <tr>\n",
       "      <th>2</th>\n",
       "      <td>338</td>\n",
       "      <td>338</td>\n",
       "    </tr>\n",
       "    <tr>\n",
       "      <th>3</th>\n",
       "      <td>667</td>\n",
       "      <td>448</td>\n",
       "    </tr>\n",
       "    <tr>\n",
       "      <th>4</th>\n",
       "      <td>580</td>\n",
       "      <td>448</td>\n",
       "    </tr>\n",
       "    <tr>\n",
       "      <th>5</th>\n",
       "      <td>684</td>\n",
       "      <td>732</td>\n",
       "    </tr>\n",
       "    <tr>\n",
       "      <th>6</th>\n",
       "      <td>272</td>\n",
       "      <td>554</td>\n",
       "    </tr>\n",
       "    <tr>\n",
       "      <th>7</th>\n",
       "      <td>103</td>\n",
       "      <td>814</td>\n",
       "    </tr>\n",
       "    <tr>\n",
       "      <th>8</th>\n",
       "      <td>485</td>\n",
       "      <td>959</td>\n",
       "    </tr>\n",
       "    <tr>\n",
       "      <th>9</th>\n",
       "      <td>858</td>\n",
       "      <td>440</td>\n",
       "    </tr>\n",
       "  </tbody>\n",
       "</table>\n",
       "</div>"
      ],
      "text/plain": [
       "   From   To\n",
       "0   221  448\n",
       "1   769  732\n",
       "2   338  338\n",
       "3   667  448\n",
       "4   580  448\n",
       "5   684  732\n",
       "6   272  554\n",
       "7   103  814\n",
       "8   485  959\n",
       "9   858  440"
      ]
     },
     "execution_count": 25,
     "metadata": {},
     "output_type": "execute_result"
    }
   ],
   "source": [
    "data[1].head(10)"
   ]
  },
  {
   "cell_type": "markdown",
   "metadata": {},
   "source": [
    "The same code in Mysql: \n",
    "<pre>\n",
    "DROP TEMPORARY TABLE IF EXISTS nums_To;  \n",
    "CREATE TEMPORARY TABLE nums_To  \n",
    "select call_forwarding.From , call_forwarding.From as forwarded from  call_forwarding;  \n",
    "  \n",
    "Drop procedure if exists while_loop;  \n",
    "DELIMITER //  \n",
    "CREATE procedure while_loop()  \n",
    "  BEGIN  \n",
    "\tset @i = 0;  \n",
    "    while(@i < 10) Do  \n",
    "\t\tset @i = @i+1;  \n",
    "        update nums_To, call_forwarding  \n",
    "\t\tset nums_To.forwarded = call_forwarding.To  \n",
    "\t\twhere nums_To.forwarded = call_forwarding.From;  \n",
    "    end while;  \n",
    "  END //  \n",
    "    \n",
    "call while_loop();  \n",
    "  \n",
    "update call_forwarding, nums_To  \n",
    "set call_forwarding.To = nums_To.forwarded  \n",
    "where call_forwarding.From = nums_To.From;  \n",
    "</pre>"
   ]
  },
  {
   "cell_type": "code",
   "execution_count": 26,
   "metadata": {
    "scrolled": true
   },
   "outputs": [
    {
     "data": {
      "text/html": [
       "<div>\n",
       "<style scoped>\n",
       "    .dataframe tbody tr th:only-of-type {\n",
       "        vertical-align: middle;\n",
       "    }\n",
       "\n",
       "    .dataframe tbody tr th {\n",
       "        vertical-align: top;\n",
       "    }\n",
       "\n",
       "    .dataframe thead th {\n",
       "        text-align: right;\n",
       "    }\n",
       "</style>\n",
       "<table border=\"1\" class=\"dataframe\">\n",
       "  <thead>\n",
       "    <tr style=\"text-align: right;\">\n",
       "      <th></th>\n",
       "      <th>From</th>\n",
       "      <th>To</th>\n",
       "    </tr>\n",
       "  </thead>\n",
       "  <tbody>\n",
       "    <tr>\n",
       "      <th>21</th>\n",
       "      <td>756</td>\n",
       "      <td>400</td>\n",
       "    </tr>\n",
       "    <tr>\n",
       "      <th>19</th>\n",
       "      <td>647</td>\n",
       "      <td>400</td>\n",
       "    </tr>\n",
       "    <tr>\n",
       "      <th>14</th>\n",
       "      <td>593</td>\n",
       "      <td>400</td>\n",
       "    </tr>\n",
       "    <tr>\n",
       "      <th>10</th>\n",
       "      <td>753</td>\n",
       "      <td>400</td>\n",
       "    </tr>\n",
       "    <tr>\n",
       "      <th>27</th>\n",
       "      <td>883</td>\n",
       "      <td>440</td>\n",
       "    </tr>\n",
       "    <tr>\n",
       "      <th>9</th>\n",
       "      <td>858</td>\n",
       "      <td>440</td>\n",
       "    </tr>\n",
       "    <tr>\n",
       "      <th>47</th>\n",
       "      <td>319</td>\n",
       "      <td>448</td>\n",
       "    </tr>\n",
       "    <tr>\n",
       "      <th>16</th>\n",
       "      <td>912</td>\n",
       "      <td>448</td>\n",
       "    </tr>\n",
       "    <tr>\n",
       "      <th>0</th>\n",
       "      <td>221</td>\n",
       "      <td>448</td>\n",
       "    </tr>\n",
       "    <tr>\n",
       "      <th>4</th>\n",
       "      <td>580</td>\n",
       "      <td>448</td>\n",
       "    </tr>\n",
       "    <tr>\n",
       "      <th>3</th>\n",
       "      <td>667</td>\n",
       "      <td>448</td>\n",
       "    </tr>\n",
       "    <tr>\n",
       "      <th>48</th>\n",
       "      <td>677</td>\n",
       "      <td>496</td>\n",
       "    </tr>\n",
       "    <tr>\n",
       "      <th>32</th>\n",
       "      <td>859</td>\n",
       "      <td>496</td>\n",
       "    </tr>\n",
       "    <tr>\n",
       "      <th>40</th>\n",
       "      <td>521</td>\n",
       "      <td>502</td>\n",
       "    </tr>\n",
       "    <tr>\n",
       "      <th>23</th>\n",
       "      <td>382</td>\n",
       "      <td>502</td>\n",
       "    </tr>\n",
       "    <tr>\n",
       "      <th>39</th>\n",
       "      <td>983</td>\n",
       "      <td>502</td>\n",
       "    </tr>\n",
       "    <tr>\n",
       "      <th>43</th>\n",
       "      <td>289</td>\n",
       "      <td>554</td>\n",
       "    </tr>\n",
       "    <tr>\n",
       "      <th>6</th>\n",
       "      <td>272</td>\n",
       "      <td>554</td>\n",
       "    </tr>\n",
       "    <tr>\n",
       "      <th>42</th>\n",
       "      <td>335</td>\n",
       "      <td>554</td>\n",
       "    </tr>\n",
       "    <tr>\n",
       "      <th>34</th>\n",
       "      <td>428</td>\n",
       "      <td>554</td>\n",
       "    </tr>\n",
       "    <tr>\n",
       "      <th>46</th>\n",
       "      <td>366</td>\n",
       "      <td>599</td>\n",
       "    </tr>\n",
       "    <tr>\n",
       "      <th>37</th>\n",
       "      <td>145</td>\n",
       "      <td>599</td>\n",
       "    </tr>\n",
       "    <tr>\n",
       "      <th>38</th>\n",
       "      <td>182</td>\n",
       "      <td>732</td>\n",
       "    </tr>\n",
       "    <tr>\n",
       "      <th>33</th>\n",
       "      <td>888</td>\n",
       "      <td>732</td>\n",
       "    </tr>\n",
       "    <tr>\n",
       "      <th>31</th>\n",
       "      <td>568</td>\n",
       "      <td>732</td>\n",
       "    </tr>\n",
       "    <tr>\n",
       "      <th>29</th>\n",
       "      <td>557</td>\n",
       "      <td>732</td>\n",
       "    </tr>\n",
       "    <tr>\n",
       "      <th>1</th>\n",
       "      <td>769</td>\n",
       "      <td>732</td>\n",
       "    </tr>\n",
       "    <tr>\n",
       "      <th>24</th>\n",
       "      <td>525</td>\n",
       "      <td>732</td>\n",
       "    </tr>\n",
       "    <tr>\n",
       "      <th>5</th>\n",
       "      <td>684</td>\n",
       "      <td>732</td>\n",
       "    </tr>\n",
       "    <tr>\n",
       "      <th>15</th>\n",
       "      <td>840</td>\n",
       "      <td>814</td>\n",
       "    </tr>\n",
       "    <tr>\n",
       "      <th>44</th>\n",
       "      <td>234</td>\n",
       "      <td>814</td>\n",
       "    </tr>\n",
       "    <tr>\n",
       "      <th>45</th>\n",
       "      <td>638</td>\n",
       "      <td>814</td>\n",
       "    </tr>\n",
       "    <tr>\n",
       "      <th>7</th>\n",
       "      <td>103</td>\n",
       "      <td>814</td>\n",
       "    </tr>\n",
       "    <tr>\n",
       "      <th>28</th>\n",
       "      <td>563</td>\n",
       "      <td>892</td>\n",
       "    </tr>\n",
       "    <tr>\n",
       "      <th>41</th>\n",
       "      <td>476</td>\n",
       "      <td>892</td>\n",
       "    </tr>\n",
       "    <tr>\n",
       "      <th>11</th>\n",
       "      <td>904</td>\n",
       "      <td>892</td>\n",
       "    </tr>\n",
       "    <tr>\n",
       "      <th>30</th>\n",
       "      <td>982</td>\n",
       "      <td>959</td>\n",
       "    </tr>\n",
       "    <tr>\n",
       "      <th>13</th>\n",
       "      <td>154</td>\n",
       "      <td>959</td>\n",
       "    </tr>\n",
       "    <tr>\n",
       "      <th>8</th>\n",
       "      <td>485</td>\n",
       "      <td>959</td>\n",
       "    </tr>\n",
       "  </tbody>\n",
       "</table>\n",
       "</div>"
      ],
      "text/plain": [
       "    From   To\n",
       "21   756  400\n",
       "19   647  400\n",
       "14   593  400\n",
       "10   753  400\n",
       "27   883  440\n",
       "9    858  440\n",
       "47   319  448\n",
       "16   912  448\n",
       "0    221  448\n",
       "4    580  448\n",
       "3    667  448\n",
       "48   677  496\n",
       "32   859  496\n",
       "40   521  502\n",
       "23   382  502\n",
       "39   983  502\n",
       "43   289  554\n",
       "6    272  554\n",
       "42   335  554\n",
       "34   428  554\n",
       "46   366  599\n",
       "37   145  599\n",
       "38   182  732\n",
       "33   888  732\n",
       "31   568  732\n",
       "29   557  732\n",
       "1    769  732\n",
       "24   525  732\n",
       "5    684  732\n",
       "15   840  814\n",
       "44   234  814\n",
       "45   638  814\n",
       "7    103  814\n",
       "28   563  892\n",
       "41   476  892\n",
       "11   904  892\n",
       "30   982  959\n",
       "13   154  959\n",
       "8    485  959"
      ]
     },
     "execution_count": 26,
     "metadata": {},
     "output_type": "execute_result"
    }
   ],
   "source": [
    "ind = data[1].To.value_counts()[(data[1].To.value_counts()>1)].index\n",
    "\n",
    "# Телефоны, на которые переводят больше чем с одного телефона\n",
    "data[1][data[1].To.isin(ind)].sort_values(by=\"To\")"
   ]
  },
  {
   "cell_type": "markdown",
   "metadata": {},
   "source": [
    "**rates**"
   ]
  },
  {
   "cell_type": "markdown",
   "metadata": {},
   "source": [
    "Rates. It's clear"
   ]
  },
  {
   "cell_type": "code",
   "execution_count": 27,
   "metadata": {},
   "outputs": [
    {
     "data": {
      "text/html": [
       "<div>\n",
       "<style scoped>\n",
       "    .dataframe tbody tr th:only-of-type {\n",
       "        vertical-align: middle;\n",
       "    }\n",
       "\n",
       "    .dataframe tbody tr th {\n",
       "        vertical-align: top;\n",
       "    }\n",
       "\n",
       "    .dataframe thead th {\n",
       "        text-align: right;\n",
       "    }\n",
       "</style>\n",
       "<table border=\"1\" class=\"dataframe\">\n",
       "  <thead>\n",
       "    <tr style=\"text-align: right;\">\n",
       "      <th></th>\n",
       "      <th>ID</th>\n",
       "      <th>Money</th>\n",
       "      <th>Description</th>\n",
       "    </tr>\n",
       "  </thead>\n",
       "  <tbody>\n",
       "    <tr>\n",
       "      <th>0</th>\n",
       "      <td>1</td>\n",
       "      <td>0.00</td>\n",
       "      <td>for all incoming calls</td>\n",
       "    </tr>\n",
       "    <tr>\n",
       "      <th>1</th>\n",
       "      <td>2</td>\n",
       "      <td>0.00</td>\n",
       "      <td>for outgoing calls to phone numbers from Numbe...</td>\n",
       "    </tr>\n",
       "    <tr>\n",
       "      <th>2</th>\n",
       "      <td>3</td>\n",
       "      <td>0.04</td>\n",
       "      <td>for all other outgoing calls</td>\n",
       "    </tr>\n",
       "  </tbody>\n",
       "</table>\n",
       "</div>"
      ],
      "text/plain": [
       "   ID  Money                                        Description\n",
       "0   1   0.00                             for all incoming calls\n",
       "1   2   0.00  for outgoing calls to phone numbers from Numbe...\n",
       "2   3   0.04                       for all other outgoing calls"
      ]
     },
     "execution_count": 27,
     "metadata": {},
     "output_type": "execute_result"
    }
   ],
   "source": [
    "data[4].head()"
   ]
  },
  {
   "cell_type": "code",
   "execution_count": 28,
   "metadata": {},
   "outputs": [
    {
     "data": {
      "text/plain": [
       "'for outgoing calls to phone numbers from Numbers table'"
      ]
     },
     "execution_count": 28,
     "metadata": {},
     "output_type": "execute_result"
    }
   ],
   "source": [
    "data[4].Description[1]"
   ]
  },
  {
   "cell_type": "code",
   "execution_count": null,
   "metadata": {},
   "outputs": [],
   "source": []
  },
  {
   "cell_type": "markdown",
   "metadata": {},
   "source": [
    "**call_logs**"
   ]
  },
  {
   "cell_type": "markdown",
   "metadata": {},
   "source": [
    "`call_logs` - information about each call. This table one of the most important, because we can come to different conclusions from this date, for example, count charges of each call."
   ]
  },
  {
   "cell_type": "code",
   "execution_count": 29,
   "metadata": {},
   "outputs": [],
   "source": [
    "table = data[2]"
   ]
  },
  {
   "cell_type": "code",
   "execution_count": 30,
   "metadata": {},
   "outputs": [
    {
     "data": {
      "text/html": [
       "<div>\n",
       "<style scoped>\n",
       "    .dataframe tbody tr th:only-of-type {\n",
       "        vertical-align: middle;\n",
       "    }\n",
       "\n",
       "    .dataframe tbody tr th {\n",
       "        vertical-align: top;\n",
       "    }\n",
       "\n",
       "    .dataframe thead th {\n",
       "        text-align: right;\n",
       "    }\n",
       "</style>\n",
       "<table border=\"1\" class=\"dataframe\">\n",
       "  <thead>\n",
       "    <tr style=\"text-align: right;\">\n",
       "      <th></th>\n",
       "      <th>Call_id</th>\n",
       "      <th>Call_dir</th>\n",
       "      <th>From</th>\n",
       "      <th>To</th>\n",
       "      <th>UID</th>\n",
       "      <th>Timestamp_start</th>\n",
       "      <th>Timestamp_end</th>\n",
       "    </tr>\n",
       "  </thead>\n",
       "  <tbody>\n",
       "    <tr>\n",
       "      <th>0</th>\n",
       "      <td>1</td>\n",
       "      <td>out</td>\n",
       "      <td>221</td>\n",
       "      <td>987</td>\n",
       "      <td>4468</td>\n",
       "      <td>2019-03-07 17:37:01</td>\n",
       "      <td>2019-03-07 17:37:41</td>\n",
       "    </tr>\n",
       "    <tr>\n",
       "      <th>1</th>\n",
       "      <td>2</td>\n",
       "      <td>out</td>\n",
       "      <td>769</td>\n",
       "      <td>103</td>\n",
       "      <td>46503</td>\n",
       "      <td>2019-03-07 17:37:30</td>\n",
       "      <td>2019-03-07 17:40:40</td>\n",
       "    </tr>\n",
       "    <tr>\n",
       "      <th>2</th>\n",
       "      <td>3</td>\n",
       "      <td>in</td>\n",
       "      <td>675</td>\n",
       "      <td>338</td>\n",
       "      <td>32112</td>\n",
       "      <td>2019-03-07 17:37:35</td>\n",
       "      <td>2019-03-07 17:39:21</td>\n",
       "    </tr>\n",
       "    <tr>\n",
       "      <th>3</th>\n",
       "      <td>4</td>\n",
       "      <td>in</td>\n",
       "      <td>447</td>\n",
       "      <td>667</td>\n",
       "      <td>2770</td>\n",
       "      <td>2019-03-07 17:36:56</td>\n",
       "      <td>2019-03-07 17:37:45</td>\n",
       "    </tr>\n",
       "    <tr>\n",
       "      <th>4</th>\n",
       "      <td>5</td>\n",
       "      <td>in</td>\n",
       "      <td>648</td>\n",
       "      <td>338</td>\n",
       "      <td>8953</td>\n",
       "      <td>2019-03-07 17:37:24</td>\n",
       "      <td>2019-03-07 17:39:03</td>\n",
       "    </tr>\n",
       "  </tbody>\n",
       "</table>\n",
       "</div>"
      ],
      "text/plain": [
       "   Call_id Call_dir  From   To    UID     Timestamp_start       Timestamp_end\n",
       "0        1      out   221  987   4468 2019-03-07 17:37:01 2019-03-07 17:37:41\n",
       "1        2      out   769  103  46503 2019-03-07 17:37:30 2019-03-07 17:40:40\n",
       "2        3       in   675  338  32112 2019-03-07 17:37:35 2019-03-07 17:39:21\n",
       "3        4       in   447  667   2770 2019-03-07 17:36:56 2019-03-07 17:37:45\n",
       "4        5       in   648  338   8953 2019-03-07 17:37:24 2019-03-07 17:39:03"
      ]
     },
     "execution_count": 30,
     "metadata": {},
     "output_type": "execute_result"
    }
   ],
   "source": [
    "table.head()"
   ]
  },
  {
   "cell_type": "markdown",
   "metadata": {},
   "source": [
    "We have call forwarding. So let's create new column."
   ]
  },
  {
   "cell_type": "code",
   "execution_count": 31,
   "metadata": {},
   "outputs": [],
   "source": [
    "table[\"with_forward_To\"] = table.To.replace(data[1].From.values, data[1].To.values)"
   ]
  },
  {
   "cell_type": "markdown",
   "metadata": {},
   "source": [
    "Mysql:\n",
    "<pre>\n",
    "update call_logs, call_forwarding\n",
    "set call_logs.To = call_forwarding.To\n",
    "where call_logs.To = call_forwarding.From;\n",
    "<pre/>"
   ]
  },
  {
   "cell_type": "code",
   "execution_count": 32,
   "metadata": {},
   "outputs": [
    {
     "data": {
      "text/plain": [
       "((527, 8), (472, 8))"
      ]
     },
     "execution_count": 32,
     "metadata": {},
     "output_type": "execute_result"
    }
   ],
   "source": [
    "table[table.Call_dir == \"in\"].shape, table[table.Call_dir == \"out\"].shape"
   ]
  },
  {
   "cell_type": "markdown",
   "metadata": {},
   "source": [
    "Numbers of in and out calls are not equal. Now check for uniqueness each call."
   ]
  },
  {
   "cell_type": "code",
   "execution_count": 33,
   "metadata": {
    "scrolled": true
   },
   "outputs": [
    {
     "data": {
      "text/plain": [
       "From  To   Timestamp_start    \n",
       "799   154  2019-03-07 17:37:54    2\n",
       "1000  987  2019-03-07 17:40:00    1\n",
       "525   608  2019-03-07 17:37:55    1\n",
       "538   289  2019-03-07 17:37:50    1\n",
       "      272  2019-03-07 17:39:35    1\n",
       "      103  2019-03-07 17:39:37    1\n",
       "525   976  2019-03-07 17:39:04    1\n",
       "      888  2019-03-07 17:39:01    1\n",
       "           2019-03-07 17:38:20    1\n",
       "      879  2019-03-07 17:39:48    1\n",
       "      859  2019-03-07 17:38:48    1\n",
       "      675  2019-03-07 17:37:30    1\n",
       "      667  2019-03-07 17:36:55    1\n",
       "      647  2019-03-07 17:40:01    1\n",
       "           2019-03-07 17:38:32    1\n",
       "      608  2019-03-07 17:39:17    1\n",
       "           2019-03-07 17:37:29    1\n",
       "521   608  2019-03-07 17:39:19    1\n",
       "525   599  2019-03-07 17:38:23    1\n",
       "      563  2019-03-07 17:38:34    1\n",
       "      525  2019-03-07 17:40:05    1\n",
       "      313  2019-03-07 17:39:34    1\n",
       "      251  2019-03-07 17:39:40    1\n",
       "      207  2019-03-07 17:39:18    1\n",
       "      182  2019-03-07 17:37:34    1\n",
       "      154  2019-03-07 17:39:22    1\n",
       "521   960  2019-03-07 17:38:35    1\n",
       "      879  2019-03-07 17:38:32    1\n",
       "      858  2019-03-07 17:37:53    1\n",
       "      727  2019-03-07 17:38:37    1\n",
       "                                 ..\n",
       "771   879  2019-03-07 17:39:09    1\n",
       "756   859  2019-03-07 17:37:41    1\n",
       "771   684  2019-03-07 17:38:39    1\n",
       "      647  2019-03-07 17:40:11    1\n",
       "      525  2019-03-07 17:37:09    1\n",
       "      521  2019-03-07 17:39:27    1\n",
       "      502  2019-03-07 17:40:17    1\n",
       "      447  2019-03-07 17:38:08    1\n",
       "      382  2019-03-07 17:38:40    1\n",
       "      154  2019-03-07 17:38:29    1\n",
       "769   951  2019-03-07 17:38:32    1\n",
       "      859  2019-03-07 17:39:24    1\n",
       "      684  2019-03-07 17:36:57    1\n",
       "      593  2019-03-07 17:37:49    1\n",
       "      581  2019-03-07 17:37:25    1\n",
       "      580  2019-03-07 17:39:42    1\n",
       "      335  2019-03-07 17:37:51    1\n",
       "      313  2019-03-07 17:37:43    1\n",
       "      207  2019-03-07 17:39:03    1\n",
       "      103  2019-03-07 17:37:30    1\n",
       "766   912  2019-03-07 17:38:12    1\n",
       "      784  2019-03-07 17:40:10    1\n",
       "      684  2019-03-07 17:38:13    1\n",
       "      667  2019-03-07 17:38:02    1\n",
       "      586  2019-03-07 17:38:49    1\n",
       "      154  2019-03-07 17:38:10    1\n",
       "      103  2019-03-07 17:39:35    1\n",
       "756   987  2019-03-07 17:40:01    1\n",
       "           2019-03-07 17:38:46    1\n",
       "103   447  2019-03-07 17:39:25    1\n",
       "Length: 998, dtype: int64"
      ]
     },
     "execution_count": 33,
     "metadata": {},
     "output_type": "execute_result"
    }
   ],
   "source": [
    "table.groupby([\"From\",\"To\",\"Timestamp_start\"]).size().sort_values(ascending=False)"
   ]
  },
  {
   "cell_type": "markdown",
   "metadata": {},
   "source": [
    "We should have two records for each call - one for in call, other for out. But there are only one occasion in the table."
   ]
  },
  {
   "cell_type": "code",
   "execution_count": 34,
   "metadata": {},
   "outputs": [
    {
     "data": {
      "text/html": [
       "<div>\n",
       "<style scoped>\n",
       "    .dataframe tbody tr th:only-of-type {\n",
       "        vertical-align: middle;\n",
       "    }\n",
       "\n",
       "    .dataframe tbody tr th {\n",
       "        vertical-align: top;\n",
       "    }\n",
       "\n",
       "    .dataframe thead th {\n",
       "        text-align: right;\n",
       "    }\n",
       "</style>\n",
       "<table border=\"1\" class=\"dataframe\">\n",
       "  <thead>\n",
       "    <tr style=\"text-align: right;\">\n",
       "      <th></th>\n",
       "      <th>Call_id</th>\n",
       "      <th>Call_dir</th>\n",
       "      <th>From</th>\n",
       "      <th>To</th>\n",
       "      <th>UID</th>\n",
       "      <th>Timestamp_start</th>\n",
       "      <th>Timestamp_end</th>\n",
       "      <th>with_forward_To</th>\n",
       "    </tr>\n",
       "  </thead>\n",
       "  <tbody>\n",
       "    <tr>\n",
       "      <th>173</th>\n",
       "      <td>174</td>\n",
       "      <td>out</td>\n",
       "      <td>799</td>\n",
       "      <td>154</td>\n",
       "      <td>69521</td>\n",
       "      <td>2019-03-07 17:37:54</td>\n",
       "      <td>2019-03-07 17:39:10</td>\n",
       "      <td>959</td>\n",
       "    </tr>\n",
       "    <tr>\n",
       "      <th>178</th>\n",
       "      <td>179</td>\n",
       "      <td>out</td>\n",
       "      <td>799</td>\n",
       "      <td>154</td>\n",
       "      <td>3017</td>\n",
       "      <td>2019-03-07 17:37:54</td>\n",
       "      <td>2019-03-07 17:40:34</td>\n",
       "      <td>959</td>\n",
       "    </tr>\n",
       "  </tbody>\n",
       "</table>\n",
       "</div>"
      ],
      "text/plain": [
       "     Call_id Call_dir  From   To    UID     Timestamp_start  \\\n",
       "173      174      out   799  154  69521 2019-03-07 17:37:54   \n",
       "178      179      out   799  154   3017 2019-03-07 17:37:54   \n",
       "\n",
       "          Timestamp_end  with_forward_To  \n",
       "173 2019-03-07 17:39:10              959  \n",
       "178 2019-03-07 17:40:34              959  "
      ]
     },
     "execution_count": 34,
     "metadata": {},
     "output_type": "execute_result"
    }
   ],
   "source": [
    "table[(table.From == 799) & (table.To == 154)]"
   ]
  },
  {
   "cell_type": "markdown",
   "metadata": {},
   "source": [
    "At first it looks like the same calls, but they have different duration and UID. Strange"
   ]
  },
  {
   "cell_type": "markdown",
   "metadata": {},
   "source": [
    "Check calls between two clients for intersection."
   ]
  },
  {
   "cell_type": "code",
   "execution_count": 35,
   "metadata": {
    "scrolled": true
   },
   "outputs": [],
   "source": [
    "calls = table.groupby([\"From\",\"To\"]).size()\n",
    "calls = calls[calls>1].sort_values(ascending=False).reset_index()"
   ]
  },
  {
   "cell_type": "code",
   "execution_count": 36,
   "metadata": {
    "scrolled": true
   },
   "outputs": [
    {
     "data": {
      "image/png": "[encoded data removed]",
      "text/plain": [
       "<Figure size 432x288 with 1 Axes>"
      ]
     },
     "metadata": {},
     "output_type": "display_data"
    },
    {
     "data": {
      "image/png": "[encoded data removed]",
      "text/plain": [
       "<Figure size 432x288 with 1 Axes>"
      ]
     },
     "metadata": {},
     "output_type": "display_data"
    },
    {
     "data": {
      "image/png": "[encoded data removed]",
      "text/plain": [
       "<Figure size 432x288 with 1 Axes>"
      ]
     },
     "metadata": {},
     "output_type": "display_data"
    },
    {
     "data": {
      "image/png": "[encoded data removed]",
      "text/plain": [
       "<Figure size 432x288 with 1 Axes>"
      ]
     },
     "metadata": {},
     "output_type": "display_data"
    },
    {
     "data": {
      "image/png": "[encoded data removed]",
      "text/plain": [
       "<Figure size 432x288 with 1 Axes>"
      ]
     },
     "metadata": {},
     "output_type": "display_data"
    },
    {
     "data": {
      "image/png": "[encoded data removed]",
      "text/plain": [
       "<Figure size 432x288 with 1 Axes>"
      ]
     },
     "metadata": {},
     "output_type": "display_data"
    },
    {
     "data": {
      "image/png": "[encoded data removed]",
      "text/plain": [
       "<Figure size 432x288 with 1 Axes>"
      ]
     },
     "metadata": {},
     "output_type": "display_data"
    },
    {
     "data": {
      "image/png": "[encoded data removed]",
      "text/plain": [
       "<Figure size 432x288 with 1 Axes>"
      ]
     },
     "metadata": {},
     "output_type": "display_data"
    },
    {
     "data": {
      "image/png": "[encoded data removed]",
      "text/plain": [
       "<Figure size 432x288 with 1 Axes>"
      ]
     },
     "metadata": {},
     "output_type": "display_data"
    },
    {
     "data": {
      "image/png": "[encoded data removed]",
      "text/plain": [
       "<Figure size 432x288 with 1 Axes>"
      ]
     },
     "metadata": {},
     "output_type": "display_data"
    }
   ],
   "source": [
    "for i in range(10):\n",
    "    call = table[(table.From == calls.iloc[i].From) & (table.To == calls.iloc[i].To)]\n",
    "    fig,ax=plt.subplots()\n",
    "    for j in range(call.shape[0]):\n",
    "        start = call.iloc[j].Timestamp_start.to_period(\"S\").ordinal\n",
    "        end = call.iloc[j].Timestamp_end.to_period(\"S\").ordinal\n",
    "        ax.broken_barh([[start, end-start]], (j-0.4,0.8))\n",
    "    ax.set_yticks(range(call.shape[0]))\n",
    "    plt.title(\"Call from: \"+str(calls.iloc[i].From)+\", to: \"+str(calls.iloc[i].To))\n",
    "    plt.tight_layout()"
   ]
  },
  {
   "cell_type": "markdown",
   "metadata": {},
   "source": [
    "We can see, that calls always intersect between each other. Strange too."
   ]
  },
  {
   "cell_type": "code",
   "execution_count": 37,
   "metadata": {},
   "outputs": [],
   "source": [
    "table[\"duration\"] = table[\"Timestamp_end\"] - table[\"Timestamp_start\"]"
   ]
  },
  {
   "cell_type": "code",
   "execution_count": 38,
   "metadata": {
    "scrolled": true
   },
   "outputs": [
    {
     "data": {
      "text/plain": [
       "(Timestamp('2019-03-07 17:36:52'), Timestamp('2019-03-07 17:44:03'))"
      ]
     },
     "execution_count": 38,
     "metadata": {},
     "output_type": "execute_result"
    }
   ],
   "source": [
    "table.Timestamp_start.min(), table.Timestamp_end.max()"
   ]
  },
  {
   "cell_type": "code",
   "execution_count": 39,
   "metadata": {
    "scrolled": true
   },
   "outputs": [
    {
     "data": {
      "text/plain": [
       "(Timedelta('0 days 00:00:07'), Timedelta('0 days 00:04:06'))"
      ]
     },
     "execution_count": 39,
     "metadata": {},
     "output_type": "execute_result"
    }
   ],
   "source": [
    "table.duration.min(), table.duration.max()"
   ]
  },
  {
   "cell_type": "markdown",
   "metadata": {},
   "source": [
    "All call logs are written for 7 minutes. Max call duration is 4 minutes."
   ]
  },
  {
   "cell_type": "markdown",
   "metadata": {},
   "source": [
    "How we could saw earlier, each call is unique. In each record we have client UID, who made call, or client UID, who get call. Find both of them for easier charges computation."
   ]
  },
  {
   "cell_type": "code",
   "execution_count": 40,
   "metadata": {},
   "outputs": [],
   "source": [
    "calls_out = table[table.Call_dir==\"out\"].drop(columns=\"Call_dir\")\n",
    "calls_in = table[table.Call_dir==\"in\"].drop(columns=\"Call_dir\")"
   ]
  },
  {
   "cell_type": "code",
   "execution_count": 41,
   "metadata": {},
   "outputs": [
    {
     "data": {
      "text/html": [
       "<div>\n",
       "<style scoped>\n",
       "    .dataframe tbody tr th:only-of-type {\n",
       "        vertical-align: middle;\n",
       "    }\n",
       "\n",
       "    .dataframe tbody tr th {\n",
       "        vertical-align: top;\n",
       "    }\n",
       "\n",
       "    .dataframe thead th {\n",
       "        text-align: right;\n",
       "    }\n",
       "</style>\n",
       "<table border=\"1\" class=\"dataframe\">\n",
       "  <thead>\n",
       "    <tr style=\"text-align: right;\">\n",
       "      <th></th>\n",
       "      <th>Call_id</th>\n",
       "      <th>From</th>\n",
       "      <th>To</th>\n",
       "      <th>UID</th>\n",
       "      <th>Timestamp_start</th>\n",
       "      <th>Timestamp_end</th>\n",
       "      <th>with_forward_To</th>\n",
       "      <th>duration</th>\n",
       "    </tr>\n",
       "  </thead>\n",
       "  <tbody>\n",
       "    <tr>\n",
       "      <th>0</th>\n",
       "      <td>1</td>\n",
       "      <td>221</td>\n",
       "      <td>987</td>\n",
       "      <td>4468</td>\n",
       "      <td>2019-03-07 17:37:01</td>\n",
       "      <td>2019-03-07 17:37:41</td>\n",
       "      <td>987</td>\n",
       "      <td>00:00:40</td>\n",
       "    </tr>\n",
       "    <tr>\n",
       "      <th>1</th>\n",
       "      <td>2</td>\n",
       "      <td>769</td>\n",
       "      <td>103</td>\n",
       "      <td>46503</td>\n",
       "      <td>2019-03-07 17:37:30</td>\n",
       "      <td>2019-03-07 17:40:40</td>\n",
       "      <td>814</td>\n",
       "      <td>00:03:10</td>\n",
       "    </tr>\n",
       "    <tr>\n",
       "      <th>7</th>\n",
       "      <td>8</td>\n",
       "      <td>684</td>\n",
       "      <td>525</td>\n",
       "      <td>56966</td>\n",
       "      <td>2019-03-07 17:36:52</td>\n",
       "      <td>2019-03-07 17:37:50</td>\n",
       "      <td>732</td>\n",
       "      <td>00:00:58</td>\n",
       "    </tr>\n",
       "    <tr>\n",
       "      <th>10</th>\n",
       "      <td>11</td>\n",
       "      <td>485</td>\n",
       "      <td>593</td>\n",
       "      <td>41468</td>\n",
       "      <td>2019-03-07 17:36:58</td>\n",
       "      <td>2019-03-07 17:38:42</td>\n",
       "      <td>400</td>\n",
       "      <td>00:01:44</td>\n",
       "    </tr>\n",
       "    <tr>\n",
       "      <th>11</th>\n",
       "      <td>12</td>\n",
       "      <td>858</td>\n",
       "      <td>521</td>\n",
       "      <td>88196</td>\n",
       "      <td>2019-03-07 17:37:11</td>\n",
       "      <td>2019-03-07 17:39:48</td>\n",
       "      <td>502</td>\n",
       "      <td>00:02:37</td>\n",
       "    </tr>\n",
       "  </tbody>\n",
       "</table>\n",
       "</div>"
      ],
      "text/plain": [
       "    Call_id  From   To    UID     Timestamp_start       Timestamp_end  \\\n",
       "0         1   221  987   4468 2019-03-07 17:37:01 2019-03-07 17:37:41   \n",
       "1         2   769  103  46503 2019-03-07 17:37:30 2019-03-07 17:40:40   \n",
       "7         8   684  525  56966 2019-03-07 17:36:52 2019-03-07 17:37:50   \n",
       "10       11   485  593  41468 2019-03-07 17:36:58 2019-03-07 17:38:42   \n",
       "11       12   858  521  88196 2019-03-07 17:37:11 2019-03-07 17:39:48   \n",
       "\n",
       "    with_forward_To duration  \n",
       "0               987 00:00:40  \n",
       "1               814 00:03:10  \n",
       "7               732 00:00:58  \n",
       "10              400 00:01:44  \n",
       "11              502 00:02:37  "
      ]
     },
     "execution_count": 41,
     "metadata": {},
     "output_type": "execute_result"
    }
   ],
   "source": [
    "calls_out.head()"
   ]
  },
  {
   "cell_type": "code",
   "execution_count": 42,
   "metadata": {},
   "outputs": [],
   "source": [
    "calls_out.rename({\"UID\": \"UID_From\"}, axis=\"columns\", inplace=True)\n",
    "calls_out = pd.merge(calls_out, data[3], how=\"left\", left_on = \"with_forward_To\", right_on=\"Phone_Number\")\n",
    "calls_out = calls_out.drop(columns=\"Phone_Number\").rename({\"UID\": \"UID_To\"}, axis=\"columns\")"
   ]
  },
  {
   "cell_type": "code",
   "execution_count": 43,
   "metadata": {},
   "outputs": [],
   "source": [
    "calls_in.rename({\"UID\": \"UID_To\"}, axis=\"columns\", inplace=True)\n",
    "calls_in = pd.merge(calls_in, data[3], how=\"left\", left_on = \"From\", right_on=\"Phone_Number\")\n",
    "calls_in = calls_in.drop(columns=\"Phone_Number\").rename({\"UID\": \"UID_From\"}, axis=\"columns\")"
   ]
  },
  {
   "cell_type": "code",
   "execution_count": 44,
   "metadata": {
    "scrolled": true
   },
   "outputs": [
    {
     "data": {
      "text/html": [
       "<div>\n",
       "<style scoped>\n",
       "    .dataframe tbody tr th:only-of-type {\n",
       "        vertical-align: middle;\n",
       "    }\n",
       "\n",
       "    .dataframe tbody tr th {\n",
       "        vertical-align: top;\n",
       "    }\n",
       "\n",
       "    .dataframe thead th {\n",
       "        text-align: right;\n",
       "    }\n",
       "</style>\n",
       "<table border=\"1\" class=\"dataframe\">\n",
       "  <thead>\n",
       "    <tr style=\"text-align: right;\">\n",
       "      <th></th>\n",
       "      <th>Call_id</th>\n",
       "      <th>From</th>\n",
       "      <th>To</th>\n",
       "      <th>UID_From</th>\n",
       "      <th>Timestamp_start</th>\n",
       "      <th>Timestamp_end</th>\n",
       "      <th>with_forward_To</th>\n",
       "      <th>duration</th>\n",
       "      <th>UID_To</th>\n",
       "    </tr>\n",
       "  </thead>\n",
       "  <tbody>\n",
       "    <tr>\n",
       "      <th>0</th>\n",
       "      <td>1</td>\n",
       "      <td>221</td>\n",
       "      <td>987</td>\n",
       "      <td>4468</td>\n",
       "      <td>2019-03-07 17:37:01</td>\n",
       "      <td>2019-03-07 17:37:41</td>\n",
       "      <td>987</td>\n",
       "      <td>00:00:40</td>\n",
       "      <td>10163.0</td>\n",
       "    </tr>\n",
       "    <tr>\n",
       "      <th>1</th>\n",
       "      <td>2</td>\n",
       "      <td>769</td>\n",
       "      <td>103</td>\n",
       "      <td>46503</td>\n",
       "      <td>2019-03-07 17:37:30</td>\n",
       "      <td>2019-03-07 17:40:40</td>\n",
       "      <td>814</td>\n",
       "      <td>00:03:10</td>\n",
       "      <td>NaN</td>\n",
       "    </tr>\n",
       "    <tr>\n",
       "      <th>2</th>\n",
       "      <td>8</td>\n",
       "      <td>684</td>\n",
       "      <td>525</td>\n",
       "      <td>56966</td>\n",
       "      <td>2019-03-07 17:36:52</td>\n",
       "      <td>2019-03-07 17:37:50</td>\n",
       "      <td>732</td>\n",
       "      <td>00:00:58</td>\n",
       "      <td>4468.0</td>\n",
       "    </tr>\n",
       "    <tr>\n",
       "      <th>3</th>\n",
       "      <td>11</td>\n",
       "      <td>485</td>\n",
       "      <td>593</td>\n",
       "      <td>41468</td>\n",
       "      <td>2019-03-07 17:36:58</td>\n",
       "      <td>2019-03-07 17:38:42</td>\n",
       "      <td>400</td>\n",
       "      <td>00:01:44</td>\n",
       "      <td>NaN</td>\n",
       "    </tr>\n",
       "    <tr>\n",
       "      <th>4</th>\n",
       "      <td>12</td>\n",
       "      <td>858</td>\n",
       "      <td>521</td>\n",
       "      <td>88196</td>\n",
       "      <td>2019-03-07 17:37:11</td>\n",
       "      <td>2019-03-07 17:39:48</td>\n",
       "      <td>502</td>\n",
       "      <td>00:02:37</td>\n",
       "      <td>92800.0</td>\n",
       "    </tr>\n",
       "  </tbody>\n",
       "</table>\n",
       "</div>"
      ],
      "text/plain": [
       "   Call_id  From   To  UID_From     Timestamp_start       Timestamp_end  \\\n",
       "0        1   221  987      4468 2019-03-07 17:37:01 2019-03-07 17:37:41   \n",
       "1        2   769  103     46503 2019-03-07 17:37:30 2019-03-07 17:40:40   \n",
       "2        8   684  525     56966 2019-03-07 17:36:52 2019-03-07 17:37:50   \n",
       "3       11   485  593     41468 2019-03-07 17:36:58 2019-03-07 17:38:42   \n",
       "4       12   858  521     88196 2019-03-07 17:37:11 2019-03-07 17:39:48   \n",
       "\n",
       "   with_forward_To duration   UID_To  \n",
       "0              987 00:00:40  10163.0  \n",
       "1              814 00:03:10      NaN  \n",
       "2              732 00:00:58   4468.0  \n",
       "3              400 00:01:44      NaN  \n",
       "4              502 00:02:37  92800.0  "
      ]
     },
     "metadata": {},
     "output_type": "display_data"
    },
    {
     "data": {
      "text/html": [
       "<div>\n",
       "<style scoped>\n",
       "    .dataframe tbody tr th:only-of-type {\n",
       "        vertical-align: middle;\n",
       "    }\n",
       "\n",
       "    .dataframe tbody tr th {\n",
       "        vertical-align: top;\n",
       "    }\n",
       "\n",
       "    .dataframe thead th {\n",
       "        text-align: right;\n",
       "    }\n",
       "</style>\n",
       "<table border=\"1\" class=\"dataframe\">\n",
       "  <thead>\n",
       "    <tr style=\"text-align: right;\">\n",
       "      <th></th>\n",
       "      <th>Call_id</th>\n",
       "      <th>From</th>\n",
       "      <th>To</th>\n",
       "      <th>UID_To</th>\n",
       "      <th>Timestamp_start</th>\n",
       "      <th>Timestamp_end</th>\n",
       "      <th>with_forward_To</th>\n",
       "      <th>duration</th>\n",
       "      <th>UID_From</th>\n",
       "    </tr>\n",
       "  </thead>\n",
       "  <tbody>\n",
       "    <tr>\n",
       "      <th>0</th>\n",
       "      <td>3</td>\n",
       "      <td>675</td>\n",
       "      <td>338</td>\n",
       "      <td>32112</td>\n",
       "      <td>2019-03-07 17:37:35</td>\n",
       "      <td>2019-03-07 17:39:21</td>\n",
       "      <td>338</td>\n",
       "      <td>00:01:46</td>\n",
       "      <td>2502.0</td>\n",
       "    </tr>\n",
       "    <tr>\n",
       "      <th>1</th>\n",
       "      <td>4</td>\n",
       "      <td>447</td>\n",
       "      <td>667</td>\n",
       "      <td>2770</td>\n",
       "      <td>2019-03-07 17:36:56</td>\n",
       "      <td>2019-03-07 17:37:45</td>\n",
       "      <td>448</td>\n",
       "      <td>00:00:49</td>\n",
       "      <td>62995.0</td>\n",
       "    </tr>\n",
       "    <tr>\n",
       "      <th>2</th>\n",
       "      <td>5</td>\n",
       "      <td>648</td>\n",
       "      <td>338</td>\n",
       "      <td>8953</td>\n",
       "      <td>2019-03-07 17:37:24</td>\n",
       "      <td>2019-03-07 17:39:03</td>\n",
       "      <td>338</td>\n",
       "      <td>00:01:39</td>\n",
       "      <td>67835.0</td>\n",
       "    </tr>\n",
       "    <tr>\n",
       "      <th>3</th>\n",
       "      <td>6</td>\n",
       "      <td>954</td>\n",
       "      <td>580</td>\n",
       "      <td>34913</td>\n",
       "      <td>2019-03-07 17:37:07</td>\n",
       "      <td>2019-03-07 17:40:23</td>\n",
       "      <td>448</td>\n",
       "      <td>00:03:16</td>\n",
       "      <td>19047.0</td>\n",
       "    </tr>\n",
       "    <tr>\n",
       "      <th>4</th>\n",
       "      <td>7</td>\n",
       "      <td>769</td>\n",
       "      <td>581</td>\n",
       "      <td>74114</td>\n",
       "      <td>2019-03-07 17:37:25</td>\n",
       "      <td>2019-03-07 17:39:47</td>\n",
       "      <td>581</td>\n",
       "      <td>00:02:22</td>\n",
       "      <td>46503.0</td>\n",
       "    </tr>\n",
       "  </tbody>\n",
       "</table>\n",
       "</div>"
      ],
      "text/plain": [
       "   Call_id  From   To  UID_To     Timestamp_start       Timestamp_end  \\\n",
       "0        3   675  338   32112 2019-03-07 17:37:35 2019-03-07 17:39:21   \n",
       "1        4   447  667    2770 2019-03-07 17:36:56 2019-03-07 17:37:45   \n",
       "2        5   648  338    8953 2019-03-07 17:37:24 2019-03-07 17:39:03   \n",
       "3        6   954  580   34913 2019-03-07 17:37:07 2019-03-07 17:40:23   \n",
       "4        7   769  581   74114 2019-03-07 17:37:25 2019-03-07 17:39:47   \n",
       "\n",
       "   with_forward_To duration  UID_From  \n",
       "0              338 00:01:46    2502.0  \n",
       "1              448 00:00:49   62995.0  \n",
       "2              338 00:01:39   67835.0  \n",
       "3              448 00:03:16   19047.0  \n",
       "4              581 00:02:22   46503.0  "
      ]
     },
     "metadata": {},
     "output_type": "display_data"
    }
   ],
   "source": [
    "display(calls_out.head())\n",
    "display(calls_in.head())"
   ]
  },
  {
   "cell_type": "markdown",
   "metadata": {},
   "source": [
    "The same code in Mysql:\n",
    "<pre>\n",
    "DROP TEMPORARY TABLE IF EXISTS new_call_logs;\n",
    "CREATE TEMPORARY TABLE new_call_logs \n",
    "\t\tselect calls_out.call_id, calls_out.From, calls_out.To,calls_out.UID as UID_From, numbers.UID as UID_To, calls_out.Timestamp_start, calls_out.Timestamp_end  from\n",
    "\t\t(select \\* from call_logs where call_dir=\"out\") as calls_out left join numbers\n",
    "\t\ton calls_out.To = numbers.Phone_number\n",
    "\tunion\n",
    "\t\tselect calls_in.call_id, calls_in.From, calls_in.To, numbers.UID as UID_From, calls_in.UID as UID_To, calls_in.Timestamp_start, calls_in.Timestamp_end  from\n",
    "\t\t(select \\* from call_logs where call_dir=\"in\") as calls_in left join numbers\n",
    "\t\ton calls_in.From = numbers.Phone_number;\n",
    "<pre/>"
   ]
  },
  {
   "cell_type": "code",
   "execution_count": 45,
   "metadata": {},
   "outputs": [
    {
     "data": {
      "text/plain": [
       "(527, 472)"
      ]
     },
     "execution_count": 45,
     "metadata": {},
     "output_type": "execute_result"
    }
   ],
   "source": [
    "calls_in.shape[0], calls_out.shape[0]"
   ]
  },
  {
   "cell_type": "code",
   "execution_count": 46,
   "metadata": {},
   "outputs": [
    {
     "data": {
      "text/plain": [
       "(73, 100)"
      ]
     },
     "execution_count": 46,
     "metadata": {},
     "output_type": "execute_result"
    }
   ],
   "source": [
    "#Number of NANs\n",
    "calls_in[calls_in.UID_From.isnull()].shape[0], calls_out[calls_out.UID_To.isnull()].shape[0]"
   ]
  },
  {
   "cell_type": "code",
   "execution_count": 47,
   "metadata": {
    "scrolled": true
   },
   "outputs": [
    {
     "data": {
      "text/html": [
       "<div>\n",
       "<style scoped>\n",
       "    .dataframe tbody tr th:only-of-type {\n",
       "        vertical-align: middle;\n",
       "    }\n",
       "\n",
       "    .dataframe tbody tr th {\n",
       "        vertical-align: top;\n",
       "    }\n",
       "\n",
       "    .dataframe thead th {\n",
       "        text-align: right;\n",
       "    }\n",
       "</style>\n",
       "<table border=\"1\" class=\"dataframe\">\n",
       "  <thead>\n",
       "    <tr style=\"text-align: right;\">\n",
       "      <th></th>\n",
       "      <th>Call_id</th>\n",
       "      <th>From</th>\n",
       "      <th>To</th>\n",
       "      <th>with_forward_To</th>\n",
       "      <th>UID_From</th>\n",
       "      <th>UID_To</th>\n",
       "      <th>Timestamp_end</th>\n",
       "      <th>Timestamp_start</th>\n",
       "      <th>duration</th>\n",
       "    </tr>\n",
       "  </thead>\n",
       "  <tbody>\n",
       "    <tr>\n",
       "      <th>0</th>\n",
       "      <td>3</td>\n",
       "      <td>675</td>\n",
       "      <td>338</td>\n",
       "      <td>338</td>\n",
       "      <td>2502.0</td>\n",
       "      <td>32112.0</td>\n",
       "      <td>2019-03-07 17:39:21</td>\n",
       "      <td>2019-03-07 17:37:35</td>\n",
       "      <td>00:01:46</td>\n",
       "    </tr>\n",
       "    <tr>\n",
       "      <th>1</th>\n",
       "      <td>4</td>\n",
       "      <td>447</td>\n",
       "      <td>667</td>\n",
       "      <td>448</td>\n",
       "      <td>62995.0</td>\n",
       "      <td>2770.0</td>\n",
       "      <td>2019-03-07 17:37:45</td>\n",
       "      <td>2019-03-07 17:36:56</td>\n",
       "      <td>00:00:49</td>\n",
       "    </tr>\n",
       "    <tr>\n",
       "      <th>2</th>\n",
       "      <td>5</td>\n",
       "      <td>648</td>\n",
       "      <td>338</td>\n",
       "      <td>338</td>\n",
       "      <td>67835.0</td>\n",
       "      <td>8953.0</td>\n",
       "      <td>2019-03-07 17:39:03</td>\n",
       "      <td>2019-03-07 17:37:24</td>\n",
       "      <td>00:01:39</td>\n",
       "    </tr>\n",
       "    <tr>\n",
       "      <th>3</th>\n",
       "      <td>6</td>\n",
       "      <td>954</td>\n",
       "      <td>580</td>\n",
       "      <td>448</td>\n",
       "      <td>19047.0</td>\n",
       "      <td>34913.0</td>\n",
       "      <td>2019-03-07 17:40:23</td>\n",
       "      <td>2019-03-07 17:37:07</td>\n",
       "      <td>00:03:16</td>\n",
       "    </tr>\n",
       "    <tr>\n",
       "      <th>4</th>\n",
       "      <td>7</td>\n",
       "      <td>769</td>\n",
       "      <td>581</td>\n",
       "      <td>581</td>\n",
       "      <td>46503.0</td>\n",
       "      <td>74114.0</td>\n",
       "      <td>2019-03-07 17:39:47</td>\n",
       "      <td>2019-03-07 17:37:25</td>\n",
       "      <td>00:02:22</td>\n",
       "    </tr>\n",
       "  </tbody>\n",
       "</table>\n",
       "</div>"
      ],
      "text/plain": [
       "   Call_id  From   To  with_forward_To  UID_From   UID_To       Timestamp_end  \\\n",
       "0        3   675  338              338    2502.0  32112.0 2019-03-07 17:39:21   \n",
       "1        4   447  667              448   62995.0   2770.0 2019-03-07 17:37:45   \n",
       "2        5   648  338              338   67835.0   8953.0 2019-03-07 17:39:03   \n",
       "3        6   954  580              448   19047.0  34913.0 2019-03-07 17:40:23   \n",
       "4        7   769  581              581   46503.0  74114.0 2019-03-07 17:39:47   \n",
       "\n",
       "      Timestamp_start duration  \n",
       "0 2019-03-07 17:37:35 00:01:46  \n",
       "1 2019-03-07 17:36:56 00:00:49  \n",
       "2 2019-03-07 17:37:24 00:01:39  \n",
       "3 2019-03-07 17:37:07 00:03:16  \n",
       "4 2019-03-07 17:37:25 00:02:22  "
      ]
     },
     "execution_count": 47,
     "metadata": {},
     "output_type": "execute_result"
    }
   ],
   "source": [
    "columns=[\"Call_id\", \"From\",\"To\",\"with_forward_To\",\"UID_From\",\"UID_To\",\"Timestamp_end\",\"Timestamp_start\",\"duration\"]\n",
    "new_table = pd.concat([calls_in, calls_out], ignore_index=True,axis=0,sort=True)[columns]\n",
    "new_table.head()"
   ]
  },
  {
   "cell_type": "markdown",
   "metadata": {},
   "source": [
    "Compute charges. According to rates, charges get from outcome calls, which don't include in Numbers table list."
   ]
  },
  {
   "cell_type": "code",
   "execution_count": 48,
   "metadata": {},
   "outputs": [],
   "source": [
    "dur_sec = pd.Series([x.seconds for x in new_table.duration])\n",
    "new_table[\"charges\"] = ((~new_table.UID_To.isin(data[3].UID))+0)*dur_sec*0.04"
   ]
  },
  {
   "cell_type": "markdown",
   "metadata": {},
   "source": [
    "Mysql:\n",
    "<pre>\n",
    "DROP TEMPORARY TABLE IF EXISTS charges;\n",
    "CREATE TEMPORARY TABLE charges\n",
    "select new_call_logs.Call_id, new_call_logs.From, new_call_logs.To, new_call_logs.UID_From, new_call_logs.UID_to, \n",
    "\t((UNIX_TIMESTAMP(Timestamp_end) - UNIX_TIMESTAMP(Timestamp_start))*0.04)  as charge from new_call_logs;\n",
    "\n",
    "update charges, numbers\n",
    "set charges.charge = 0\n",
    "where charges.UID_To = numbers.UID;\n",
    "<pre/>"
   ]
  },
  {
   "cell_type": "markdown",
   "metadata": {},
   "source": [
    "Total charges"
   ]
  },
  {
   "cell_type": "code",
   "execution_count": 49,
   "metadata": {},
   "outputs": [
    {
     "data": {
      "text/plain": [
       "2836.6000000000004"
      ]
     },
     "execution_count": 49,
     "metadata": {},
     "output_type": "execute_result"
    }
   ],
   "source": [
    "new_table[\"charges\"].sum()\n",
    "# Mysql: select sum(charge) from charges;"
   ]
  },
  {
   "cell_type": "markdown",
   "metadata": {},
   "source": [
    "Let's find the most active users. The most active users make most of calls (number). Also we can take duration of calls as measure."
   ]
  },
  {
   "cell_type": "markdown",
   "metadata": {},
   "source": [
    "Clients, who have most of income calls."
   ]
  },
  {
   "cell_type": "code",
   "execution_count": 50,
   "metadata": {
    "scrolled": true
   },
   "outputs": [
    {
     "data": {
      "text/plain": [
       "UID_To\n",
       "4468.0     55\n",
       "92800.0    31\n",
       "21110.0    30\n",
       "39388.0    29\n",
       "44383.0    25\n",
       "dtype: int64"
      ]
     },
     "execution_count": 50,
     "metadata": {},
     "output_type": "execute_result"
    }
   ],
   "source": [
    "most_calls_To = new_table.groupby(\"UID_To\").size().sort_values(ascending=False)\n",
    "most_calls_To.head()"
   ]
  },
  {
   "cell_type": "markdown",
   "metadata": {},
   "source": [
    "Mysql:\n",
    "<pre>\n",
    "DROP TEMPORARY TABLE IF EXISTS in_UID;\n",
    "CREATE TEMPORARY TABLE in_UID \n",
    "        select UID_To, count(UID_To) as c1 from new_call_logs\n",
    "\t\tgroup by UID_To;\n",
    "        \n",
    "select * from in_UID order by c1 desc Limit 5;\n",
    "<pre/>"
   ]
  },
  {
   "cell_type": "markdown",
   "metadata": {},
   "source": [
    "Clients, who make most of outcome calls."
   ]
  },
  {
   "cell_type": "code",
   "execution_count": 51,
   "metadata": {
    "scrolled": true
   },
   "outputs": [
    {
     "data": {
      "text/plain": [
       "UID_From\n",
       "40156.0    18\n",
       "19047.0    12\n",
       "71788.0    12\n",
       "4468.0     12\n",
       "54820.0    11\n",
       "dtype: int64"
      ]
     },
     "execution_count": 51,
     "metadata": {},
     "output_type": "execute_result"
    }
   ],
   "source": [
    "most_calls_From = new_table.groupby(\"UID_From\").size().sort_values(ascending=False)\n",
    "most_calls_From.head()"
   ]
  },
  {
   "cell_type": "markdown",
   "metadata": {},
   "source": [
    "Mysql:\n",
    "<pre>\n",
    "DROP TEMPORARY TABLE IF EXISTS out_UID;\n",
    "CREATE TEMPORARY TABLE out_UID\n",
    "        select UID_From, count(UID_From) as c2 from new_call_logs\n",
    "\t\tgroup by UID_From;\n",
    "        \n",
    "select * from out_UID order by c2 desc Limit 5;\n",
    "<pre/>"
   ]
  },
  {
   "cell_type": "markdown",
   "metadata": {},
   "source": [
    "Let's combine this results and get top-10 of the most active clients."
   ]
  },
  {
   "cell_type": "code",
   "execution_count": 52,
   "metadata": {},
   "outputs": [
    {
     "data": {
      "text/plain": [
       "4468.0     67.0\n",
       "92800.0    36.0\n",
       "39388.0    34.0\n",
       "21110.0    33.0\n",
       "16963.0    30.0\n",
       "44383.0    29.0\n",
       "98103.0    27.0\n",
       "10163.0    22.0\n",
       "19047.0    22.0\n",
       "80846.0    19.0\n",
       "dtype: float64"
      ]
     },
     "execution_count": 52,
     "metadata": {},
     "output_type": "execute_result"
    }
   ],
   "source": [
    "most_calls = most_calls_To.add(most_calls_From,fill_value=0).sort_values(ascending=False)\n",
    "most_calls.head(10)"
   ]
  },
  {
   "cell_type": "markdown",
   "metadata": {},
   "source": [
    "Mysql:\n",
    "<pre>\n",
    "select in_UID.UID_To, (in_UID.c1 + out_UID.c2) as total from in_UID , out_UID\n",
    "    where in_UID.UID_To = out_UID.UID_From order by total desc limit 10 ;\n",
    "<pre/>"
   ]
  },
  {
   "cell_type": "markdown",
   "metadata": {},
   "source": [
    "Top-10 clients with highest charges."
   ]
  },
  {
   "cell_type": "code",
   "execution_count": 53,
   "metadata": {
    "scrolled": true
   },
   "outputs": [
    {
     "data": {
      "text/html": [
       "<div>\n",
       "<style scoped>\n",
       "    .dataframe tbody tr th:only-of-type {\n",
       "        vertical-align: middle;\n",
       "    }\n",
       "\n",
       "    .dataframe tbody tr th {\n",
       "        vertical-align: top;\n",
       "    }\n",
       "\n",
       "    .dataframe thead th {\n",
       "        text-align: right;\n",
       "    }\n",
       "</style>\n",
       "<table border=\"1\" class=\"dataframe\">\n",
       "  <thead>\n",
       "    <tr style=\"text-align: right;\">\n",
       "      <th></th>\n",
       "      <th>charges</th>\n",
       "    </tr>\n",
       "    <tr>\n",
       "      <th>UID_From</th>\n",
       "      <th></th>\n",
       "    </tr>\n",
       "  </thead>\n",
       "  <tbody>\n",
       "    <tr>\n",
       "      <th>40156.0</th>\n",
       "      <td>86.36</td>\n",
       "    </tr>\n",
       "    <tr>\n",
       "      <th>19047.0</th>\n",
       "      <td>55.32</td>\n",
       "    </tr>\n",
       "    <tr>\n",
       "      <th>84028.0</th>\n",
       "      <td>50.12</td>\n",
       "    </tr>\n",
       "    <tr>\n",
       "      <th>4468.0</th>\n",
       "      <td>48.68</td>\n",
       "    </tr>\n",
       "    <tr>\n",
       "      <th>46503.0</th>\n",
       "      <td>48.60</td>\n",
       "    </tr>\n",
       "    <tr>\n",
       "      <th>10163.0</th>\n",
       "      <td>47.96</td>\n",
       "    </tr>\n",
       "    <tr>\n",
       "      <th>63546.0</th>\n",
       "      <td>47.88</td>\n",
       "    </tr>\n",
       "    <tr>\n",
       "      <th>34913.0</th>\n",
       "      <td>45.44</td>\n",
       "    </tr>\n",
       "    <tr>\n",
       "      <th>71788.0</th>\n",
       "      <td>44.04</td>\n",
       "    </tr>\n",
       "    <tr>\n",
       "      <th>84116.0</th>\n",
       "      <td>42.84</td>\n",
       "    </tr>\n",
       "  </tbody>\n",
       "</table>\n",
       "</div>"
      ],
      "text/plain": [
       "          charges\n",
       "UID_From         \n",
       "40156.0     86.36\n",
       "19047.0     55.32\n",
       "84028.0     50.12\n",
       "4468.0      48.68\n",
       "46503.0     48.60\n",
       "10163.0     47.96\n",
       "63546.0     47.88\n",
       "34913.0     45.44\n",
       "71788.0     44.04\n",
       "84116.0     42.84"
      ]
     },
     "execution_count": 53,
     "metadata": {},
     "output_type": "execute_result"
    }
   ],
   "source": [
    "new_table.groupby(\"UID_From\").agg({\"charges\":np.sum}).sort_values(by=\"charges\", ascending=False).iloc[:10]"
   ]
  },
  {
   "cell_type": "markdown",
   "metadata": {},
   "source": [
    "Mysql:\n",
    "<pre>\n",
    "select UID_From, sum(charge) from charges  where UID_From is not null\n",
    "\tgroup by UID_From order by sum(charge) desc limit 10;\n",
    "<pre/>"
   ]
  },
  {
   "cell_type": "code",
   "execution_count": null,
   "metadata": {},
   "outputs": [],
   "source": []
  },
  {
   "cell_type": "markdown",
   "metadata": {},
   "source": [
    "### User stories"
   ]
  },
  {
   "cell_type": "markdown",
   "metadata": {},
   "source": [
    "1) As client, I want to make calls and get calls to/from other clients to communicate with them.   \n",
    "2) As client, I want to forward calls to my number to another number to centralize my calls.  \n",
    "3) As client, I want have convenient rate to reduce my charges.  \n",
    "4) As System Analyst, I want to get information about calls to analyze it to make a work of call center better.  \n",
    "5) As administrator of call center, I want system analysts, engineers and developers work properly to get fault tolerant system.   "
   ]
  },
  {
   "cell_type": "code",
   "execution_count": null,
   "metadata": {},
   "outputs": [],
   "source": []
  }
 ],
 "metadata": {
  "kernelspec": {
   "display_name": "Python 3",
   "language": "python",
   "name": "python3"
  },
  "language_info": {
   "codemirror_mode": {
    "name": "ipython",
    "version": 3
   },
   "file_extension": ".py",
   "mimetype": "text/x-python",
   "name": "python",
   "nbconvert_exporter": "python",
   "pygments_lexer": "ipython3",
   "version": "3.6.3"
  }
 },
 "nbformat": 4,
 "nbformat_minor": 2
}
