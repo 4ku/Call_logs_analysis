{
 "cells": [
  {
   "cell_type": "code",
   "execution_count": 1,
   "metadata": {},
   "outputs": [],
   "source": [
    "import numpy as np\n",
    "import pandas as pd\n",
    "import matplotlib.pyplot as plt\n",
    "import seaborn as sns\n",
    "import mysql.connector"
   ]
  },
  {
   "cell_type": "code",
   "execution_count": 2,
   "metadata": {},
   "outputs": [],
   "source": [
    "db = mysql.connector.connect(\n",
    "  host=\"localhost\",\n",
    "  user=\"root\",\n",
    "  password=\"111111\",\n",
    "    auth_plugin='mysql_native_password',\n",
    "    database='mydb'\n",
    ")"
   ]
  },
  {
   "cell_type": "markdown",
   "metadata": {},
   "source": [
    "**Functions to get data from server**"
   ]
  },
  {
   "cell_type": "code",
   "execution_count": 3,
   "metadata": {},
   "outputs": [],
   "source": [
    "def exec_query(db, query):\n",
    "    cursor = db.cursor()\n",
    "    cursor.execute(query)\n",
    "    res = cursor.fetchall()\n",
    "    db.commit()\n",
    "    return res"
   ]
  },
  {
   "cell_type": "code",
   "execution_count": 4,
   "metadata": {},
   "outputs": [],
   "source": [
    "def get_table(db, table):\n",
    "    data = [list(x) for x in exec_query(db, \"select * from \" + table)]\n",
    "    columns = [x[0] for x in exec_query(db, \"show columns from \" + table)]\n",
    "    return pd.DataFrame(data, columns = columns)"
   ]
  },
  {
   "cell_type": "code",
   "execution_count": 5,
   "metadata": {},
   "outputs": [],
   "source": [
    "def get_all_data(db):\n",
    "    tables = exec_query(db, \"show tables;\")\n",
    "    data = []\n",
    "    for x in tables:\n",
    "        data.append(get_table(db, x[0]))\n",
    "    return data"
   ]
  },
  {
   "cell_type": "code",
   "execution_count": 6,
   "metadata": {},
   "outputs": [],
   "source": [
    "data = get_all_data(db)\n",
    "table_names = exec_query(db, \"show tables;\")"
   ]
  },
  {
   "cell_type": "code",
   "execution_count": 7,
   "metadata": {},
   "outputs": [
    {
     "data": {
      "text/plain": [
       "[('accounts',), ('call_forwarding',), ('call_logs',), ('numbers',), ('rates',)]"
      ]
     },
     "execution_count": 7,
     "metadata": {},
     "output_type": "execute_result"
    }
   ],
   "source": [
    "table_names"
   ]
  },
  {
   "cell_type": "code",
   "execution_count": 8,
   "metadata": {
    "scrolled": false
   },
   "outputs": [
    {
     "name": "stdout",
     "output_type": "stream",
     "text": [
      "accounts\n"
     ]
    },
    {
     "data": {
      "text/html": [
       "<div>\n",
       "<style scoped>\n",
       "    .dataframe tbody tr th:only-of-type {\n",
       "        vertical-align: middle;\n",
       "    }\n",
       "\n",
       "    .dataframe tbody tr th {\n",
       "        vertical-align: top;\n",
       "    }\n",
       "\n",
       "    .dataframe thead th {\n",
       "        text-align: right;\n",
       "    }\n",
       "</style>\n",
       "<table border=\"1\" class=\"dataframe\">\n",
       "  <thead>\n",
       "    <tr style=\"text-align: right;\">\n",
       "      <th></th>\n",
       "      <th>UID</th>\n",
       "      <th>Name</th>\n",
       "    </tr>\n",
       "  </thead>\n",
       "  <tbody>\n",
       "    <tr>\n",
       "      <th>0</th>\n",
       "      <td>4468</td>\n",
       "      <td>Maria</td>\n",
       "    </tr>\n",
       "    <tr>\n",
       "      <th>1</th>\n",
       "      <td>46503</td>\n",
       "      <td>Maria</td>\n",
       "    </tr>\n",
       "    <tr>\n",
       "      <th>2</th>\n",
       "      <td>32112</td>\n",
       "      <td>God</td>\n",
       "    </tr>\n",
       "    <tr>\n",
       "      <th>3</th>\n",
       "      <td>2770</td>\n",
       "      <td>Roman</td>\n",
       "    </tr>\n",
       "    <tr>\n",
       "      <th>4</th>\n",
       "      <td>34913</td>\n",
       "      <td>Pavel</td>\n",
       "    </tr>\n",
       "  </tbody>\n",
       "</table>\n",
       "</div>"
      ],
      "text/plain": [
       "     UID   Name\n",
       "0   4468  Maria\n",
       "1  46503  Maria\n",
       "2  32112    God\n",
       "3   2770  Roman\n",
       "4  34913  Pavel"
      ]
     },
     "metadata": {},
     "output_type": "display_data"
    },
    {
     "name": "stdout",
     "output_type": "stream",
     "text": [
      "\n",
      "call_forwarding\n"
     ]
    },
    {
     "data": {
      "text/html": [
       "<div>\n",
       "<style scoped>\n",
       "    .dataframe tbody tr th:only-of-type {\n",
       "        vertical-align: middle;\n",
       "    }\n",
       "\n",
       "    .dataframe tbody tr th {\n",
       "        vertical-align: top;\n",
       "    }\n",
       "\n",
       "    .dataframe thead th {\n",
       "        text-align: right;\n",
       "    }\n",
       "</style>\n",
       "<table border=\"1\" class=\"dataframe\">\n",
       "  <thead>\n",
       "    <tr style=\"text-align: right;\">\n",
       "      <th></th>\n",
       "      <th>From</th>\n",
       "      <th>To</th>\n",
       "    </tr>\n",
       "  </thead>\n",
       "  <tbody>\n",
       "    <tr>\n",
       "      <th>0</th>\n",
       "      <td>221</td>\n",
       "      <td>580</td>\n",
       "    </tr>\n",
       "    <tr>\n",
       "      <th>1</th>\n",
       "      <td>769</td>\n",
       "      <td>684</td>\n",
       "    </tr>\n",
       "    <tr>\n",
       "      <th>2</th>\n",
       "      <td>338</td>\n",
       "      <td>338</td>\n",
       "    </tr>\n",
       "    <tr>\n",
       "      <th>3</th>\n",
       "      <td>667</td>\n",
       "      <td>580</td>\n",
       "    </tr>\n",
       "    <tr>\n",
       "      <th>4</th>\n",
       "      <td>580</td>\n",
       "      <td>448</td>\n",
       "    </tr>\n",
       "  </tbody>\n",
       "</table>\n",
       "</div>"
      ],
      "text/plain": [
       "   From   To\n",
       "0   221  580\n",
       "1   769  684\n",
       "2   338  338\n",
       "3   667  580\n",
       "4   580  448"
      ]
     },
     "metadata": {},
     "output_type": "display_data"
    },
    {
     "name": "stdout",
     "output_type": "stream",
     "text": [
      "\n",
      "call_logs\n"
     ]
    },
    {
     "data": {
      "text/html": [
       "<div>\n",
       "<style scoped>\n",
       "    .dataframe tbody tr th:only-of-type {\n",
       "        vertical-align: middle;\n",
       "    }\n",
       "\n",
       "    .dataframe tbody tr th {\n",
       "        vertical-align: top;\n",
       "    }\n",
       "\n",
       "    .dataframe thead th {\n",
       "        text-align: right;\n",
       "    }\n",
       "</style>\n",
       "<table border=\"1\" class=\"dataframe\">\n",
       "  <thead>\n",
       "    <tr style=\"text-align: right;\">\n",
       "      <th></th>\n",
       "      <th>Call_id</th>\n",
       "      <th>Call_dir</th>\n",
       "      <th>From</th>\n",
       "      <th>To</th>\n",
       "      <th>UID</th>\n",
       "      <th>Timestamp_start</th>\n",
       "      <th>Timestamp_end</th>\n",
       "    </tr>\n",
       "  </thead>\n",
       "  <tbody>\n",
       "    <tr>\n",
       "      <th>0</th>\n",
       "      <td>1</td>\n",
       "      <td>out</td>\n",
       "      <td>221</td>\n",
       "      <td>987</td>\n",
       "      <td>4468</td>\n",
       "      <td>2019-03-07 17:37:01</td>\n",
       "      <td>2019-03-07 17:37:41</td>\n",
       "    </tr>\n",
       "    <tr>\n",
       "      <th>1</th>\n",
       "      <td>2</td>\n",
       "      <td>out</td>\n",
       "      <td>769</td>\n",
       "      <td>814</td>\n",
       "      <td>46503</td>\n",
       "      <td>2019-03-07 17:37:30</td>\n",
       "      <td>2019-03-07 17:40:40</td>\n",
       "    </tr>\n",
       "    <tr>\n",
       "      <th>2</th>\n",
       "      <td>3</td>\n",
       "      <td>in</td>\n",
       "      <td>675</td>\n",
       "      <td>338</td>\n",
       "      <td>32112</td>\n",
       "      <td>2019-03-07 17:37:35</td>\n",
       "      <td>2019-03-07 17:39:21</td>\n",
       "    </tr>\n",
       "    <tr>\n",
       "      <th>3</th>\n",
       "      <td>4</td>\n",
       "      <td>in</td>\n",
       "      <td>447</td>\n",
       "      <td>448</td>\n",
       "      <td>2770</td>\n",
       "      <td>2019-03-07 17:36:56</td>\n",
       "      <td>2019-03-07 17:37:45</td>\n",
       "    </tr>\n",
       "    <tr>\n",
       "      <th>4</th>\n",
       "      <td>5</td>\n",
       "      <td>in</td>\n",
       "      <td>648</td>\n",
       "      <td>338</td>\n",
       "      <td>8953</td>\n",
       "      <td>2019-03-07 17:37:24</td>\n",
       "      <td>2019-03-07 17:39:03</td>\n",
       "    </tr>\n",
       "  </tbody>\n",
       "</table>\n",
       "</div>"
      ],
      "text/plain": [
       "   Call_id Call_dir  From   To    UID     Timestamp_start       Timestamp_end\n",
       "0        1      out   221  987   4468 2019-03-07 17:37:01 2019-03-07 17:37:41\n",
       "1        2      out   769  814  46503 2019-03-07 17:37:30 2019-03-07 17:40:40\n",
       "2        3       in   675  338  32112 2019-03-07 17:37:35 2019-03-07 17:39:21\n",
       "3        4       in   447  448   2770 2019-03-07 17:36:56 2019-03-07 17:37:45\n",
       "4        5       in   648  338   8953 2019-03-07 17:37:24 2019-03-07 17:39:03"
      ]
     },
     "metadata": {},
     "output_type": "display_data"
    },
    {
     "name": "stdout",
     "output_type": "stream",
     "text": [
      "\n",
      "numbers\n"
     ]
    },
    {
     "data": {
      "text/html": [
       "<div>\n",
       "<style scoped>\n",
       "    .dataframe tbody tr th:only-of-type {\n",
       "        vertical-align: middle;\n",
       "    }\n",
       "\n",
       "    .dataframe tbody tr th {\n",
       "        vertical-align: top;\n",
       "    }\n",
       "\n",
       "    .dataframe thead th {\n",
       "        text-align: right;\n",
       "    }\n",
       "</style>\n",
       "<table border=\"1\" class=\"dataframe\">\n",
       "  <thead>\n",
       "    <tr style=\"text-align: right;\">\n",
       "      <th></th>\n",
       "      <th>UID</th>\n",
       "      <th>Phone_Number</th>\n",
       "    </tr>\n",
       "  </thead>\n",
       "  <tbody>\n",
       "    <tr>\n",
       "      <th>0</th>\n",
       "      <td>4468</td>\n",
       "      <td>221</td>\n",
       "    </tr>\n",
       "    <tr>\n",
       "      <th>1</th>\n",
       "      <td>46503</td>\n",
       "      <td>769</td>\n",
       "    </tr>\n",
       "    <tr>\n",
       "      <th>2</th>\n",
       "      <td>32112</td>\n",
       "      <td>338</td>\n",
       "    </tr>\n",
       "    <tr>\n",
       "      <th>3</th>\n",
       "      <td>2770</td>\n",
       "      <td>667</td>\n",
       "    </tr>\n",
       "    <tr>\n",
       "      <th>4</th>\n",
       "      <td>34913</td>\n",
       "      <td>580</td>\n",
       "    </tr>\n",
       "  </tbody>\n",
       "</table>\n",
       "</div>"
      ],
      "text/plain": [
       "     UID  Phone_Number\n",
       "0   4468           221\n",
       "1  46503           769\n",
       "2  32112           338\n",
       "3   2770           667\n",
       "4  34913           580"
      ]
     },
     "metadata": {},
     "output_type": "display_data"
    },
    {
     "name": "stdout",
     "output_type": "stream",
     "text": [
      "\n",
      "rates\n"
     ]
    },
    {
     "data": {
      "text/html": [
       "<div>\n",
       "<style scoped>\n",
       "    .dataframe tbody tr th:only-of-type {\n",
       "        vertical-align: middle;\n",
       "    }\n",
       "\n",
       "    .dataframe tbody tr th {\n",
       "        vertical-align: top;\n",
       "    }\n",
       "\n",
       "    .dataframe thead th {\n",
       "        text-align: right;\n",
       "    }\n",
       "</style>\n",
       "<table border=\"1\" class=\"dataframe\">\n",
       "  <thead>\n",
       "    <tr style=\"text-align: right;\">\n",
       "      <th></th>\n",
       "      <th>ID</th>\n",
       "      <th>Money</th>\n",
       "      <th>Description</th>\n",
       "    </tr>\n",
       "  </thead>\n",
       "  <tbody>\n",
       "    <tr>\n",
       "      <th>0</th>\n",
       "      <td>1</td>\n",
       "      <td>0.00</td>\n",
       "      <td>for all incoming calls</td>\n",
       "    </tr>\n",
       "    <tr>\n",
       "      <th>1</th>\n",
       "      <td>2</td>\n",
       "      <td>0.00</td>\n",
       "      <td>for outgoing calls to phone numbers from Numbe...</td>\n",
       "    </tr>\n",
       "    <tr>\n",
       "      <th>2</th>\n",
       "      <td>3</td>\n",
       "      <td>0.04</td>\n",
       "      <td>for all other outgoing calls</td>\n",
       "    </tr>\n",
       "  </tbody>\n",
       "</table>\n",
       "</div>"
      ],
      "text/plain": [
       "   ID  Money                                        Description\n",
       "0   1   0.00                             for all incoming calls\n",
       "1   2   0.00  for outgoing calls to phone numbers from Numbe...\n",
       "2   3   0.04                       for all other outgoing calls"
      ]
     },
     "metadata": {},
     "output_type": "display_data"
    },
    {
     "name": "stdout",
     "output_type": "stream",
     "text": [
      "\n"
     ]
    }
   ],
   "source": [
    "for name, table in zip(table_names, data):\n",
    "    print(name[0])\n",
    "    display(table.head())\n",
    "    print()"
   ]
  },
  {
   "cell_type": "markdown",
   "metadata": {},
   "source": [
    "Let's explore each table separately"
   ]
  },
  {
   "cell_type": "markdown",
   "metadata": {},
   "source": [
    "**Accounts**"
   ]
  },
  {
   "cell_type": "code",
   "execution_count": 9,
   "metadata": {},
   "outputs": [
    {
     "data": {
      "text/html": [
       "<div>\n",
       "<style scoped>\n",
       "    .dataframe tbody tr th:only-of-type {\n",
       "        vertical-align: middle;\n",
       "    }\n",
       "\n",
       "    .dataframe tbody tr th {\n",
       "        vertical-align: top;\n",
       "    }\n",
       "\n",
       "    .dataframe thead th {\n",
       "        text-align: right;\n",
       "    }\n",
       "</style>\n",
       "<table border=\"1\" class=\"dataframe\">\n",
       "  <thead>\n",
       "    <tr style=\"text-align: right;\">\n",
       "      <th></th>\n",
       "      <th>UID</th>\n",
       "      <th>Name</th>\n",
       "    </tr>\n",
       "  </thead>\n",
       "  <tbody>\n",
       "    <tr>\n",
       "      <th>0</th>\n",
       "      <td>4468</td>\n",
       "      <td>Maria</td>\n",
       "    </tr>\n",
       "    <tr>\n",
       "      <th>1</th>\n",
       "      <td>46503</td>\n",
       "      <td>Maria</td>\n",
       "    </tr>\n",
       "    <tr>\n",
       "      <th>2</th>\n",
       "      <td>32112</td>\n",
       "      <td>God</td>\n",
       "    </tr>\n",
       "    <tr>\n",
       "      <th>3</th>\n",
       "      <td>2770</td>\n",
       "      <td>Roman</td>\n",
       "    </tr>\n",
       "    <tr>\n",
       "      <th>4</th>\n",
       "      <td>34913</td>\n",
       "      <td>Pavel</td>\n",
       "    </tr>\n",
       "  </tbody>\n",
       "</table>\n",
       "</div>"
      ],
      "text/plain": [
       "     UID   Name\n",
       "0   4468  Maria\n",
       "1  46503  Maria\n",
       "2  32112    God\n",
       "3   2770  Roman\n",
       "4  34913  Pavel"
      ]
     },
     "execution_count": 9,
     "metadata": {},
     "output_type": "execute_result"
    }
   ],
   "source": [
    "data[0].head()"
   ]
  },
  {
   "cell_type": "code",
   "execution_count": 10,
   "metadata": {},
   "outputs": [
    {
     "data": {
      "text/plain": [
       "(85, 2)"
      ]
     },
     "execution_count": 10,
     "metadata": {},
     "output_type": "execute_result"
    }
   ],
   "source": [
    "data[0].shape"
   ]
  },
  {
   "cell_type": "markdown",
   "metadata": {},
   "source": [
    "Let's look, which names are the most common. I know, it's useless"
   ]
  },
  {
   "cell_type": "code",
   "execution_count": 11,
   "metadata": {},
   "outputs": [
    {
     "data": {
      "image/png": "[encoded data removed]",
      "text/plain": [
       "<Figure size 432x288 with 1 Axes>"
      ]
     },
     "metadata": {},
     "output_type": "display_data"
    }
   ],
   "source": [
    "sns.countplot(data[0].Name)\n",
    "plt.tight_layout()"
   ]
  },
  {
   "cell_type": "markdown",
   "metadata": {},
   "source": [
    "Check, is UID unique"
   ]
  },
  {
   "cell_type": "code",
   "execution_count": 12,
   "metadata": {},
   "outputs": [
    {
     "data": {
      "text/html": [
       "<div>\n",
       "<style scoped>\n",
       "    .dataframe tbody tr th:only-of-type {\n",
       "        vertical-align: middle;\n",
       "    }\n",
       "\n",
       "    .dataframe tbody tr th {\n",
       "        vertical-align: top;\n",
       "    }\n",
       "\n",
       "    .dataframe thead th {\n",
       "        text-align: right;\n",
       "    }\n",
       "</style>\n",
       "<table border=\"1\" class=\"dataframe\">\n",
       "  <thead>\n",
       "    <tr style=\"text-align: right;\">\n",
       "      <th></th>\n",
       "      <th>UID</th>\n",
       "      <th>Name</th>\n",
       "    </tr>\n",
       "  </thead>\n",
       "  <tbody>\n",
       "    <tr>\n",
       "      <th>0</th>\n",
       "      <td>4468</td>\n",
       "      <td>Maria</td>\n",
       "    </tr>\n",
       "    <tr>\n",
       "      <th>12</th>\n",
       "      <td>40156</td>\n",
       "      <td>Roman</td>\n",
       "    </tr>\n",
       "    <tr>\n",
       "      <th>26</th>\n",
       "      <td>40156</td>\n",
       "      <td>Roman</td>\n",
       "    </tr>\n",
       "    <tr>\n",
       "      <th>33</th>\n",
       "      <td>19047</td>\n",
       "      <td>Timmy</td>\n",
       "    </tr>\n",
       "    <tr>\n",
       "      <th>64</th>\n",
       "      <td>19047</td>\n",
       "      <td>Denis</td>\n",
       "    </tr>\n",
       "    <tr>\n",
       "      <th>81</th>\n",
       "      <td>4468</td>\n",
       "      <td>Denis</td>\n",
       "    </tr>\n",
       "  </tbody>\n",
       "</table>\n",
       "</div>"
      ],
      "text/plain": [
       "      UID   Name\n",
       "0    4468  Maria\n",
       "12  40156  Roman\n",
       "26  40156  Roman\n",
       "33  19047  Timmy\n",
       "64  19047  Denis\n",
       "81   4468  Denis"
      ]
     },
     "execution_count": 12,
     "metadata": {},
     "output_type": "execute_result"
    }
   ],
   "source": [
    "ind = data[0].UID.value_counts()[(data[0].UID.value_counts()>1)].index\n",
    "data[0][data[0].UID.isin(ind)]"
   ]
  },
  {
   "cell_type": "markdown",
   "metadata": {},
   "source": [
    "UID isn't unique. One UID can be used for several people"
   ]
  },
  {
   "cell_type": "code",
   "execution_count": null,
   "metadata": {},
   "outputs": [],
   "source": []
  },
  {
   "cell_type": "markdown",
   "metadata": {},
   "source": [
    "**numbers**"
   ]
  },
  {
   "cell_type": "code",
   "execution_count": 13,
   "metadata": {},
   "outputs": [
    {
     "data": {
      "text/html": [
       "<div>\n",
       "<style scoped>\n",
       "    .dataframe tbody tr th:only-of-type {\n",
       "        vertical-align: middle;\n",
       "    }\n",
       "\n",
       "    .dataframe tbody tr th {\n",
       "        vertical-align: top;\n",
       "    }\n",
       "\n",
       "    .dataframe thead th {\n",
       "        text-align: right;\n",
       "    }\n",
       "</style>\n",
       "<table border=\"1\" class=\"dataframe\">\n",
       "  <thead>\n",
       "    <tr style=\"text-align: right;\">\n",
       "      <th></th>\n",
       "      <th>UID</th>\n",
       "      <th>Phone_Number</th>\n",
       "    </tr>\n",
       "  </thead>\n",
       "  <tbody>\n",
       "    <tr>\n",
       "      <th>0</th>\n",
       "      <td>4468</td>\n",
       "      <td>221</td>\n",
       "    </tr>\n",
       "    <tr>\n",
       "      <th>1</th>\n",
       "      <td>46503</td>\n",
       "      <td>769</td>\n",
       "    </tr>\n",
       "    <tr>\n",
       "      <th>2</th>\n",
       "      <td>32112</td>\n",
       "      <td>338</td>\n",
       "    </tr>\n",
       "    <tr>\n",
       "      <th>3</th>\n",
       "      <td>2770</td>\n",
       "      <td>667</td>\n",
       "    </tr>\n",
       "    <tr>\n",
       "      <th>4</th>\n",
       "      <td>34913</td>\n",
       "      <td>580</td>\n",
       "    </tr>\n",
       "  </tbody>\n",
       "</table>\n",
       "</div>"
      ],
      "text/plain": [
       "     UID  Phone_Number\n",
       "0   4468           221\n",
       "1  46503           769\n",
       "2  32112           338\n",
       "3   2770           667\n",
       "4  34913           580"
      ]
     },
     "execution_count": 13,
     "metadata": {},
     "output_type": "execute_result"
    }
   ],
   "source": [
    "data[3].head()"
   ]
  },
  {
   "cell_type": "code",
   "execution_count": 14,
   "metadata": {},
   "outputs": [
    {
     "data": {
      "text/plain": [
       "(85, 2)"
      ]
     },
     "execution_count": 14,
     "metadata": {},
     "output_type": "execute_result"
    }
   ],
   "source": [
    "data[3].shape"
   ]
  },
  {
   "cell_type": "markdown",
   "metadata": {},
   "source": [
    "Check uniqueness of UID"
   ]
  },
  {
   "cell_type": "code",
   "execution_count": 15,
   "metadata": {},
   "outputs": [
    {
     "data": {
      "text/html": [
       "<div>\n",
       "<style scoped>\n",
       "    .dataframe tbody tr th:only-of-type {\n",
       "        vertical-align: middle;\n",
       "    }\n",
       "\n",
       "    .dataframe tbody tr th {\n",
       "        vertical-align: top;\n",
       "    }\n",
       "\n",
       "    .dataframe thead th {\n",
       "        text-align: right;\n",
       "    }\n",
       "</style>\n",
       "<table border=\"1\" class=\"dataframe\">\n",
       "  <thead>\n",
       "    <tr style=\"text-align: right;\">\n",
       "      <th></th>\n",
       "      <th>UID</th>\n",
       "      <th>Phone_Number</th>\n",
       "    </tr>\n",
       "  </thead>\n",
       "  <tbody>\n",
       "    <tr>\n",
       "      <th>0</th>\n",
       "      <td>4468</td>\n",
       "      <td>221</td>\n",
       "    </tr>\n",
       "    <tr>\n",
       "      <th>12</th>\n",
       "      <td>40156</td>\n",
       "      <td>976</td>\n",
       "    </tr>\n",
       "    <tr>\n",
       "      <th>26</th>\n",
       "      <td>40156</td>\n",
       "      <td>899</td>\n",
       "    </tr>\n",
       "    <tr>\n",
       "      <th>33</th>\n",
       "      <td>19047</td>\n",
       "      <td>888</td>\n",
       "    </tr>\n",
       "    <tr>\n",
       "      <th>64</th>\n",
       "      <td>19047</td>\n",
       "      <td>954</td>\n",
       "    </tr>\n",
       "    <tr>\n",
       "      <th>81</th>\n",
       "      <td>4468</td>\n",
       "      <td>732</td>\n",
       "    </tr>\n",
       "  </tbody>\n",
       "</table>\n",
       "</div>"
      ],
      "text/plain": [
       "      UID  Phone_Number\n",
       "0    4468           221\n",
       "12  40156           976\n",
       "26  40156           899\n",
       "33  19047           888\n",
       "64  19047           954\n",
       "81   4468           732"
      ]
     },
     "execution_count": 15,
     "metadata": {},
     "output_type": "execute_result"
    }
   ],
   "source": [
    "ind = data[3].UID.value_counts()[(data[3].UID.value_counts()>1)].index\n",
    "data[3][data[3].UID.isin(ind)]"
   ]
  },
  {
   "cell_type": "markdown",
   "metadata": {},
   "source": [
    "One UID can be used for several numbers. This UIDs are the same as in table accounts."
   ]
  },
  {
   "cell_type": "markdown",
   "metadata": {},
   "source": [
    "Tables accounts and numbers have the same length. Check if the UIDs column are identical."
   ]
  },
  {
   "cell_type": "code",
   "execution_count": 16,
   "metadata": {},
   "outputs": [
    {
     "data": {
      "text/plain": [
       "True"
      ]
     },
     "execution_count": 16,
     "metadata": {},
     "output_type": "execute_result"
    }
   ],
   "source": [
    "(data[0].UID == data[3].UID).all()"
   ]
  },
  {
   "cell_type": "markdown",
   "metadata": {},
   "source": [
    "They are the same. So we can merge first two tables."
   ]
  },
  {
   "cell_type": "code",
   "execution_count": 17,
   "metadata": {},
   "outputs": [],
   "source": [
    "data[0][\"Phone_Number\"] = data[3].Phone_Number"
   ]
  },
  {
   "cell_type": "code",
   "execution_count": 18,
   "metadata": {
    "scrolled": true
   },
   "outputs": [
    {
     "data": {
      "text/html": [
       "<div>\n",
       "<style scoped>\n",
       "    .dataframe tbody tr th:only-of-type {\n",
       "        vertical-align: middle;\n",
       "    }\n",
       "\n",
       "    .dataframe tbody tr th {\n",
       "        vertical-align: top;\n",
       "    }\n",
       "\n",
       "    .dataframe thead th {\n",
       "        text-align: right;\n",
       "    }\n",
       "</style>\n",
       "<table border=\"1\" class=\"dataframe\">\n",
       "  <thead>\n",
       "    <tr style=\"text-align: right;\">\n",
       "      <th></th>\n",
       "      <th>UID</th>\n",
       "      <th>Name</th>\n",
       "      <th>Phone_Number</th>\n",
       "    </tr>\n",
       "  </thead>\n",
       "  <tbody>\n",
       "    <tr>\n",
       "      <th>0</th>\n",
       "      <td>4468</td>\n",
       "      <td>Maria</td>\n",
       "      <td>221</td>\n",
       "    </tr>\n",
       "    <tr>\n",
       "      <th>1</th>\n",
       "      <td>46503</td>\n",
       "      <td>Maria</td>\n",
       "      <td>769</td>\n",
       "    </tr>\n",
       "    <tr>\n",
       "      <th>2</th>\n",
       "      <td>32112</td>\n",
       "      <td>God</td>\n",
       "      <td>338</td>\n",
       "    </tr>\n",
       "    <tr>\n",
       "      <th>3</th>\n",
       "      <td>2770</td>\n",
       "      <td>Roman</td>\n",
       "      <td>667</td>\n",
       "    </tr>\n",
       "    <tr>\n",
       "      <th>4</th>\n",
       "      <td>34913</td>\n",
       "      <td>Pavel</td>\n",
       "      <td>580</td>\n",
       "    </tr>\n",
       "  </tbody>\n",
       "</table>\n",
       "</div>"
      ],
      "text/plain": [
       "     UID   Name  Phone_Number\n",
       "0   4468  Maria           221\n",
       "1  46503  Maria           769\n",
       "2  32112    God           338\n",
       "3   2770  Roman           667\n",
       "4  34913  Pavel           580"
      ]
     },
     "execution_count": 18,
     "metadata": {},
     "output_type": "execute_result"
    }
   ],
   "source": [
    "data[0].head()"
   ]
  },
  {
   "cell_type": "code",
   "execution_count": null,
   "metadata": {},
   "outputs": [],
   "source": []
  },
  {
   "cell_type": "markdown",
   "metadata": {},
   "source": [
    "**call_forwarding**"
   ]
  },
  {
   "cell_type": "code",
   "execution_count": 19,
   "metadata": {
    "scrolled": true
   },
   "outputs": [
    {
     "data": {
      "text/html": [
       "<div>\n",
       "<style scoped>\n",
       "    .dataframe tbody tr th:only-of-type {\n",
       "        vertical-align: middle;\n",
       "    }\n",
       "\n",
       "    .dataframe tbody tr th {\n",
       "        vertical-align: top;\n",
       "    }\n",
       "\n",
       "    .dataframe thead th {\n",
       "        text-align: right;\n",
       "    }\n",
       "</style>\n",
       "<table border=\"1\" class=\"dataframe\">\n",
       "  <thead>\n",
       "    <tr style=\"text-align: right;\">\n",
       "      <th></th>\n",
       "      <th>From</th>\n",
       "      <th>To</th>\n",
       "    </tr>\n",
       "  </thead>\n",
       "  <tbody>\n",
       "    <tr>\n",
       "      <th>0</th>\n",
       "      <td>221</td>\n",
       "      <td>580</td>\n",
       "    </tr>\n",
       "    <tr>\n",
       "      <th>1</th>\n",
       "      <td>769</td>\n",
       "      <td>684</td>\n",
       "    </tr>\n",
       "    <tr>\n",
       "      <th>2</th>\n",
       "      <td>338</td>\n",
       "      <td>338</td>\n",
       "    </tr>\n",
       "    <tr>\n",
       "      <th>3</th>\n",
       "      <td>667</td>\n",
       "      <td>580</td>\n",
       "    </tr>\n",
       "    <tr>\n",
       "      <th>4</th>\n",
       "      <td>580</td>\n",
       "      <td>448</td>\n",
       "    </tr>\n",
       "  </tbody>\n",
       "</table>\n",
       "</div>"
      ],
      "text/plain": [
       "   From   To\n",
       "0   221  580\n",
       "1   769  684\n",
       "2   338  338\n",
       "3   667  580\n",
       "4   580  448"
      ]
     },
     "execution_count": 19,
     "metadata": {},
     "output_type": "execute_result"
    }
   ],
   "source": [
    "data[1].head()"
   ]
  },
  {
   "cell_type": "code",
   "execution_count": 20,
   "metadata": {
    "scrolled": true
   },
   "outputs": [
    {
     "data": {
      "text/plain": [
       "(49, 2)"
      ]
     },
     "execution_count": 20,
     "metadata": {},
     "output_type": "execute_result"
    }
   ],
   "source": [
    "data[1].shape"
   ]
  },
  {
   "cell_type": "code",
   "execution_count": 21,
   "metadata": {},
   "outputs": [
    {
     "data": {
      "text/plain": [
       "(49, 43)"
      ]
     },
     "execution_count": 21,
     "metadata": {},
     "output_type": "execute_result"
    }
   ],
   "source": [
    "data[1].From.nunique(), data[1].To.nunique()"
   ]
  },
  {
   "cell_type": "code",
   "execution_count": 22,
   "metadata": {},
   "outputs": [
    {
     "data": {
      "text/html": [
       "<div>\n",
       "<style scoped>\n",
       "    .dataframe tbody tr th:only-of-type {\n",
       "        vertical-align: middle;\n",
       "    }\n",
       "\n",
       "    .dataframe tbody tr th {\n",
       "        vertical-align: top;\n",
       "    }\n",
       "\n",
       "    .dataframe thead th {\n",
       "        text-align: right;\n",
       "    }\n",
       "</style>\n",
       "<table border=\"1\" class=\"dataframe\">\n",
       "  <thead>\n",
       "    <tr style=\"text-align: right;\">\n",
       "      <th></th>\n",
       "      <th>From</th>\n",
       "      <th>To</th>\n",
       "    </tr>\n",
       "  </thead>\n",
       "  <tbody>\n",
       "    <tr>\n",
       "      <th>44</th>\n",
       "      <td>234</td>\n",
       "      <td>103</td>\n",
       "    </tr>\n",
       "    <tr>\n",
       "      <th>45</th>\n",
       "      <td>638</td>\n",
       "      <td>103</td>\n",
       "    </tr>\n",
       "    <tr>\n",
       "      <th>6</th>\n",
       "      <td>272</td>\n",
       "      <td>428</td>\n",
       "    </tr>\n",
       "    <tr>\n",
       "      <th>42</th>\n",
       "      <td>335</td>\n",
       "      <td>428</td>\n",
       "    </tr>\n",
       "    <tr>\n",
       "      <th>4</th>\n",
       "      <td>580</td>\n",
       "      <td>448</td>\n",
       "    </tr>\n",
       "    <tr>\n",
       "      <th>47</th>\n",
       "      <td>319</td>\n",
       "      <td>448</td>\n",
       "    </tr>\n",
       "    <tr>\n",
       "      <th>11</th>\n",
       "      <td>904</td>\n",
       "      <td>563</td>\n",
       "    </tr>\n",
       "    <tr>\n",
       "      <th>41</th>\n",
       "      <td>476</td>\n",
       "      <td>563</td>\n",
       "    </tr>\n",
       "    <tr>\n",
       "      <th>0</th>\n",
       "      <td>221</td>\n",
       "      <td>580</td>\n",
       "    </tr>\n",
       "    <tr>\n",
       "      <th>3</th>\n",
       "      <td>667</td>\n",
       "      <td>580</td>\n",
       "    </tr>\n",
       "    <tr>\n",
       "      <th>8</th>\n",
       "      <td>485</td>\n",
       "      <td>959</td>\n",
       "    </tr>\n",
       "    <tr>\n",
       "      <th>13</th>\n",
       "      <td>154</td>\n",
       "      <td>959</td>\n",
       "    </tr>\n",
       "  </tbody>\n",
       "</table>\n",
       "</div>"
      ],
      "text/plain": [
       "    From   To\n",
       "44   234  103\n",
       "45   638  103\n",
       "6    272  428\n",
       "42   335  428\n",
       "4    580  448\n",
       "47   319  448\n",
       "11   904  563\n",
       "41   476  563\n",
       "0    221  580\n",
       "3    667  580\n",
       "8    485  959\n",
       "13   154  959"
      ]
     },
     "execution_count": 22,
     "metadata": {},
     "output_type": "execute_result"
    }
   ],
   "source": [
    "ind = data[1].To.value_counts()[(data[1].To.value_counts()>1)].index\n",
    "\n",
    "# Телефоны, на которые переводят больше чем с одного телефона\n",
    "data[1][data[1].To.isin(ind)].sort_values(by=\"To\")"
   ]
  },
  {
   "cell_type": "code",
   "execution_count": null,
   "metadata": {},
   "outputs": [],
   "source": []
  },
  {
   "cell_type": "markdown",
   "metadata": {},
   "source": [
    "**rates**"
   ]
  },
  {
   "cell_type": "code",
   "execution_count": 23,
   "metadata": {},
   "outputs": [
    {
     "data": {
      "text/html": [
       "<div>\n",
       "<style scoped>\n",
       "    .dataframe tbody tr th:only-of-type {\n",
       "        vertical-align: middle;\n",
       "    }\n",
       "\n",
       "    .dataframe tbody tr th {\n",
       "        vertical-align: top;\n",
       "    }\n",
       "\n",
       "    .dataframe thead th {\n",
       "        text-align: right;\n",
       "    }\n",
       "</style>\n",
       "<table border=\"1\" class=\"dataframe\">\n",
       "  <thead>\n",
       "    <tr style=\"text-align: right;\">\n",
       "      <th></th>\n",
       "      <th>ID</th>\n",
       "      <th>Money</th>\n",
       "      <th>Description</th>\n",
       "    </tr>\n",
       "  </thead>\n",
       "  <tbody>\n",
       "    <tr>\n",
       "      <th>0</th>\n",
       "      <td>1</td>\n",
       "      <td>0.00</td>\n",
       "      <td>for all incoming calls</td>\n",
       "    </tr>\n",
       "    <tr>\n",
       "      <th>1</th>\n",
       "      <td>2</td>\n",
       "      <td>0.00</td>\n",
       "      <td>for outgoing calls to phone numbers from Numbe...</td>\n",
       "    </tr>\n",
       "    <tr>\n",
       "      <th>2</th>\n",
       "      <td>3</td>\n",
       "      <td>0.04</td>\n",
       "      <td>for all other outgoing calls</td>\n",
       "    </tr>\n",
       "  </tbody>\n",
       "</table>\n",
       "</div>"
      ],
      "text/plain": [
       "   ID  Money                                        Description\n",
       "0   1   0.00                             for all incoming calls\n",
       "1   2   0.00  for outgoing calls to phone numbers from Numbe...\n",
       "2   3   0.04                       for all other outgoing calls"
      ]
     },
     "execution_count": 23,
     "metadata": {},
     "output_type": "execute_result"
    }
   ],
   "source": [
    "data[4].head()"
   ]
  },
  {
   "cell_type": "code",
   "execution_count": 24,
   "metadata": {},
   "outputs": [
    {
     "data": {
      "text/plain": [
       "'for outgoing calls to phone numbers from Numbers table'"
      ]
     },
     "execution_count": 24,
     "metadata": {},
     "output_type": "execute_result"
    }
   ],
   "source": [
    "data[4].Description[1]"
   ]
  },
  {
   "cell_type": "code",
   "execution_count": null,
   "metadata": {},
   "outputs": [],
   "source": []
  },
  {
   "cell_type": "markdown",
   "metadata": {},
   "source": [
    "**call_logs**"
   ]
  },
  {
   "cell_type": "code",
   "execution_count": 25,
   "metadata": {},
   "outputs": [],
   "source": [
    "table = data[2]"
   ]
  },
  {
   "cell_type": "code",
   "execution_count": 26,
   "metadata": {},
   "outputs": [],
   "source": [
    "# table.set_index(\"Call_id\", inplace=True)"
   ]
  },
  {
   "cell_type": "code",
   "execution_count": 27,
   "metadata": {},
   "outputs": [
    {
     "data": {
      "text/html": [
       "<div>\n",
       "<style scoped>\n",
       "    .dataframe tbody tr th:only-of-type {\n",
       "        vertical-align: middle;\n",
       "    }\n",
       "\n",
       "    .dataframe tbody tr th {\n",
       "        vertical-align: top;\n",
       "    }\n",
       "\n",
       "    .dataframe thead th {\n",
       "        text-align: right;\n",
       "    }\n",
       "</style>\n",
       "<table border=\"1\" class=\"dataframe\">\n",
       "  <thead>\n",
       "    <tr style=\"text-align: right;\">\n",
       "      <th></th>\n",
       "      <th>Call_id</th>\n",
       "      <th>Call_dir</th>\n",
       "      <th>From</th>\n",
       "      <th>To</th>\n",
       "      <th>UID</th>\n",
       "      <th>Timestamp_start</th>\n",
       "      <th>Timestamp_end</th>\n",
       "    </tr>\n",
       "  </thead>\n",
       "  <tbody>\n",
       "    <tr>\n",
       "      <th>0</th>\n",
       "      <td>1</td>\n",
       "      <td>out</td>\n",
       "      <td>221</td>\n",
       "      <td>987</td>\n",
       "      <td>4468</td>\n",
       "      <td>2019-03-07 17:37:01</td>\n",
       "      <td>2019-03-07 17:37:41</td>\n",
       "    </tr>\n",
       "    <tr>\n",
       "      <th>1</th>\n",
       "      <td>2</td>\n",
       "      <td>out</td>\n",
       "      <td>769</td>\n",
       "      <td>814</td>\n",
       "      <td>46503</td>\n",
       "      <td>2019-03-07 17:37:30</td>\n",
       "      <td>2019-03-07 17:40:40</td>\n",
       "    </tr>\n",
       "    <tr>\n",
       "      <th>2</th>\n",
       "      <td>3</td>\n",
       "      <td>in</td>\n",
       "      <td>675</td>\n",
       "      <td>338</td>\n",
       "      <td>32112</td>\n",
       "      <td>2019-03-07 17:37:35</td>\n",
       "      <td>2019-03-07 17:39:21</td>\n",
       "    </tr>\n",
       "    <tr>\n",
       "      <th>3</th>\n",
       "      <td>4</td>\n",
       "      <td>in</td>\n",
       "      <td>447</td>\n",
       "      <td>448</td>\n",
       "      <td>2770</td>\n",
       "      <td>2019-03-07 17:36:56</td>\n",
       "      <td>2019-03-07 17:37:45</td>\n",
       "    </tr>\n",
       "    <tr>\n",
       "      <th>4</th>\n",
       "      <td>5</td>\n",
       "      <td>in</td>\n",
       "      <td>648</td>\n",
       "      <td>338</td>\n",
       "      <td>8953</td>\n",
       "      <td>2019-03-07 17:37:24</td>\n",
       "      <td>2019-03-07 17:39:03</td>\n",
       "    </tr>\n",
       "  </tbody>\n",
       "</table>\n",
       "</div>"
      ],
      "text/plain": [
       "   Call_id Call_dir  From   To    UID     Timestamp_start       Timestamp_end\n",
       "0        1      out   221  987   4468 2019-03-07 17:37:01 2019-03-07 17:37:41\n",
       "1        2      out   769  814  46503 2019-03-07 17:37:30 2019-03-07 17:40:40\n",
       "2        3       in   675  338  32112 2019-03-07 17:37:35 2019-03-07 17:39:21\n",
       "3        4       in   447  448   2770 2019-03-07 17:36:56 2019-03-07 17:37:45\n",
       "4        5       in   648  338   8953 2019-03-07 17:37:24 2019-03-07 17:39:03"
      ]
     },
     "execution_count": 27,
     "metadata": {},
     "output_type": "execute_result"
    }
   ],
   "source": [
    "table.head()"
   ]
  },
  {
   "cell_type": "markdown",
   "metadata": {},
   "source": [
    "We have call forwarding. So let's create new column."
   ]
  },
  {
   "cell_type": "code",
   "execution_count": 28,
   "metadata": {},
   "outputs": [],
   "source": [
    "table[\"with_forward_To\"] = table.To.replace(data[1].From.values, data[1].To.values)"
   ]
  },
  {
   "cell_type": "code",
   "execution_count": 29,
   "metadata": {},
   "outputs": [
    {
     "data": {
      "text/plain": [
       "((527, 8), (472, 8))"
      ]
     },
     "execution_count": 29,
     "metadata": {},
     "output_type": "execute_result"
    }
   ],
   "source": [
    "table[table.Call_dir == \"in\"].shape, table[table.Call_dir == \"out\"].shape"
   ]
  },
  {
   "cell_type": "markdown",
   "metadata": {},
   "source": [
    "Numbers of in and out calls are not equal. Now check for uniqueness each call."
   ]
  },
  {
   "cell_type": "code",
   "execution_count": 30,
   "metadata": {
    "scrolled": true
   },
   "outputs": [
    {
     "data": {
      "text/plain": [
       "From  To   Timestamp_start    \n",
       "799   959  2019-03-07 17:37:54    2\n",
       "205   732  2019-03-07 17:39:07    2\n",
       "1000  987  2019-03-07 17:40:00    1\n",
       "538   554  2019-03-07 17:37:50    1\n",
       "      496  2019-03-07 17:38:25    1\n",
       "      448  2019-03-07 17:39:58    1\n",
       "525   959  2019-03-07 17:39:22    1\n",
       "      892  2019-03-07 17:38:34    1\n",
       "      732  2019-03-07 17:40:05    1\n",
       "           2019-03-07 17:39:01    1\n",
       "           2019-03-07 17:38:20    1\n",
       "           2019-03-07 17:37:34    1\n",
       "      675  2019-03-07 17:37:30    1\n",
       "      636  2019-03-07 17:39:48    1\n",
       "      608  2019-03-07 17:39:17    1\n",
       "           2019-03-07 17:37:55    1\n",
       "           2019-03-07 17:37:29    1\n",
       "538   732  2019-03-07 17:38:49    1\n",
       "525   599  2019-03-07 17:38:23    1\n",
       "      496  2019-03-07 17:38:48    1\n",
       "      448  2019-03-07 17:36:55    1\n",
       "      400  2019-03-07 17:40:01    1\n",
       "           2019-03-07 17:38:32    1\n",
       "      313  2019-03-07 17:39:34    1\n",
       "      251  2019-03-07 17:39:40    1\n",
       "           2019-03-07 17:39:04    1\n",
       "      207  2019-03-07 17:39:18    1\n",
       "521   732  2019-03-07 17:38:00    1\n",
       "      727  2019-03-07 17:38:37    1\n",
       "      642  2019-03-07 17:38:35    1\n",
       "                                 ..\n",
       "771   959  2019-03-07 17:38:29    1\n",
       "756   987  2019-03-07 17:38:46    1\n",
       "771   732  2019-03-07 17:38:39    1\n",
       "           2019-03-07 17:37:09    1\n",
       "      636  2019-03-07 17:39:35    1\n",
       "           2019-03-07 17:39:09    1\n",
       "      625  2019-03-07 17:38:08    1\n",
       "      502  2019-03-07 17:40:17    1\n",
       "           2019-03-07 17:39:27    1\n",
       "           2019-03-07 17:38:40    1\n",
       "      400  2019-03-07 17:40:11    1\n",
       "769   951  2019-03-07 17:38:32    1\n",
       "      814  2019-03-07 17:37:30    1\n",
       "      732  2019-03-07 17:36:57    1\n",
       "      581  2019-03-07 17:37:25    1\n",
       "      554  2019-03-07 17:37:51    1\n",
       "      496  2019-03-07 17:39:24    1\n",
       "      448  2019-03-07 17:39:42    1\n",
       "      400  2019-03-07 17:37:49    1\n",
       "      313  2019-03-07 17:37:43    1\n",
       "      207  2019-03-07 17:39:03    1\n",
       "766   959  2019-03-07 17:38:10    1\n",
       "      814  2019-03-07 17:39:35    1\n",
       "      784  2019-03-07 17:40:10    1\n",
       "      732  2019-03-07 17:38:13    1\n",
       "      586  2019-03-07 17:38:49    1\n",
       "      448  2019-03-07 17:38:12    1\n",
       "           2019-03-07 17:38:02    1\n",
       "756   987  2019-03-07 17:40:01    1\n",
       "103   440  2019-03-07 17:38:56    1\n",
       "Length: 997, dtype: int64"
      ]
     },
     "execution_count": 30,
     "metadata": {},
     "output_type": "execute_result"
    }
   ],
   "source": [
    "table.groupby([\"From\",\"To\",\"Timestamp_start\"]).size().sort_values(ascending=False)"
   ]
  },
  {
   "cell_type": "markdown",
   "metadata": {},
   "source": [
    "We should have two records for each call - one for in call, other for out. But there are only two occasions in the table."
   ]
  },
  {
   "cell_type": "code",
   "execution_count": 31,
   "metadata": {},
   "outputs": [
    {
     "data": {
      "text/html": [
       "<div>\n",
       "<style scoped>\n",
       "    .dataframe tbody tr th:only-of-type {\n",
       "        vertical-align: middle;\n",
       "    }\n",
       "\n",
       "    .dataframe tbody tr th {\n",
       "        vertical-align: top;\n",
       "    }\n",
       "\n",
       "    .dataframe thead th {\n",
       "        text-align: right;\n",
       "    }\n",
       "</style>\n",
       "<table border=\"1\" class=\"dataframe\">\n",
       "  <thead>\n",
       "    <tr style=\"text-align: right;\">\n",
       "      <th></th>\n",
       "      <th>Call_id</th>\n",
       "      <th>Call_dir</th>\n",
       "      <th>From</th>\n",
       "      <th>To</th>\n",
       "      <th>UID</th>\n",
       "      <th>Timestamp_start</th>\n",
       "      <th>Timestamp_end</th>\n",
       "      <th>with_forward_To</th>\n",
       "    </tr>\n",
       "  </thead>\n",
       "  <tbody>\n",
       "    <tr>\n",
       "      <th>173</th>\n",
       "      <td>174</td>\n",
       "      <td>out</td>\n",
       "      <td>799</td>\n",
       "      <td>959</td>\n",
       "      <td>69521</td>\n",
       "      <td>2019-03-07 17:37:54</td>\n",
       "      <td>2019-03-07 17:39:10</td>\n",
       "      <td>959</td>\n",
       "    </tr>\n",
       "    <tr>\n",
       "      <th>178</th>\n",
       "      <td>179</td>\n",
       "      <td>out</td>\n",
       "      <td>799</td>\n",
       "      <td>959</td>\n",
       "      <td>3017</td>\n",
       "      <td>2019-03-07 17:37:54</td>\n",
       "      <td>2019-03-07 17:40:34</td>\n",
       "      <td>959</td>\n",
       "    </tr>\n",
       "  </tbody>\n",
       "</table>\n",
       "</div>"
      ],
      "text/plain": [
       "     Call_id Call_dir  From   To    UID     Timestamp_start  \\\n",
       "173      174      out   799  959  69521 2019-03-07 17:37:54   \n",
       "178      179      out   799  959   3017 2019-03-07 17:37:54   \n",
       "\n",
       "          Timestamp_end  with_forward_To  \n",
       "173 2019-03-07 17:39:10              959  \n",
       "178 2019-03-07 17:40:34              959  "
      ]
     },
     "execution_count": 31,
     "metadata": {},
     "output_type": "execute_result"
    }
   ],
   "source": [
    "table[(table.From == 799) & (table.To == 959)]"
   ]
  },
  {
   "cell_type": "markdown",
   "metadata": {},
   "source": [
    "At first it looks like the same calls, but they have different duration and UID. Strange"
   ]
  },
  {
   "cell_type": "markdown",
   "metadata": {},
   "source": [
    "Check calls between two clients for intersection."
   ]
  },
  {
   "cell_type": "code",
   "execution_count": 32,
   "metadata": {
    "scrolled": true
   },
   "outputs": [],
   "source": [
    "calls = table.groupby([\"From\",\"To\"]).size()\n",
    "calls = calls[calls>1].sort_values(ascending=False).reset_index()"
   ]
  },
  {
   "cell_type": "code",
   "execution_count": 33,
   "metadata": {
    "scrolled": true
   },
   "outputs": [
    {
     "data": {
      "image/png": "[encoded data removed]",
      "text/plain": [
       "<Figure size 432x288 with 1 Axes>"
      ]
     },
     "metadata": {},
     "output_type": "display_data"
    },
    {
     "data": {
      "image/png": "[encoded data removed]",
      "text/plain": [
       "<Figure size 432x288 with 1 Axes>"
      ]
     },
     "metadata": {},
     "output_type": "display_data"
    },
    {
     "data": {
      "image/png": "[encoded data removed]",
      "text/plain": [
       "<Figure size 432x288 with 1 Axes>"
      ]
     },
     "metadata": {},
     "output_type": "display_data"
    },
    {
     "data": {
      "image/png": "[encoded data removed]",
      "text/plain": [
       "<Figure size 432x288 with 1 Axes>"
      ]
     },
     "metadata": {},
     "output_type": "display_data"
    },
    {
     "data": {
      "image/png": "[encoded data removed]",
      "text/plain": [
       "<Figure size 432x288 with 1 Axes>"
      ]
     },
     "metadata": {},
     "output_type": "display_data"
    },
    {
     "data": {
      "image/png": "[encoded data removed]",
      "text/plain": [
       "<Figure size 432x288 with 1 Axes>"
      ]
     },
     "metadata": {},
     "output_type": "display_data"
    },
    {
     "data": {
      "image/png": "[encoded data removed]",
      "text/plain": [
       "<Figure size 432x288 with 1 Axes>"
      ]
     },
     "metadata": {},
     "output_type": "display_data"
    },
    {
     "data": {
      "image/png": "[encoded data removed]",
      "text/plain": [
       "<Figure size 432x288 with 1 Axes>"
      ]
     },
     "metadata": {},
     "output_type": "display_data"
    },
    {
     "data": {
      "image/png": "[encoded data removed]",
      "text/plain": [
       "<Figure size 432x288 with 1 Axes>"
      ]
     },
     "metadata": {},
     "output_type": "display_data"
    },
    {
     "data": {
      "image/png": "[encoded data removed]",
      "text/plain": [
       "<Figure size 432x288 with 1 Axes>"
      ]
     },
     "metadata": {},
     "output_type": "display_data"
    }
   ],
   "source": [
    "for i in range(10):\n",
    "    call = table[(table.From == calls.iloc[i].From) & (table.To == calls.iloc[i].To)]\n",
    "    fig,ax=plt.subplots()\n",
    "    for j in range(call.shape[0]):\n",
    "        start = call.iloc[j].Timestamp_start.to_period(\"S\").ordinal\n",
    "        end = call.iloc[j].Timestamp_end.to_period(\"S\").ordinal\n",
    "        ax.broken_barh([[start, end-start]], (j-0.4,0.8))\n",
    "    ax.set_yticks(range(call.shape[0]))\n",
    "    plt.title(\"Call from: \"+str(calls.iloc[i].From)+\", to: \"+str(calls.iloc[i].To))\n",
    "    plt.tight_layout()"
   ]
  },
  {
   "cell_type": "markdown",
   "metadata": {},
   "source": [
    "We can see, that calls always intersect between each other. Strange too."
   ]
  },
  {
   "cell_type": "code",
   "execution_count": 34,
   "metadata": {},
   "outputs": [],
   "source": [
    "table[\"duration\"] = table[\"Timestamp_end\"] - table[\"Timestamp_start\"]"
   ]
  },
  {
   "cell_type": "code",
   "execution_count": 35,
   "metadata": {
    "scrolled": true
   },
   "outputs": [
    {
     "data": {
      "text/plain": [
       "(Timestamp('2019-03-07 17:36:52'), Timestamp('2019-03-07 17:44:03'))"
      ]
     },
     "execution_count": 35,
     "metadata": {},
     "output_type": "execute_result"
    }
   ],
   "source": [
    "table.Timestamp_start.min(), table.Timestamp_end.max()"
   ]
  },
  {
   "cell_type": "code",
   "execution_count": 36,
   "metadata": {
    "scrolled": true
   },
   "outputs": [
    {
     "data": {
      "text/plain": [
       "(Timedelta('0 days 00:00:07'), Timedelta('0 days 00:04:06'))"
      ]
     },
     "execution_count": 36,
     "metadata": {},
     "output_type": "execute_result"
    }
   ],
   "source": [
    "table.duration.min(), table.duration.max()"
   ]
  },
  {
   "cell_type": "markdown",
   "metadata": {},
   "source": [
    "All call logs are written for 7 minutes. Max call duration is 4 minutes."
   ]
  },
  {
   "cell_type": "markdown",
   "metadata": {},
   "source": [
    "How we could saw earlier, each call is unique. In each record we have client UID, who made call, or client UID, who get call. Find both of them for easier charges computation."
   ]
  },
  {
   "cell_type": "code",
   "execution_count": 37,
   "metadata": {},
   "outputs": [],
   "source": [
    "calls_out = table[table.Call_dir==\"out\"].drop(columns=\"Call_dir\")\n",
    "calls_in = table[table.Call_dir==\"in\"].drop(columns=\"Call_dir\")"
   ]
  },
  {
   "cell_type": "code",
   "execution_count": 38,
   "metadata": {},
   "outputs": [
    {
     "data": {
      "text/html": [
       "<div>\n",
       "<style scoped>\n",
       "    .dataframe tbody tr th:only-of-type {\n",
       "        vertical-align: middle;\n",
       "    }\n",
       "\n",
       "    .dataframe tbody tr th {\n",
       "        vertical-align: top;\n",
       "    }\n",
       "\n",
       "    .dataframe thead th {\n",
       "        text-align: right;\n",
       "    }\n",
       "</style>\n",
       "<table border=\"1\" class=\"dataframe\">\n",
       "  <thead>\n",
       "    <tr style=\"text-align: right;\">\n",
       "      <th></th>\n",
       "      <th>Call_id</th>\n",
       "      <th>From</th>\n",
       "      <th>To</th>\n",
       "      <th>UID</th>\n",
       "      <th>Timestamp_start</th>\n",
       "      <th>Timestamp_end</th>\n",
       "      <th>with_forward_To</th>\n",
       "      <th>duration</th>\n",
       "    </tr>\n",
       "  </thead>\n",
       "  <tbody>\n",
       "    <tr>\n",
       "      <th>0</th>\n",
       "      <td>1</td>\n",
       "      <td>221</td>\n",
       "      <td>987</td>\n",
       "      <td>4468</td>\n",
       "      <td>2019-03-07 17:37:01</td>\n",
       "      <td>2019-03-07 17:37:41</td>\n",
       "      <td>987</td>\n",
       "      <td>00:00:40</td>\n",
       "    </tr>\n",
       "    <tr>\n",
       "      <th>1</th>\n",
       "      <td>2</td>\n",
       "      <td>769</td>\n",
       "      <td>814</td>\n",
       "      <td>46503</td>\n",
       "      <td>2019-03-07 17:37:30</td>\n",
       "      <td>2019-03-07 17:40:40</td>\n",
       "      <td>814</td>\n",
       "      <td>00:03:10</td>\n",
       "    </tr>\n",
       "    <tr>\n",
       "      <th>7</th>\n",
       "      <td>8</td>\n",
       "      <td>684</td>\n",
       "      <td>732</td>\n",
       "      <td>56966</td>\n",
       "      <td>2019-03-07 17:36:52</td>\n",
       "      <td>2019-03-07 17:37:50</td>\n",
       "      <td>732</td>\n",
       "      <td>00:00:58</td>\n",
       "    </tr>\n",
       "    <tr>\n",
       "      <th>10</th>\n",
       "      <td>11</td>\n",
       "      <td>485</td>\n",
       "      <td>400</td>\n",
       "      <td>41468</td>\n",
       "      <td>2019-03-07 17:36:58</td>\n",
       "      <td>2019-03-07 17:38:42</td>\n",
       "      <td>400</td>\n",
       "      <td>00:01:44</td>\n",
       "    </tr>\n",
       "    <tr>\n",
       "      <th>11</th>\n",
       "      <td>12</td>\n",
       "      <td>858</td>\n",
       "      <td>502</td>\n",
       "      <td>88196</td>\n",
       "      <td>2019-03-07 17:37:11</td>\n",
       "      <td>2019-03-07 17:39:48</td>\n",
       "      <td>502</td>\n",
       "      <td>00:02:37</td>\n",
       "    </tr>\n",
       "  </tbody>\n",
       "</table>\n",
       "</div>"
      ],
      "text/plain": [
       "    Call_id  From   To    UID     Timestamp_start       Timestamp_end  \\\n",
       "0         1   221  987   4468 2019-03-07 17:37:01 2019-03-07 17:37:41   \n",
       "1         2   769  814  46503 2019-03-07 17:37:30 2019-03-07 17:40:40   \n",
       "7         8   684  732  56966 2019-03-07 17:36:52 2019-03-07 17:37:50   \n",
       "10       11   485  400  41468 2019-03-07 17:36:58 2019-03-07 17:38:42   \n",
       "11       12   858  502  88196 2019-03-07 17:37:11 2019-03-07 17:39:48   \n",
       "\n",
       "    with_forward_To duration  \n",
       "0               987 00:00:40  \n",
       "1               814 00:03:10  \n",
       "7               732 00:00:58  \n",
       "10              400 00:01:44  \n",
       "11              502 00:02:37  "
      ]
     },
     "execution_count": 38,
     "metadata": {},
     "output_type": "execute_result"
    }
   ],
   "source": [
    "calls_out.head()"
   ]
  },
  {
   "cell_type": "code",
   "execution_count": 39,
   "metadata": {},
   "outputs": [],
   "source": [
    "calls_out.rename({\"UID\": \"UID_From\"}, axis=\"columns\", inplace=True)\n",
    "calls_out = pd.merge(calls_out, data[3], how=\"left\", left_on = \"with_forward_To\", right_on=\"Phone_Number\")\n",
    "calls_out = calls_out.drop(columns=\"Phone_Number\").rename({\"UID\": \"UID_To\"}, axis=\"columns\")"
   ]
  },
  {
   "cell_type": "code",
   "execution_count": 40,
   "metadata": {},
   "outputs": [],
   "source": [
    "calls_in.rename({\"UID\": \"UID_To\"}, axis=\"columns\", inplace=True)\n",
    "calls_in = pd.merge(calls_in, data[3], how=\"left\", left_on = \"From\", right_on=\"Phone_Number\")\n",
    "calls_in = calls_in.drop(columns=\"Phone_Number\").rename({\"UID\": \"UID_From\"}, axis=\"columns\")"
   ]
  },
  {
   "cell_type": "code",
   "execution_count": 41,
   "metadata": {
    "scrolled": true
   },
   "outputs": [
    {
     "data": {
      "text/html": [
       "<div>\n",
       "<style scoped>\n",
       "    .dataframe tbody tr th:only-of-type {\n",
       "        vertical-align: middle;\n",
       "    }\n",
       "\n",
       "    .dataframe tbody tr th {\n",
       "        vertical-align: top;\n",
       "    }\n",
       "\n",
       "    .dataframe thead th {\n",
       "        text-align: right;\n",
       "    }\n",
       "</style>\n",
       "<table border=\"1\" class=\"dataframe\">\n",
       "  <thead>\n",
       "    <tr style=\"text-align: right;\">\n",
       "      <th></th>\n",
       "      <th>Call_id</th>\n",
       "      <th>From</th>\n",
       "      <th>To</th>\n",
       "      <th>UID_From</th>\n",
       "      <th>Timestamp_start</th>\n",
       "      <th>Timestamp_end</th>\n",
       "      <th>with_forward_To</th>\n",
       "      <th>duration</th>\n",
       "      <th>UID_To</th>\n",
       "    </tr>\n",
       "  </thead>\n",
       "  <tbody>\n",
       "    <tr>\n",
       "      <th>0</th>\n",
       "      <td>1</td>\n",
       "      <td>221</td>\n",
       "      <td>987</td>\n",
       "      <td>4468</td>\n",
       "      <td>2019-03-07 17:37:01</td>\n",
       "      <td>2019-03-07 17:37:41</td>\n",
       "      <td>987</td>\n",
       "      <td>00:00:40</td>\n",
       "      <td>10163.0</td>\n",
       "    </tr>\n",
       "    <tr>\n",
       "      <th>1</th>\n",
       "      <td>2</td>\n",
       "      <td>769</td>\n",
       "      <td>814</td>\n",
       "      <td>46503</td>\n",
       "      <td>2019-03-07 17:37:30</td>\n",
       "      <td>2019-03-07 17:40:40</td>\n",
       "      <td>814</td>\n",
       "      <td>00:03:10</td>\n",
       "      <td>NaN</td>\n",
       "    </tr>\n",
       "    <tr>\n",
       "      <th>2</th>\n",
       "      <td>8</td>\n",
       "      <td>684</td>\n",
       "      <td>732</td>\n",
       "      <td>56966</td>\n",
       "      <td>2019-03-07 17:36:52</td>\n",
       "      <td>2019-03-07 17:37:50</td>\n",
       "      <td>732</td>\n",
       "      <td>00:00:58</td>\n",
       "      <td>4468.0</td>\n",
       "    </tr>\n",
       "    <tr>\n",
       "      <th>3</th>\n",
       "      <td>11</td>\n",
       "      <td>485</td>\n",
       "      <td>400</td>\n",
       "      <td>41468</td>\n",
       "      <td>2019-03-07 17:36:58</td>\n",
       "      <td>2019-03-07 17:38:42</td>\n",
       "      <td>400</td>\n",
       "      <td>00:01:44</td>\n",
       "      <td>NaN</td>\n",
       "    </tr>\n",
       "    <tr>\n",
       "      <th>4</th>\n",
       "      <td>12</td>\n",
       "      <td>858</td>\n",
       "      <td>502</td>\n",
       "      <td>88196</td>\n",
       "      <td>2019-03-07 17:37:11</td>\n",
       "      <td>2019-03-07 17:39:48</td>\n",
       "      <td>502</td>\n",
       "      <td>00:02:37</td>\n",
       "      <td>92800.0</td>\n",
       "    </tr>\n",
       "  </tbody>\n",
       "</table>\n",
       "</div>"
      ],
      "text/plain": [
       "   Call_id  From   To  UID_From     Timestamp_start       Timestamp_end  \\\n",
       "0        1   221  987      4468 2019-03-07 17:37:01 2019-03-07 17:37:41   \n",
       "1        2   769  814     46503 2019-03-07 17:37:30 2019-03-07 17:40:40   \n",
       "2        8   684  732     56966 2019-03-07 17:36:52 2019-03-07 17:37:50   \n",
       "3       11   485  400     41468 2019-03-07 17:36:58 2019-03-07 17:38:42   \n",
       "4       12   858  502     88196 2019-03-07 17:37:11 2019-03-07 17:39:48   \n",
       "\n",
       "   with_forward_To duration   UID_To  \n",
       "0              987 00:00:40  10163.0  \n",
       "1              814 00:03:10      NaN  \n",
       "2              732 00:00:58   4468.0  \n",
       "3              400 00:01:44      NaN  \n",
       "4              502 00:02:37  92800.0  "
      ]
     },
     "metadata": {},
     "output_type": "display_data"
    },
    {
     "data": {
      "text/html": [
       "<div>\n",
       "<style scoped>\n",
       "    .dataframe tbody tr th:only-of-type {\n",
       "        vertical-align: middle;\n",
       "    }\n",
       "\n",
       "    .dataframe tbody tr th {\n",
       "        vertical-align: top;\n",
       "    }\n",
       "\n",
       "    .dataframe thead th {\n",
       "        text-align: right;\n",
       "    }\n",
       "</style>\n",
       "<table border=\"1\" class=\"dataframe\">\n",
       "  <thead>\n",
       "    <tr style=\"text-align: right;\">\n",
       "      <th></th>\n",
       "      <th>Call_id</th>\n",
       "      <th>From</th>\n",
       "      <th>To</th>\n",
       "      <th>UID_To</th>\n",
       "      <th>Timestamp_start</th>\n",
       "      <th>Timestamp_end</th>\n",
       "      <th>with_forward_To</th>\n",
       "      <th>duration</th>\n",
       "      <th>UID_From</th>\n",
       "    </tr>\n",
       "  </thead>\n",
       "  <tbody>\n",
       "    <tr>\n",
       "      <th>0</th>\n",
       "      <td>3</td>\n",
       "      <td>675</td>\n",
       "      <td>338</td>\n",
       "      <td>32112</td>\n",
       "      <td>2019-03-07 17:37:35</td>\n",
       "      <td>2019-03-07 17:39:21</td>\n",
       "      <td>338</td>\n",
       "      <td>00:01:46</td>\n",
       "      <td>2502.0</td>\n",
       "    </tr>\n",
       "    <tr>\n",
       "      <th>1</th>\n",
       "      <td>4</td>\n",
       "      <td>447</td>\n",
       "      <td>448</td>\n",
       "      <td>2770</td>\n",
       "      <td>2019-03-07 17:36:56</td>\n",
       "      <td>2019-03-07 17:37:45</td>\n",
       "      <td>448</td>\n",
       "      <td>00:00:49</td>\n",
       "      <td>62995.0</td>\n",
       "    </tr>\n",
       "    <tr>\n",
       "      <th>2</th>\n",
       "      <td>5</td>\n",
       "      <td>648</td>\n",
       "      <td>338</td>\n",
       "      <td>8953</td>\n",
       "      <td>2019-03-07 17:37:24</td>\n",
       "      <td>2019-03-07 17:39:03</td>\n",
       "      <td>338</td>\n",
       "      <td>00:01:39</td>\n",
       "      <td>67835.0</td>\n",
       "    </tr>\n",
       "    <tr>\n",
       "      <th>3</th>\n",
       "      <td>6</td>\n",
       "      <td>954</td>\n",
       "      <td>448</td>\n",
       "      <td>34913</td>\n",
       "      <td>2019-03-07 17:37:07</td>\n",
       "      <td>2019-03-07 17:40:23</td>\n",
       "      <td>448</td>\n",
       "      <td>00:03:16</td>\n",
       "      <td>19047.0</td>\n",
       "    </tr>\n",
       "    <tr>\n",
       "      <th>4</th>\n",
       "      <td>7</td>\n",
       "      <td>769</td>\n",
       "      <td>581</td>\n",
       "      <td>74114</td>\n",
       "      <td>2019-03-07 17:37:25</td>\n",
       "      <td>2019-03-07 17:39:47</td>\n",
       "      <td>581</td>\n",
       "      <td>00:02:22</td>\n",
       "      <td>46503.0</td>\n",
       "    </tr>\n",
       "  </tbody>\n",
       "</table>\n",
       "</div>"
      ],
      "text/plain": [
       "   Call_id  From   To  UID_To     Timestamp_start       Timestamp_end  \\\n",
       "0        3   675  338   32112 2019-03-07 17:37:35 2019-03-07 17:39:21   \n",
       "1        4   447  448    2770 2019-03-07 17:36:56 2019-03-07 17:37:45   \n",
       "2        5   648  338    8953 2019-03-07 17:37:24 2019-03-07 17:39:03   \n",
       "3        6   954  448   34913 2019-03-07 17:37:07 2019-03-07 17:40:23   \n",
       "4        7   769  581   74114 2019-03-07 17:37:25 2019-03-07 17:39:47   \n",
       "\n",
       "   with_forward_To duration  UID_From  \n",
       "0              338 00:01:46    2502.0  \n",
       "1              448 00:00:49   62995.0  \n",
       "2              338 00:01:39   67835.0  \n",
       "3              448 00:03:16   19047.0  \n",
       "4              581 00:02:22   46503.0  "
      ]
     },
     "metadata": {},
     "output_type": "display_data"
    }
   ],
   "source": [
    "display(calls_out.head())\n",
    "display(calls_in.head())"
   ]
  },
  {
   "cell_type": "code",
   "execution_count": 42,
   "metadata": {},
   "outputs": [
    {
     "data": {
      "text/plain": [
       "(527, 472)"
      ]
     },
     "execution_count": 42,
     "metadata": {},
     "output_type": "execute_result"
    }
   ],
   "source": [
    "calls_in.shape[0], calls_out.shape[0]"
   ]
  },
  {
   "cell_type": "code",
   "execution_count": 43,
   "metadata": {},
   "outputs": [
    {
     "data": {
      "text/plain": [
       "(73, 100)"
      ]
     },
     "execution_count": 43,
     "metadata": {},
     "output_type": "execute_result"
    }
   ],
   "source": [
    "#Number of NANs\n",
    "calls_in[calls_in.UID_From.isnull()].shape[0], calls_out[calls_out.UID_To.isnull()].shape[0]"
   ]
  },
  {
   "cell_type": "code",
   "execution_count": 44,
   "metadata": {
    "scrolled": true
   },
   "outputs": [
    {
     "data": {
      "text/html": [
       "<div>\n",
       "<style scoped>\n",
       "    .dataframe tbody tr th:only-of-type {\n",
       "        vertical-align: middle;\n",
       "    }\n",
       "\n",
       "    .dataframe tbody tr th {\n",
       "        vertical-align: top;\n",
       "    }\n",
       "\n",
       "    .dataframe thead th {\n",
       "        text-align: right;\n",
       "    }\n",
       "</style>\n",
       "<table border=\"1\" class=\"dataframe\">\n",
       "  <thead>\n",
       "    <tr style=\"text-align: right;\">\n",
       "      <th></th>\n",
       "      <th>Call_id</th>\n",
       "      <th>From</th>\n",
       "      <th>To</th>\n",
       "      <th>with_forward_To</th>\n",
       "      <th>UID_From</th>\n",
       "      <th>UID_To</th>\n",
       "      <th>Timestamp_end</th>\n",
       "      <th>Timestamp_start</th>\n",
       "      <th>duration</th>\n",
       "    </tr>\n",
       "  </thead>\n",
       "  <tbody>\n",
       "    <tr>\n",
       "      <th>0</th>\n",
       "      <td>3</td>\n",
       "      <td>675</td>\n",
       "      <td>338</td>\n",
       "      <td>338</td>\n",
       "      <td>2502.0</td>\n",
       "      <td>32112.0</td>\n",
       "      <td>2019-03-07 17:39:21</td>\n",
       "      <td>2019-03-07 17:37:35</td>\n",
       "      <td>00:01:46</td>\n",
       "    </tr>\n",
       "    <tr>\n",
       "      <th>1</th>\n",
       "      <td>4</td>\n",
       "      <td>447</td>\n",
       "      <td>448</td>\n",
       "      <td>448</td>\n",
       "      <td>62995.0</td>\n",
       "      <td>2770.0</td>\n",
       "      <td>2019-03-07 17:37:45</td>\n",
       "      <td>2019-03-07 17:36:56</td>\n",
       "      <td>00:00:49</td>\n",
       "    </tr>\n",
       "    <tr>\n",
       "      <th>2</th>\n",
       "      <td>5</td>\n",
       "      <td>648</td>\n",
       "      <td>338</td>\n",
       "      <td>338</td>\n",
       "      <td>67835.0</td>\n",
       "      <td>8953.0</td>\n",
       "      <td>2019-03-07 17:39:03</td>\n",
       "      <td>2019-03-07 17:37:24</td>\n",
       "      <td>00:01:39</td>\n",
       "    </tr>\n",
       "    <tr>\n",
       "      <th>3</th>\n",
       "      <td>6</td>\n",
       "      <td>954</td>\n",
       "      <td>448</td>\n",
       "      <td>448</td>\n",
       "      <td>19047.0</td>\n",
       "      <td>34913.0</td>\n",
       "      <td>2019-03-07 17:40:23</td>\n",
       "      <td>2019-03-07 17:37:07</td>\n",
       "      <td>00:03:16</td>\n",
       "    </tr>\n",
       "    <tr>\n",
       "      <th>4</th>\n",
       "      <td>7</td>\n",
       "      <td>769</td>\n",
       "      <td>581</td>\n",
       "      <td>581</td>\n",
       "      <td>46503.0</td>\n",
       "      <td>74114.0</td>\n",
       "      <td>2019-03-07 17:39:47</td>\n",
       "      <td>2019-03-07 17:37:25</td>\n",
       "      <td>00:02:22</td>\n",
       "    </tr>\n",
       "    <tr>\n",
       "      <th>5</th>\n",
       "      <td>9</td>\n",
       "      <td>850</td>\n",
       "      <td>554</td>\n",
       "      <td>554</td>\n",
       "      <td>14414.0</td>\n",
       "      <td>67670.0</td>\n",
       "      <td>2019-03-07 17:38:33</td>\n",
       "      <td>2019-03-07 17:37:29</td>\n",
       "      <td>00:01:04</td>\n",
       "    </tr>\n",
       "    <tr>\n",
       "      <th>6</th>\n",
       "      <td>10</td>\n",
       "      <td>425</td>\n",
       "      <td>814</td>\n",
       "      <td>814</td>\n",
       "      <td>NaN</td>\n",
       "      <td>35629.0</td>\n",
       "      <td>2019-03-07 17:38:10</td>\n",
       "      <td>2019-03-07 17:36:56</td>\n",
       "      <td>00:01:14</td>\n",
       "    </tr>\n",
       "    <tr>\n",
       "      <th>7</th>\n",
       "      <td>13</td>\n",
       "      <td>563</td>\n",
       "      <td>400</td>\n",
       "      <td>400</td>\n",
       "      <td>72483.0</td>\n",
       "      <td>14744.0</td>\n",
       "      <td>2019-03-07 17:38:46</td>\n",
       "      <td>2019-03-07 17:36:55</td>\n",
       "      <td>00:01:51</td>\n",
       "    </tr>\n",
       "    <tr>\n",
       "      <th>8</th>\n",
       "      <td>16</td>\n",
       "      <td>829</td>\n",
       "      <td>400</td>\n",
       "      <td>400</td>\n",
       "      <td>33576.0</td>\n",
       "      <td>85247.0</td>\n",
       "      <td>2019-03-07 17:39:56</td>\n",
       "      <td>2019-03-07 17:37:04</td>\n",
       "      <td>00:02:52</td>\n",
       "    </tr>\n",
       "    <tr>\n",
       "      <th>9</th>\n",
       "      <td>17</td>\n",
       "      <td>636</td>\n",
       "      <td>959</td>\n",
       "      <td>959</td>\n",
       "      <td>6526.0</td>\n",
       "      <td>82439.0</td>\n",
       "      <td>2019-03-07 17:39:03</td>\n",
       "      <td>2019-03-07 17:37:37</td>\n",
       "      <td>00:01:26</td>\n",
       "    </tr>\n",
       "    <tr>\n",
       "      <th>10</th>\n",
       "      <td>19</td>\n",
       "      <td>982</td>\n",
       "      <td>448</td>\n",
       "      <td>448</td>\n",
       "      <td>20752.0</td>\n",
       "      <td>66844.0</td>\n",
       "      <td>2019-03-07 17:37:47</td>\n",
       "      <td>2019-03-07 17:37:11</td>\n",
       "      <td>00:00:36</td>\n",
       "    </tr>\n",
       "    <tr>\n",
       "      <th>11</th>\n",
       "      <td>22</td>\n",
       "      <td>207</td>\n",
       "      <td>448</td>\n",
       "      <td>448</td>\n",
       "      <td>NaN</td>\n",
       "      <td>54613.0</td>\n",
       "      <td>2019-03-07 17:39:32</td>\n",
       "      <td>2019-03-07 17:37:13</td>\n",
       "      <td>00:02:19</td>\n",
       "    </tr>\n",
       "    <tr>\n",
       "      <th>12</th>\n",
       "      <td>23</td>\n",
       "      <td>597</td>\n",
       "      <td>400</td>\n",
       "      <td>400</td>\n",
       "      <td>NaN</td>\n",
       "      <td>29026.0</td>\n",
       "      <td>2019-03-07 17:39:18</td>\n",
       "      <td>2019-03-07 17:37:30</td>\n",
       "      <td>00:01:48</td>\n",
       "    </tr>\n",
       "    <tr>\n",
       "      <th>13</th>\n",
       "      <td>24</td>\n",
       "      <td>157</td>\n",
       "      <td>625</td>\n",
       "      <td>625</td>\n",
       "      <td>29936.0</td>\n",
       "      <td>62995.0</td>\n",
       "      <td>2019-03-07 17:38:10</td>\n",
       "      <td>2019-03-07 17:36:58</td>\n",
       "      <td>00:01:12</td>\n",
       "    </tr>\n",
       "    <tr>\n",
       "      <th>14</th>\n",
       "      <td>26</td>\n",
       "      <td>182</td>\n",
       "      <td>400</td>\n",
       "      <td>400</td>\n",
       "      <td>42468.0</td>\n",
       "      <td>20140.0</td>\n",
       "      <td>2019-03-07 17:38:18</td>\n",
       "      <td>2019-03-07 17:37:37</td>\n",
       "      <td>00:00:41</td>\n",
       "    </tr>\n",
       "    <tr>\n",
       "      <th>15</th>\n",
       "      <td>27</td>\n",
       "      <td>769</td>\n",
       "      <td>732</td>\n",
       "      <td>732</td>\n",
       "      <td>46503.0</td>\n",
       "      <td>9806.0</td>\n",
       "      <td>2019-03-07 17:40:24</td>\n",
       "      <td>2019-03-07 17:36:57</td>\n",
       "      <td>00:03:27</td>\n",
       "    </tr>\n",
       "    <tr>\n",
       "      <th>16</th>\n",
       "      <td>30</td>\n",
       "      <td>899</td>\n",
       "      <td>124</td>\n",
       "      <td>124</td>\n",
       "      <td>40156.0</td>\n",
       "      <td>48841.0</td>\n",
       "      <td>2019-03-07 17:40:41</td>\n",
       "      <td>2019-03-07 17:37:10</td>\n",
       "      <td>00:03:31</td>\n",
       "    </tr>\n",
       "    <tr>\n",
       "      <th>17</th>\n",
       "      <td>32</td>\n",
       "      <td>319</td>\n",
       "      <td>502</td>\n",
       "      <td>502</td>\n",
       "      <td>92637.0</td>\n",
       "      <td>98878.0</td>\n",
       "      <td>2019-03-07 17:39:46</td>\n",
       "      <td>2019-03-07 17:36:57</td>\n",
       "      <td>00:02:49</td>\n",
       "    </tr>\n",
       "    <tr>\n",
       "      <th>18</th>\n",
       "      <td>34</td>\n",
       "      <td>771</td>\n",
       "      <td>732</td>\n",
       "      <td>732</td>\n",
       "      <td>39890.0</td>\n",
       "      <td>63546.0</td>\n",
       "      <td>2019-03-07 17:37:48</td>\n",
       "      <td>2019-03-07 17:37:09</td>\n",
       "      <td>00:00:39</td>\n",
       "    </tr>\n",
       "    <tr>\n",
       "      <th>19</th>\n",
       "      <td>38</td>\n",
       "      <td>213</td>\n",
       "      <td>440</td>\n",
       "      <td>440</td>\n",
       "      <td>NaN</td>\n",
       "      <td>59972.0</td>\n",
       "      <td>2019-03-07 17:38:56</td>\n",
       "      <td>2019-03-07 17:36:55</td>\n",
       "      <td>00:02:01</td>\n",
       "    </tr>\n",
       "    <tr>\n",
       "      <th>20</th>\n",
       "      <td>43</td>\n",
       "      <td>840</td>\n",
       "      <td>448</td>\n",
       "      <td>448</td>\n",
       "      <td>42996.0</td>\n",
       "      <td>45492.0</td>\n",
       "      <td>2019-03-07 17:38:12</td>\n",
       "      <td>2019-03-07 17:37:13</td>\n",
       "      <td>00:00:59</td>\n",
       "    </tr>\n",
       "    <tr>\n",
       "      <th>21</th>\n",
       "      <td>44</td>\n",
       "      <td>586</td>\n",
       "      <td>440</td>\n",
       "      <td>440</td>\n",
       "      <td>NaN</td>\n",
       "      <td>72702.0</td>\n",
       "      <td>2019-03-07 17:40:38</td>\n",
       "      <td>2019-03-07 17:37:09</td>\n",
       "      <td>00:03:29</td>\n",
       "    </tr>\n",
       "    <tr>\n",
       "      <th>22</th>\n",
       "      <td>45</td>\n",
       "      <td>850</td>\n",
       "      <td>732</td>\n",
       "      <td>732</td>\n",
       "      <td>14414.0</td>\n",
       "      <td>45535.0</td>\n",
       "      <td>2019-03-07 17:40:20</td>\n",
       "      <td>2019-03-07 17:37:08</td>\n",
       "      <td>00:03:12</td>\n",
       "    </tr>\n",
       "    <tr>\n",
       "      <th>23</th>\n",
       "      <td>46</td>\n",
       "      <td>642</td>\n",
       "      <td>496</td>\n",
       "      <td>496</td>\n",
       "      <td>21539.0</td>\n",
       "      <td>14918.0</td>\n",
       "      <td>2019-03-07 17:37:51</td>\n",
       "      <td>2019-03-07 17:37:12</td>\n",
       "      <td>00:00:39</td>\n",
       "    </tr>\n",
       "    <tr>\n",
       "      <th>24</th>\n",
       "      <td>47</td>\n",
       "      <td>366</td>\n",
       "      <td>732</td>\n",
       "      <td>732</td>\n",
       "      <td>70829.0</td>\n",
       "      <td>19047.0</td>\n",
       "      <td>2019-03-07 17:39:08</td>\n",
       "      <td>2019-03-07 17:37:27</td>\n",
       "      <td>00:01:41</td>\n",
       "    </tr>\n",
       "    <tr>\n",
       "      <th>25</th>\n",
       "      <td>48</td>\n",
       "      <td>251</td>\n",
       "      <td>448</td>\n",
       "      <td>448</td>\n",
       "      <td>98103.0</td>\n",
       "      <td>87237.0</td>\n",
       "      <td>2019-03-07 17:39:06</td>\n",
       "      <td>2019-03-07 17:37:29</td>\n",
       "      <td>00:01:37</td>\n",
       "    </tr>\n",
       "    <tr>\n",
       "      <th>26</th>\n",
       "      <td>50</td>\n",
       "      <td>580</td>\n",
       "      <td>400</td>\n",
       "      <td>400</td>\n",
       "      <td>34913.0</td>\n",
       "      <td>27963.0</td>\n",
       "      <td>2019-03-07 17:40:25</td>\n",
       "      <td>2019-03-07 17:37:05</td>\n",
       "      <td>00:03:20</td>\n",
       "    </tr>\n",
       "    <tr>\n",
       "      <th>27</th>\n",
       "      <td>52</td>\n",
       "      <td>648</td>\n",
       "      <td>440</td>\n",
       "      <td>440</td>\n",
       "      <td>67835.0</td>\n",
       "      <td>9142.0</td>\n",
       "      <td>2019-03-07 17:38:48</td>\n",
       "      <td>2019-03-07 17:37:07</td>\n",
       "      <td>00:01:41</td>\n",
       "    </tr>\n",
       "    <tr>\n",
       "      <th>28</th>\n",
       "      <td>57</td>\n",
       "      <td>584</td>\n",
       "      <td>732</td>\n",
       "      <td>732</td>\n",
       "      <td>54820.0</td>\n",
       "      <td>42468.0</td>\n",
       "      <td>2019-03-07 17:39:55</td>\n",
       "      <td>2019-03-07 17:37:09</td>\n",
       "      <td>00:02:46</td>\n",
       "    </tr>\n",
       "    <tr>\n",
       "      <th>29</th>\n",
       "      <td>58</td>\n",
       "      <td>335</td>\n",
       "      <td>502</td>\n",
       "      <td>502</td>\n",
       "      <td>3048.0</td>\n",
       "      <td>56299.0</td>\n",
       "      <td>2019-03-07 17:39:26</td>\n",
       "      <td>2019-03-07 17:36:57</td>\n",
       "      <td>00:02:29</td>\n",
       "    </tr>\n",
       "    <tr>\n",
       "      <th>...</th>\n",
       "      <td>...</td>\n",
       "      <td>...</td>\n",
       "      <td>...</td>\n",
       "      <td>...</td>\n",
       "      <td>...</td>\n",
       "      <td>...</td>\n",
       "      <td>...</td>\n",
       "      <td>...</td>\n",
       "      <td>...</td>\n",
       "    </tr>\n",
       "    <tr>\n",
       "      <th>969</th>\n",
       "      <td>929</td>\n",
       "      <td>885</td>\n",
       "      <td>732</td>\n",
       "      <td>732</td>\n",
       "      <td>59484.0</td>\n",
       "      <td>4468.0</td>\n",
       "      <td>2019-03-07 17:43:05</td>\n",
       "      <td>2019-03-07 17:40:01</td>\n",
       "      <td>00:03:04</td>\n",
       "    </tr>\n",
       "    <tr>\n",
       "      <th>970</th>\n",
       "      <td>930</td>\n",
       "      <td>892</td>\n",
       "      <td>251</td>\n",
       "      <td>251</td>\n",
       "      <td>66520.0</td>\n",
       "      <td>98103.0</td>\n",
       "      <td>2019-03-07 17:41:53</td>\n",
       "      <td>2019-03-07 17:39:43</td>\n",
       "      <td>00:02:10</td>\n",
       "    </tr>\n",
       "    <tr>\n",
       "      <th>971</th>\n",
       "      <td>931</td>\n",
       "      <td>272</td>\n",
       "      <td>207</td>\n",
       "      <td>207</td>\n",
       "      <td>4763.0</td>\n",
       "      <td>NaN</td>\n",
       "      <td>2019-03-07 17:43:00</td>\n",
       "      <td>2019-03-07 17:39:46</td>\n",
       "      <td>00:03:14</td>\n",
       "    </tr>\n",
       "    <tr>\n",
       "      <th>972</th>\n",
       "      <td>934</td>\n",
       "      <td>207</td>\n",
       "      <td>727</td>\n",
       "      <td>727</td>\n",
       "      <td>32540.0</td>\n",
       "      <td>98148.0</td>\n",
       "      <td>2019-03-07 17:41:01</td>\n",
       "      <td>2019-03-07 17:40:04</td>\n",
       "      <td>00:00:57</td>\n",
       "    </tr>\n",
       "    <tr>\n",
       "      <th>973</th>\n",
       "      <td>936</td>\n",
       "      <td>951</td>\n",
       "      <td>448</td>\n",
       "      <td>448</td>\n",
       "      <td>66844.0</td>\n",
       "      <td>39388.0</td>\n",
       "      <td>2019-03-07 17:42:16</td>\n",
       "      <td>2019-03-07 17:40:06</td>\n",
       "      <td>00:02:10</td>\n",
       "    </tr>\n",
       "    <tr>\n",
       "      <th>974</th>\n",
       "      <td>938</td>\n",
       "      <td>124</td>\n",
       "      <td>732</td>\n",
       "      <td>732</td>\n",
       "      <td>35198.0</td>\n",
       "      <td>4468.0</td>\n",
       "      <td>2019-03-07 17:41:51</td>\n",
       "      <td>2019-03-07 17:40:23</td>\n",
       "      <td>00:01:28</td>\n",
       "    </tr>\n",
       "    <tr>\n",
       "      <th>975</th>\n",
       "      <td>939</td>\n",
       "      <td>485</td>\n",
       "      <td>727</td>\n",
       "      <td>727</td>\n",
       "      <td>4595.0</td>\n",
       "      <td>98148.0</td>\n",
       "      <td>2019-03-07 17:40:45</td>\n",
       "      <td>2019-03-07 17:40:13</td>\n",
       "      <td>00:00:32</td>\n",
       "    </tr>\n",
       "    <tr>\n",
       "      <th>976</th>\n",
       "      <td>941</td>\n",
       "      <td>313</td>\n",
       "      <td>727</td>\n",
       "      <td>727</td>\n",
       "      <td>78511.0</td>\n",
       "      <td>98148.0</td>\n",
       "      <td>2019-03-07 17:42:47</td>\n",
       "      <td>2019-03-07 17:40:32</td>\n",
       "      <td>00:02:15</td>\n",
       "    </tr>\n",
       "    <tr>\n",
       "      <th>977</th>\n",
       "      <td>943</td>\n",
       "      <td>573</td>\n",
       "      <td>124</td>\n",
       "      <td>124</td>\n",
       "      <td>25337.0</td>\n",
       "      <td>44737.0</td>\n",
       "      <td>2019-03-07 17:41:16</td>\n",
       "      <td>2019-03-07 17:40:11</td>\n",
       "      <td>00:01:05</td>\n",
       "    </tr>\n",
       "    <tr>\n",
       "      <th>978</th>\n",
       "      <td>944</td>\n",
       "      <td>447</td>\n",
       "      <td>959</td>\n",
       "      <td>959</td>\n",
       "      <td>33072.0</td>\n",
       "      <td>NaN</td>\n",
       "      <td>2019-03-07 17:41:47</td>\n",
       "      <td>2019-03-07 17:40:29</td>\n",
       "      <td>00:01:18</td>\n",
       "    </tr>\n",
       "    <tr>\n",
       "      <th>979</th>\n",
       "      <td>948</td>\n",
       "      <td>888</td>\n",
       "      <td>732</td>\n",
       "      <td>732</td>\n",
       "      <td>7646.0</td>\n",
       "      <td>4468.0</td>\n",
       "      <td>2019-03-07 17:41:58</td>\n",
       "      <td>2019-03-07 17:40:34</td>\n",
       "      <td>00:01:24</td>\n",
       "    </tr>\n",
       "    <tr>\n",
       "      <th>980</th>\n",
       "      <td>949</td>\n",
       "      <td>597</td>\n",
       "      <td>732</td>\n",
       "      <td>732</td>\n",
       "      <td>2497.0</td>\n",
       "      <td>4468.0</td>\n",
       "      <td>2019-03-07 17:42:42</td>\n",
       "      <td>2019-03-07 17:40:10</td>\n",
       "      <td>00:02:32</td>\n",
       "    </tr>\n",
       "    <tr>\n",
       "      <th>981</th>\n",
       "      <td>950</td>\n",
       "      <td>272</td>\n",
       "      <td>771</td>\n",
       "      <td>771</td>\n",
       "      <td>64574.0</td>\n",
       "      <td>39890.0</td>\n",
       "      <td>2019-03-07 17:43:36</td>\n",
       "      <td>2019-03-07 17:40:00</td>\n",
       "      <td>00:03:36</td>\n",
       "    </tr>\n",
       "    <tr>\n",
       "      <th>982</th>\n",
       "      <td>954</td>\n",
       "      <td>124</td>\n",
       "      <td>987</td>\n",
       "      <td>987</td>\n",
       "      <td>59401.0</td>\n",
       "      <td>10163.0</td>\n",
       "      <td>2019-03-07 17:40:47</td>\n",
       "      <td>2019-03-07 17:40:01</td>\n",
       "      <td>00:00:46</td>\n",
       "    </tr>\n",
       "    <tr>\n",
       "      <th>983</th>\n",
       "      <td>956</td>\n",
       "      <td>959</td>\n",
       "      <td>573</td>\n",
       "      <td>573</td>\n",
       "      <td>74114.0</td>\n",
       "      <td>80846.0</td>\n",
       "      <td>2019-03-07 17:43:54</td>\n",
       "      <td>2019-03-07 17:40:33</td>\n",
       "      <td>00:03:21</td>\n",
       "    </tr>\n",
       "    <tr>\n",
       "      <th>984</th>\n",
       "      <td>962</td>\n",
       "      <td>313</td>\n",
       "      <td>954</td>\n",
       "      <td>954</td>\n",
       "      <td>9142.0</td>\n",
       "      <td>19047.0</td>\n",
       "      <td>2019-03-07 17:43:28</td>\n",
       "      <td>2019-03-07 17:40:25</td>\n",
       "      <td>00:03:03</td>\n",
       "    </tr>\n",
       "    <tr>\n",
       "      <th>985</th>\n",
       "      <td>965</td>\n",
       "      <td>675</td>\n",
       "      <td>987</td>\n",
       "      <td>987</td>\n",
       "      <td>43592.0</td>\n",
       "      <td>10163.0</td>\n",
       "      <td>2019-03-07 17:41:48</td>\n",
       "      <td>2019-03-07 17:40:10</td>\n",
       "      <td>00:01:38</td>\n",
       "    </tr>\n",
       "    <tr>\n",
       "      <th>986</th>\n",
       "      <td>967</td>\n",
       "      <td>124</td>\n",
       "      <td>440</td>\n",
       "      <td>440</td>\n",
       "      <td>68137.0</td>\n",
       "      <td>16963.0</td>\n",
       "      <td>2019-03-07 17:42:47</td>\n",
       "      <td>2019-03-07 17:40:14</td>\n",
       "      <td>00:02:33</td>\n",
       "    </tr>\n",
       "    <tr>\n",
       "      <th>987</th>\n",
       "      <td>969</td>\n",
       "      <td>784</td>\n",
       "      <td>502</td>\n",
       "      <td>502</td>\n",
       "      <td>10743.0</td>\n",
       "      <td>92800.0</td>\n",
       "      <td>2019-03-07 17:42:18</td>\n",
       "      <td>2019-03-07 17:39:53</td>\n",
       "      <td>00:02:25</td>\n",
       "    </tr>\n",
       "    <tr>\n",
       "      <th>988</th>\n",
       "      <td>970</td>\n",
       "      <td>888</td>\n",
       "      <td>448</td>\n",
       "      <td>448</td>\n",
       "      <td>49865.0</td>\n",
       "      <td>39388.0</td>\n",
       "      <td>2019-03-07 17:42:57</td>\n",
       "      <td>2019-03-07 17:40:26</td>\n",
       "      <td>00:02:31</td>\n",
       "    </tr>\n",
       "    <tr>\n",
       "      <th>989</th>\n",
       "      <td>976</td>\n",
       "      <td>124</td>\n",
       "      <td>448</td>\n",
       "      <td>448</td>\n",
       "      <td>27065.0</td>\n",
       "      <td>39388.0</td>\n",
       "      <td>2019-03-07 17:42:49</td>\n",
       "      <td>2019-03-07 17:39:59</td>\n",
       "      <td>00:02:50</td>\n",
       "    </tr>\n",
       "    <tr>\n",
       "      <th>990</th>\n",
       "      <td>978</td>\n",
       "      <td>766</td>\n",
       "      <td>784</td>\n",
       "      <td>784</td>\n",
       "      <td>16180.0</td>\n",
       "      <td>99653.0</td>\n",
       "      <td>2019-03-07 17:41:24</td>\n",
       "      <td>2019-03-07 17:40:10</td>\n",
       "      <td>00:01:14</td>\n",
       "    </tr>\n",
       "    <tr>\n",
       "      <th>991</th>\n",
       "      <td>979</td>\n",
       "      <td>951</td>\n",
       "      <td>771</td>\n",
       "      <td>771</td>\n",
       "      <td>61253.0</td>\n",
       "      <td>39890.0</td>\n",
       "      <td>2019-03-07 17:42:24</td>\n",
       "      <td>2019-03-07 17:40:13</td>\n",
       "      <td>00:02:11</td>\n",
       "    </tr>\n",
       "    <tr>\n",
       "      <th>992</th>\n",
       "      <td>982</td>\n",
       "      <td>584</td>\n",
       "      <td>732</td>\n",
       "      <td>732</td>\n",
       "      <td>89308.0</td>\n",
       "      <td>4468.0</td>\n",
       "      <td>2019-03-07 17:43:11</td>\n",
       "      <td>2019-03-07 17:40:09</td>\n",
       "      <td>00:03:02</td>\n",
       "    </tr>\n",
       "    <tr>\n",
       "      <th>993</th>\n",
       "      <td>985</td>\n",
       "      <td>883</td>\n",
       "      <td>496</td>\n",
       "      <td>496</td>\n",
       "      <td>3911.0</td>\n",
       "      <td>NaN</td>\n",
       "      <td>2019-03-07 17:41:20</td>\n",
       "      <td>2019-03-07 17:40:16</td>\n",
       "      <td>00:01:04</td>\n",
       "    </tr>\n",
       "    <tr>\n",
       "      <th>994</th>\n",
       "      <td>986</td>\n",
       "      <td>568</td>\n",
       "      <td>400</td>\n",
       "      <td>400</td>\n",
       "      <td>11951.0</td>\n",
       "      <td>NaN</td>\n",
       "      <td>2019-03-07 17:43:30</td>\n",
       "      <td>2019-03-07 17:40:05</td>\n",
       "      <td>00:03:25</td>\n",
       "    </tr>\n",
       "    <tr>\n",
       "      <th>995</th>\n",
       "      <td>987</td>\n",
       "      <td>584</td>\n",
       "      <td>732</td>\n",
       "      <td>732</td>\n",
       "      <td>28866.0</td>\n",
       "      <td>4468.0</td>\n",
       "      <td>2019-03-07 17:42:09</td>\n",
       "      <td>2019-03-07 17:40:04</td>\n",
       "      <td>00:02:05</td>\n",
       "    </tr>\n",
       "    <tr>\n",
       "      <th>996</th>\n",
       "      <td>992</td>\n",
       "      <td>1000</td>\n",
       "      <td>892</td>\n",
       "      <td>892</td>\n",
       "      <td>95212.0</td>\n",
       "      <td>44383.0</td>\n",
       "      <td>2019-03-07 17:42:10</td>\n",
       "      <td>2019-03-07 17:40:38</td>\n",
       "      <td>00:01:32</td>\n",
       "    </tr>\n",
       "    <tr>\n",
       "      <th>997</th>\n",
       "      <td>993</td>\n",
       "      <td>289</td>\n",
       "      <td>400</td>\n",
       "      <td>400</td>\n",
       "      <td>90509.0</td>\n",
       "      <td>NaN</td>\n",
       "      <td>2019-03-07 17:44:03</td>\n",
       "      <td>2019-03-07 17:40:21</td>\n",
       "      <td>00:03:42</td>\n",
       "    </tr>\n",
       "    <tr>\n",
       "      <th>998</th>\n",
       "      <td>994</td>\n",
       "      <td>850</td>\n",
       "      <td>727</td>\n",
       "      <td>727</td>\n",
       "      <td>31983.0</td>\n",
       "      <td>98148.0</td>\n",
       "      <td>2019-03-07 17:40:52</td>\n",
       "      <td>2019-03-07 17:40:34</td>\n",
       "      <td>00:00:18</td>\n",
       "    </tr>\n",
       "  </tbody>\n",
       "</table>\n",
       "<p>999 rows × 9 columns</p>\n",
       "</div>"
      ],
      "text/plain": [
       "     Call_id  From   To  with_forward_To  UID_From   UID_To  \\\n",
       "0          3   675  338              338    2502.0  32112.0   \n",
       "1          4   447  448              448   62995.0   2770.0   \n",
       "2          5   648  338              338   67835.0   8953.0   \n",
       "3          6   954  448              448   19047.0  34913.0   \n",
       "4          7   769  581              581   46503.0  74114.0   \n",
       "5          9   850  554              554   14414.0  67670.0   \n",
       "6         10   425  814              814       NaN  35629.0   \n",
       "7         13   563  400              400   72483.0  14744.0   \n",
       "8         16   829  400              400   33576.0  85247.0   \n",
       "9         17   636  959              959    6526.0  82439.0   \n",
       "10        19   982  448              448   20752.0  66844.0   \n",
       "11        22   207  448              448       NaN  54613.0   \n",
       "12        23   597  400              400       NaN  29026.0   \n",
       "13        24   157  625              625   29936.0  62995.0   \n",
       "14        26   182  400              400   42468.0  20140.0   \n",
       "15        27   769  732              732   46503.0   9806.0   \n",
       "16        30   899  124              124   40156.0  48841.0   \n",
       "17        32   319  502              502   92637.0  98878.0   \n",
       "18        34   771  732              732   39890.0  63546.0   \n",
       "19        38   213  440              440       NaN  59972.0   \n",
       "20        43   840  448              448   42996.0  45492.0   \n",
       "21        44   586  440              440       NaN  72702.0   \n",
       "22        45   850  732              732   14414.0  45535.0   \n",
       "23        46   642  496              496   21539.0  14918.0   \n",
       "24        47   366  732              732   70829.0  19047.0   \n",
       "25        48   251  448              448   98103.0  87237.0   \n",
       "26        50   580  400              400   34913.0  27963.0   \n",
       "27        52   648  440              440   67835.0   9142.0   \n",
       "28        57   584  732              732   54820.0  42468.0   \n",
       "29        58   335  502              502    3048.0  56299.0   \n",
       "..       ...   ...  ...              ...       ...      ...   \n",
       "969      929   885  732              732   59484.0   4468.0   \n",
       "970      930   892  251              251   66520.0  98103.0   \n",
       "971      931   272  207              207    4763.0      NaN   \n",
       "972      934   207  727              727   32540.0  98148.0   \n",
       "973      936   951  448              448   66844.0  39388.0   \n",
       "974      938   124  732              732   35198.0   4468.0   \n",
       "975      939   485  727              727    4595.0  98148.0   \n",
       "976      941   313  727              727   78511.0  98148.0   \n",
       "977      943   573  124              124   25337.0  44737.0   \n",
       "978      944   447  959              959   33072.0      NaN   \n",
       "979      948   888  732              732    7646.0   4468.0   \n",
       "980      949   597  732              732    2497.0   4468.0   \n",
       "981      950   272  771              771   64574.0  39890.0   \n",
       "982      954   124  987              987   59401.0  10163.0   \n",
       "983      956   959  573              573   74114.0  80846.0   \n",
       "984      962   313  954              954    9142.0  19047.0   \n",
       "985      965   675  987              987   43592.0  10163.0   \n",
       "986      967   124  440              440   68137.0  16963.0   \n",
       "987      969   784  502              502   10743.0  92800.0   \n",
       "988      970   888  448              448   49865.0  39388.0   \n",
       "989      976   124  448              448   27065.0  39388.0   \n",
       "990      978   766  784              784   16180.0  99653.0   \n",
       "991      979   951  771              771   61253.0  39890.0   \n",
       "992      982   584  732              732   89308.0   4468.0   \n",
       "993      985   883  496              496    3911.0      NaN   \n",
       "994      986   568  400              400   11951.0      NaN   \n",
       "995      987   584  732              732   28866.0   4468.0   \n",
       "996      992  1000  892              892   95212.0  44383.0   \n",
       "997      993   289  400              400   90509.0      NaN   \n",
       "998      994   850  727              727   31983.0  98148.0   \n",
       "\n",
       "          Timestamp_end     Timestamp_start duration  \n",
       "0   2019-03-07 17:39:21 2019-03-07 17:37:35 00:01:46  \n",
       "1   2019-03-07 17:37:45 2019-03-07 17:36:56 00:00:49  \n",
       "2   2019-03-07 17:39:03 2019-03-07 17:37:24 00:01:39  \n",
       "3   2019-03-07 17:40:23 2019-03-07 17:37:07 00:03:16  \n",
       "4   2019-03-07 17:39:47 2019-03-07 17:37:25 00:02:22  \n",
       "5   2019-03-07 17:38:33 2019-03-07 17:37:29 00:01:04  \n",
       "6   2019-03-07 17:38:10 2019-03-07 17:36:56 00:01:14  \n",
       "7   2019-03-07 17:38:46 2019-03-07 17:36:55 00:01:51  \n",
       "8   2019-03-07 17:39:56 2019-03-07 17:37:04 00:02:52  \n",
       "9   2019-03-07 17:39:03 2019-03-07 17:37:37 00:01:26  \n",
       "10  2019-03-07 17:37:47 2019-03-07 17:37:11 00:00:36  \n",
       "11  2019-03-07 17:39:32 2019-03-07 17:37:13 00:02:19  \n",
       "12  2019-03-07 17:39:18 2019-03-07 17:37:30 00:01:48  \n",
       "13  2019-03-07 17:38:10 2019-03-07 17:36:58 00:01:12  \n",
       "14  2019-03-07 17:38:18 2019-03-07 17:37:37 00:00:41  \n",
       "15  2019-03-07 17:40:24 2019-03-07 17:36:57 00:03:27  \n",
       "16  2019-03-07 17:40:41 2019-03-07 17:37:10 00:03:31  \n",
       "17  2019-03-07 17:39:46 2019-03-07 17:36:57 00:02:49  \n",
       "18  2019-03-07 17:37:48 2019-03-07 17:37:09 00:00:39  \n",
       "19  2019-03-07 17:38:56 2019-03-07 17:36:55 00:02:01  \n",
       "20  2019-03-07 17:38:12 2019-03-07 17:37:13 00:00:59  \n",
       "21  2019-03-07 17:40:38 2019-03-07 17:37:09 00:03:29  \n",
       "22  2019-03-07 17:40:20 2019-03-07 17:37:08 00:03:12  \n",
       "23  2019-03-07 17:37:51 2019-03-07 17:37:12 00:00:39  \n",
       "24  2019-03-07 17:39:08 2019-03-07 17:37:27 00:01:41  \n",
       "25  2019-03-07 17:39:06 2019-03-07 17:37:29 00:01:37  \n",
       "26  2019-03-07 17:40:25 2019-03-07 17:37:05 00:03:20  \n",
       "27  2019-03-07 17:38:48 2019-03-07 17:37:07 00:01:41  \n",
       "28  2019-03-07 17:39:55 2019-03-07 17:37:09 00:02:46  \n",
       "29  2019-03-07 17:39:26 2019-03-07 17:36:57 00:02:29  \n",
       "..                  ...                 ...      ...  \n",
       "969 2019-03-07 17:43:05 2019-03-07 17:40:01 00:03:04  \n",
       "970 2019-03-07 17:41:53 2019-03-07 17:39:43 00:02:10  \n",
       "971 2019-03-07 17:43:00 2019-03-07 17:39:46 00:03:14  \n",
       "972 2019-03-07 17:41:01 2019-03-07 17:40:04 00:00:57  \n",
       "973 2019-03-07 17:42:16 2019-03-07 17:40:06 00:02:10  \n",
       "974 2019-03-07 17:41:51 2019-03-07 17:40:23 00:01:28  \n",
       "975 2019-03-07 17:40:45 2019-03-07 17:40:13 00:00:32  \n",
       "976 2019-03-07 17:42:47 2019-03-07 17:40:32 00:02:15  \n",
       "977 2019-03-07 17:41:16 2019-03-07 17:40:11 00:01:05  \n",
       "978 2019-03-07 17:41:47 2019-03-07 17:40:29 00:01:18  \n",
       "979 2019-03-07 17:41:58 2019-03-07 17:40:34 00:01:24  \n",
       "980 2019-03-07 17:42:42 2019-03-07 17:40:10 00:02:32  \n",
       "981 2019-03-07 17:43:36 2019-03-07 17:40:00 00:03:36  \n",
       "982 2019-03-07 17:40:47 2019-03-07 17:40:01 00:00:46  \n",
       "983 2019-03-07 17:43:54 2019-03-07 17:40:33 00:03:21  \n",
       "984 2019-03-07 17:43:28 2019-03-07 17:40:25 00:03:03  \n",
       "985 2019-03-07 17:41:48 2019-03-07 17:40:10 00:01:38  \n",
       "986 2019-03-07 17:42:47 2019-03-07 17:40:14 00:02:33  \n",
       "987 2019-03-07 17:42:18 2019-03-07 17:39:53 00:02:25  \n",
       "988 2019-03-07 17:42:57 2019-03-07 17:40:26 00:02:31  \n",
       "989 2019-03-07 17:42:49 2019-03-07 17:39:59 00:02:50  \n",
       "990 2019-03-07 17:41:24 2019-03-07 17:40:10 00:01:14  \n",
       "991 2019-03-07 17:42:24 2019-03-07 17:40:13 00:02:11  \n",
       "992 2019-03-07 17:43:11 2019-03-07 17:40:09 00:03:02  \n",
       "993 2019-03-07 17:41:20 2019-03-07 17:40:16 00:01:04  \n",
       "994 2019-03-07 17:43:30 2019-03-07 17:40:05 00:03:25  \n",
       "995 2019-03-07 17:42:09 2019-03-07 17:40:04 00:02:05  \n",
       "996 2019-03-07 17:42:10 2019-03-07 17:40:38 00:01:32  \n",
       "997 2019-03-07 17:44:03 2019-03-07 17:40:21 00:03:42  \n",
       "998 2019-03-07 17:40:52 2019-03-07 17:40:34 00:00:18  \n",
       "\n",
       "[999 rows x 9 columns]"
      ]
     },
     "execution_count": 44,
     "metadata": {},
     "output_type": "execute_result"
    }
   ],
   "source": [
    "columns=[\"Call_id\", \"From\",\"To\",\"with_forward_To\",\"UID_From\",\"UID_To\",\"Timestamp_end\",\"Timestamp_start\",\"duration\"]\n",
    "new_table = pd.concat([calls_in, calls_out], ignore_index=True,axis=0,sort=True)[columns]\n",
    "new_table"
   ]
  },
  {
   "cell_type": "markdown",
   "metadata": {},
   "source": [
    "Compute charges. According to rates, charges get from outcome calls, which don't include in Numbers table list."
   ]
  },
  {
   "cell_type": "code",
   "execution_count": 45,
   "metadata": {},
   "outputs": [],
   "source": [
    "dur_sec = pd.Series([x.seconds for x in new_table.duration])\n",
    "new_table[\"charges\"] = ((~new_table.UID_To.isin(data[3].UID))+0)*dur_sec*0.04"
   ]
  },
  {
   "cell_type": "markdown",
   "metadata": {},
   "source": [
    "Total charges"
   ]
  },
  {
   "cell_type": "code",
   "execution_count": 46,
   "metadata": {},
   "outputs": [
    {
     "data": {
      "text/plain": [
       "2836.6000000000004"
      ]
     },
     "execution_count": 46,
     "metadata": {},
     "output_type": "execute_result"
    }
   ],
   "source": [
    "new_table[\"charges\"].sum()"
   ]
  },
  {
   "cell_type": "markdown",
   "metadata": {},
   "source": [
    "Let's find the most active users. The most active users make most of calls (number). Also we can take duration of calls as measure."
   ]
  },
  {
   "cell_type": "markdown",
   "metadata": {},
   "source": [
    "Clients, who have most of income calls."
   ]
  },
  {
   "cell_type": "code",
   "execution_count": 47,
   "metadata": {
    "scrolled": true
   },
   "outputs": [
    {
     "data": {
      "text/plain": [
       "UID_To\n",
       "4468.0     55\n",
       "92800.0    31\n",
       "21110.0    30\n",
       "39388.0    29\n",
       "44383.0    25\n",
       "98103.0    21\n",
       "16963.0    20\n",
       "10163.0    12\n",
       "80846.0    12\n",
       "6526.0     12\n",
       "14326.0    11\n",
       "98148.0    11\n",
       "32112.0    10\n",
       "19047.0    10\n",
       "2502.0     10\n",
       "14414.0     9\n",
       "39890.0     9\n",
       "99499.0     8\n",
       "38210.0     8\n",
       "30415.0     8\n",
       "52305.0     7\n",
       "14584.0     7\n",
       "45492.0     6\n",
       "89257.0     6\n",
       "22350.0     6\n",
       "29936.0     6\n",
       "99653.0     6\n",
       "21539.0     5\n",
       "17794.0     5\n",
       "33576.0     5\n",
       "           ..\n",
       "54992.0     1\n",
       "82848.0     1\n",
       "55292.0     1\n",
       "55983.0     1\n",
       "56802.0     1\n",
       "56929.0     1\n",
       "56960.0     1\n",
       "57039.0     1\n",
       "57080.0     1\n",
       "82439.0     1\n",
       "51222.0     1\n",
       "47613.0     1\n",
       "48841.0     1\n",
       "47653.0     1\n",
       "47768.0     1\n",
       "47969.0     1\n",
       "48049.0     1\n",
       "99892.0     1\n",
       "48524.0     1\n",
       "48593.0     1\n",
       "48892.0     1\n",
       "50869.0     1\n",
       "49764.0     1\n",
       "49856.0     1\n",
       "49865.0     1\n",
       "50002.0     1\n",
       "50125.0     1\n",
       "50148.0     1\n",
       "50480.0     1\n",
       "48285.0     1\n",
       "Length: 425, dtype: int64"
      ]
     },
     "execution_count": 47,
     "metadata": {},
     "output_type": "execute_result"
    }
   ],
   "source": [
    "most_calls_To = new_table.groupby(\"UID_To\").size().sort_values(ascending=False)\n",
    "most_calls_To"
   ]
  },
  {
   "cell_type": "markdown",
   "metadata": {},
   "source": [
    "Clients, who make most of outcome calls."
   ]
  },
  {
   "cell_type": "code",
   "execution_count": 48,
   "metadata": {
    "scrolled": true
   },
   "outputs": [
    {
     "data": {
      "text/plain": [
       "UID_From\n",
       "40156.0    18\n",
       "19047.0    12\n",
       "71788.0    12\n",
       "4468.0     12\n",
       "54820.0    11\n",
       "84028.0    11\n",
       "16963.0    10\n",
       "10163.0    10\n",
       "67835.0    10\n",
       "70829.0     9\n",
       "46503.0     9\n",
       "42996.0     9\n",
       "63546.0     9\n",
       "14744.0     9\n",
       "32112.0     8\n",
       "88196.0     8\n",
       "22719.0     8\n",
       "44737.0     8\n",
       "34913.0     8\n",
       "74303.0     8\n",
       "74156.0     8\n",
       "72483.0     8\n",
       "40872.0     8\n",
       "84116.0     8\n",
       "98450.0     7\n",
       "38210.0     7\n",
       "89257.0     7\n",
       "6526.0      7\n",
       "75919.0     7\n",
       "45535.0     7\n",
       "           ..\n",
       "45391.0     1\n",
       "74548.0     1\n",
       "44629.0     1\n",
       "75263.0     1\n",
       "44382.0     1\n",
       "44257.0     1\n",
       "75811.0     1\n",
       "44012.0     1\n",
       "43819.0     1\n",
       "43740.0     1\n",
       "43592.0     1\n",
       "43350.0     1\n",
       "76717.0     1\n",
       "77299.0     1\n",
       "77320.0     1\n",
       "77810.0     1\n",
       "41634.0     1\n",
       "41492.0     1\n",
       "78101.0     1\n",
       "41117.0     1\n",
       "78431.0     1\n",
       "41034.0     1\n",
       "40972.0     1\n",
       "78511.0     1\n",
       "40320.0     1\n",
       "78757.0     1\n",
       "79590.0     1\n",
       "39856.0     1\n",
       "39751.0     1\n",
       "99672.0     1\n",
       "Length: 403, dtype: int64"
      ]
     },
     "execution_count": 48,
     "metadata": {},
     "output_type": "execute_result"
    }
   ],
   "source": [
    "most_calls_From = new_table.groupby(\"UID_From\").size().sort_values(ascending=False)\n",
    "most_calls_From"
   ]
  },
  {
   "cell_type": "markdown",
   "metadata": {},
   "source": [
    "Let's combine this results and get top-10 of the most active clients."
   ]
  },
  {
   "cell_type": "code",
   "execution_count": null,
   "metadata": {},
   "outputs": [],
   "source": []
  },
  {
   "cell_type": "code",
   "execution_count": 49,
   "metadata": {},
   "outputs": [
    {
     "data": {
      "text/plain": [
       "4468.0     67.0\n",
       "92800.0    36.0\n",
       "39388.0    34.0\n",
       "21110.0    33.0\n",
       "16963.0    30.0\n",
       "44383.0    29.0\n",
       "98103.0    27.0\n",
       "10163.0    22.0\n",
       "19047.0    22.0\n",
       "80846.0    19.0\n",
       "dtype: float64"
      ]
     },
     "execution_count": 49,
     "metadata": {},
     "output_type": "execute_result"
    }
   ],
   "source": [
    "most_calls = most_calls_To.add(most_calls_From,fill_value=0).sort_values(ascending=False)\n",
    "most_calls.iloc[:10]"
   ]
  },
  {
   "cell_type": "markdown",
   "metadata": {},
   "source": [
    "Top-10 clients with highest charges."
   ]
  },
  {
   "cell_type": "code",
   "execution_count": 50,
   "metadata": {
    "scrolled": true
   },
   "outputs": [
    {
     "data": {
      "text/html": [
       "<div>\n",
       "<style scoped>\n",
       "    .dataframe tbody tr th:only-of-type {\n",
       "        vertical-align: middle;\n",
       "    }\n",
       "\n",
       "    .dataframe tbody tr th {\n",
       "        vertical-align: top;\n",
       "    }\n",
       "\n",
       "    .dataframe thead th {\n",
       "        text-align: right;\n",
       "    }\n",
       "</style>\n",
       "<table border=\"1\" class=\"dataframe\">\n",
       "  <thead>\n",
       "    <tr style=\"text-align: right;\">\n",
       "      <th></th>\n",
       "      <th>charges</th>\n",
       "    </tr>\n",
       "    <tr>\n",
       "      <th>UID_From</th>\n",
       "      <th></th>\n",
       "    </tr>\n",
       "  </thead>\n",
       "  <tbody>\n",
       "    <tr>\n",
       "      <th>40156.0</th>\n",
       "      <td>86.36</td>\n",
       "    </tr>\n",
       "    <tr>\n",
       "      <th>19047.0</th>\n",
       "      <td>55.32</td>\n",
       "    </tr>\n",
       "    <tr>\n",
       "      <th>84028.0</th>\n",
       "      <td>50.12</td>\n",
       "    </tr>\n",
       "    <tr>\n",
       "      <th>4468.0</th>\n",
       "      <td>48.68</td>\n",
       "    </tr>\n",
       "    <tr>\n",
       "      <th>46503.0</th>\n",
       "      <td>48.60</td>\n",
       "    </tr>\n",
       "    <tr>\n",
       "      <th>10163.0</th>\n",
       "      <td>47.96</td>\n",
       "    </tr>\n",
       "    <tr>\n",
       "      <th>63546.0</th>\n",
       "      <td>47.88</td>\n",
       "    </tr>\n",
       "    <tr>\n",
       "      <th>34913.0</th>\n",
       "      <td>45.44</td>\n",
       "    </tr>\n",
       "    <tr>\n",
       "      <th>71788.0</th>\n",
       "      <td>44.04</td>\n",
       "    </tr>\n",
       "    <tr>\n",
       "      <th>84116.0</th>\n",
       "      <td>42.84</td>\n",
       "    </tr>\n",
       "  </tbody>\n",
       "</table>\n",
       "</div>"
      ],
      "text/plain": [
       "          charges\n",
       "UID_From         \n",
       "40156.0     86.36\n",
       "19047.0     55.32\n",
       "84028.0     50.12\n",
       "4468.0      48.68\n",
       "46503.0     48.60\n",
       "10163.0     47.96\n",
       "63546.0     47.88\n",
       "34913.0     45.44\n",
       "71788.0     44.04\n",
       "84116.0     42.84"
      ]
     },
     "execution_count": 50,
     "metadata": {},
     "output_type": "execute_result"
    }
   ],
   "source": [
    "new_table.groupby(\"UID_From\").agg({\"charges\":np.sum}).sort_values(by=\"charges\", ascending=False).iloc[:10]"
   ]
  },
  {
   "cell_type": "code",
   "execution_count": null,
   "metadata": {},
   "outputs": [],
   "source": []
  }
 ],
 "metadata": {
  "kernelspec": {
   "display_name": "Python 3",
   "language": "python",
   "name": "python3"
  },
  "language_info": {
   "codemirror_mode": {
    "name": "ipython",
    "version": 3
   },
   "file_extension": ".py",
   "mimetype": "text/x-python",
   "name": "python",
   "nbconvert_exporter": "python",
   "pygments_lexer": "ipython3",
   "version": "3.6.3"
  }
 },
 "nbformat": 4,
 "nbformat_minor": 2
}
